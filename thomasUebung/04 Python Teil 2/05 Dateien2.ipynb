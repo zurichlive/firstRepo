{
 "cells": [
  {
   "cell_type": "markdown",
   "metadata": {},
   "source": [
    "# Dateien\n",
    "Dateien sind sind sehr praktisch. Mit ihnen kann man neue Daten einlesen und abspeichern. Wie geht das eigentlich mit Python?"
   ]
  },
  {
   "cell_type": "markdown",
   "metadata": {},
   "source": [
    "## Eine Textdatei lesen und ihren Inhalt ausgeben"
   ]
  },
  {
   "cell_type": "code",
   "execution_count": 1,
   "metadata": {},
   "outputs": [
    {
     "name": "stdout",
     "output_type": "stream",
     "text": [
      "Hallo Leute.\n",
      "Ich bin eine wunderschöne weitere Zeile.\n"
     ]
    }
   ],
   "source": [
    "# Wir öffnen die Datei lesen.txt zum Lesen (\"r\") und speichern ihren Inhalt in die Variable file\n",
    "file = open(\"lesen.txt\", \"r\")\n",
    "\n",
    "# Wir gehen alle Zeilen nacheinander durch\n",
    "# In der txt-Datei stehen für uns nicht sichtbare Zeilenumbruchszeichen, durch die jeweils das Ende einer Zeile markiert ist\n",
    "for line in file:\n",
    "    # Eine Zeile ohne Zeilenumbruch ausgeben\n",
    "    print(line.strip())\n",
    "file.close()"
   ]
  },
  {
   "cell_type": "markdown",
   "metadata": {},
   "source": [
    "## In eine Textdatei schreiben\n",
    "In eine Textdatei zu schreiben ist fast genauso einfach wie sie zu lesen:"
   ]
  },
  {
   "cell_type": "code",
   "execution_count": 8,
   "metadata": {},
   "outputs": [
    {
     "name": "stdout",
     "output_type": "stream",
     "text": [
      "Max\n",
      "Monika\n",
      "Erik\n",
      "Franziska\n",
      "Max\n",
      "Monika\n",
      "Erik\n",
      "Franziska\n"
     ]
    }
   ],
   "source": [
    "# Wir öffnen eine Datei zum Schreiben (\"w\": write) \n",
    "file = open(\"schreiben.txt\", \"a\")\n",
    "\n",
    "students = [\"Max\", \"Monika\", \"Erik\", \"Franziska\"]\n",
    "\n",
    "# Wir loopen mit einer for-Schleife durch die Liste students\n",
    "for student in students:\n",
    "    # Mit der write-Methode schreiben wir den aktuellen String student und einen Zeilenumbruch in das file-Objekt\n",
    "    file.write(student + \"\\n\")\n",
    "\n",
    "# Abschließend müssen wir die Datei wieder schließen\n",
    "file.close()\n",
    "with open(\"schreiben.txt\", \"r\") as newfile:\n",
    "    for line in newfile:\n",
    "        print(line.strip())\n",
    "        \n"
   ]
  },
  {
   "cell_type": "markdown",
   "metadata": {},
   "source": [
    "## Dateien öffnen mit with\n",
    "Wenn wir Dateien mit einer with-Konstruktion öffnen, dann brauchen wir sie nicht mehr explizit mit der close()-Methode schließen."
   ]
  },
  {
   "cell_type": "code",
   "execution_count": 12,
   "metadata": {},
   "outputs": [
    {
     "name": "stdout",
     "output_type": "stream",
     "text": [
      "Hallo Leute.\n",
      "Ich bin eine wunderschöne weitere Zeile.\n"
     ]
    }
   ],
   "source": [
    "with open(\"lesen.txt\", \"r\") as file:\n",
    "    for line in file:\n",
    "        print(line.strip())"
   ]
  },
  {
   "cell_type": "markdown",
   "metadata": {},
   "source": [
    "## CSV-Datei lesen\n",
    "CSV steht für comma separated values. Auch solche csv-Dateien können wir mit Python auslesen."
   ]
  },
  {
   "cell_type": "code",
   "execution_count": 11,
   "metadata": {},
   "outputs": [
    {
     "name": "stdout",
     "output_type": "stream",
     "text": [
      "MUC: 1800000\n",
      "BER: 3000000\n",
      "BUD: 2000000\n"
     ]
    }
   ],
   "source": [
    "with open(\"datei.csv\") as file:\n",
    "    for line in file:\n",
    "        data = line.split(\";\")\n",
    "        print(data[2].strip() + \": \" + data[1].strip())"
   ]
  },
  {
   "cell_type": "markdown",
   "metadata": {},
   "source": [
    "## CSV-Datei lesen (und Daten überspringen)\n",
    "\n",
    "CSV Dateien sind genauso dateien wie jede andere auch. Für sie ist es ganz z.B. ganz praktisch wenn du Zeilen überspringen kannst. "
   ]
  },
  {
   "cell_type": "code",
   "execution_count": 12,
   "metadata": {},
   "outputs": [
    {
     "name": "stdout",
     "output_type": "stream",
     "text": [
      "['Berlin', '3000000', 'BER\\n']\n"
     ]
    }
   ],
   "source": [
    "with open(\"datei.csv\") as file:\n",
    "    for line in file:\n",
    "        data = line.split(\";\")\n",
    "        \n",
    "        if int(data[1]) < 2000000:\n",
    "            continue\n",
    "        \n",
    "        if data[2] == \"BUD\":\n",
    "            continue\n",
    "        \n",
    "        print(data)"
   ]
  },
  {
   "cell_type": "markdown",
   "metadata": {},
   "source": [
    "## Übung\n",
    "- Zum ersten mal können wir endlich mit einem \"echten\" Datensatz arbeiten!\n",
    "- Besorgt euch die datei https://data.stadt-zuerich.ch/dataset/pd-stapo-hundenamen/resource/8bf2127d-c354-4834-8590-9666cbd6e160\n",
    "- Ihr findet sie auch im Ordner 20151001_hundenamen.csv\n",
    "- Findet heraus wie oft der Hundename \"Aaron\" zwischen 2000 - 2012 gebraucht wurde. "
   ]
  },
  {
   "cell_type": "code",
   "execution_count": 8,
   "metadata": {},
   "outputs": [
    {
     "name": "stdout",
     "output_type": "stream",
     "text": [
      "True\n"
     ]
    }
   ],
   "source": [
    "#Hinweis 1:\n",
    "n = \"1975\"\n",
    "print(int(n) < 1990)"
   ]
  },
  {
   "cell_type": "code",
   "execution_count": 9,
   "metadata": {},
   "outputs": [
    {
     "name": "stdout",
     "output_type": "stream",
     "text": [
      "1990\n",
      "1992\n"
     ]
    }
   ],
   "source": [
    "# Hinweis 2:\n",
    "jahre = [\"Year\", \"1990\", \"1992\"]\n",
    "\n",
    "for jahr in jahre:\n",
    "    if jahr == \"Year\":\n",
    "        continue\n",
    "    print(int(jahr))"
   ]
  },
  {
   "cell_type": "code",
   "execution_count": 50,
   "metadata": {},
   "outputs": [
    {
     "name": "stdout",
     "output_type": "stream",
     "text": [
      "Nach welchem Hundenamen möchten Sie suchen? Sir\n",
      "[['\"Daisy  Desirée Rainerschlössel\"', '2011', '\"w\"'], ['\"Eska-Sira\"', '2004', '\"w\"'], ['\"Everest First Sir John Bonito\"', '2010', '\"m\"'], ['\"Sir Bubbles\"', '2012', '\"m\"'], ['\"Sir Collin-Flash\"', '2010', '\"m\"'], ['\"Sir Hustings\"', '2007', '\"m\"'], ['\"Sir Vladimir\"', '2012', '\"m\"'], ['\"Sira\"', '2009', '\"w\"'], ['\"Sira\"', '2010', '\"w\"'], ['\"Sira\"', '2008', '\"w\"'], ['\"Sira\"', '2006', '\"w\"'], ['\"Sira\"', '2005', '\"w\"'], ['\"Sira\"', '2004', '\"w\"'], ['\"Siri\"', '2008', '\"w\"'], ['\"Siri\"', '2012', '\"w\"'], ['\"Siri (Bella)\"', '2005', '\"w\"'], ['\"Siri (PluckyJumper)\"', '2010', '\"w\"'], ['\"Siria\"', '2004', '\"w\"'], ['\"Siro\"', '2001', '\"m\"'], ['\"Siro\"', '2001', '\"m\"'], ['\"Siro\"', '2010', '\"m\"'], ['\"Sirya\"', '2007', '\"w\"'], ['\"X-Sir Smokey\"', '2011', '\"m\"']]\n"
     ]
    }
   ],
   "source": [
    "### Hundenamen-Check\n",
    "### \n",
    "resultlist = []\n",
    "range_begin = 2000\n",
    "range_end = 2012\n",
    "search_name = \"Sir\"\n",
    "\n",
    "search_name = input(\"Nach welchem Hundenamen möchten Sie suchen? \")\n",
    "with open(\"20151001_hundenamen2.csv\", \"r\") as input_file:\n",
    "    for line in input_file:\n",
    "        # iterate through every line\n",
    "        # if(line.count(',')>2:\n",
    "        # line = line.replace('\"','')\n",
    "        \n",
    "        # split line in list\n",
    "        data = line.strip().split(',')\n",
    "        \n",
    "        counter = 0\n",
    "        found_problem = False\n",
    "        problem_id = 0\n",
    "        for element in data:\n",
    "            # iterate through list\n",
    "            if element[0] != '\"':\n",
    "                # if element is integer we don't care\n",
    "                try:\n",
    "                    int(element)\n",
    "                    continue\n",
    "                except Exception: \n",
    "                    # element is string, now we care\n",
    "                    # now we have a string that had a , so we have to put it together again\n",
    "                    # we concatenate the string with the string before\n",
    "                    data[counter-1] = data[counter-1]+data[counter]\n",
    "                    # mark a problem\n",
    "                    found_problem = True\n",
    "                    problem_id = counter\n",
    "            # counter++\n",
    "            counter = counter + 1\n",
    "        # we had to fix the , in this line, so we have to remove the now empty column\n",
    "        if found_problem:\n",
    "            data.pop(problem_id)\n",
    "        \n",
    "        if search_name.lower() in data[0].lower():\n",
    "            # check if name matches\n",
    "            # print(data)\n",
    "            # print(data[1])\n",
    "            if int(data[1]) in range(range_begin,range_end+1):\n",
    "                # check if year is in range\n",
    "                # print(data)\n",
    "                resultlist.append(data)\n",
    "                \n",
    "print(resultlist)"
   ]
  },
  {
   "cell_type": "code",
   "execution_count": null,
   "metadata": {},
   "outputs": [],
   "source": []
  }
 ],
 "metadata": {
  "kernelspec": {
   "display_name": "Python 3",
   "language": "python",
   "name": "python3"
  },
  "language_info": {
   "codemirror_mode": {
    "name": "ipython",
    "version": 3
   },
   "file_extension": ".py",
   "mimetype": "text/x-python",
   "name": "python",
   "nbconvert_exporter": "python",
   "pygments_lexer": "ipython3",
   "version": "3.7.0"
  }
 },
 "nbformat": 4,
 "nbformat_minor": 2
}
