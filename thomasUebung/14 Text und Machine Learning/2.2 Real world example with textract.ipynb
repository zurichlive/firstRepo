{
 "cells": [
  {
   "cell_type": "markdown",
   "metadata": {},
   "source": [
    "# Extrahieren von Text zum Social Media Archiv \n",
    "- https://democrats-intelligence.house.gov/social-media-content/\n",
    "- ```pip install progressbar```"
   ]
  },
  {
   "cell_type": "code",
   "execution_count": 20,
   "metadata": {},
   "outputs": [],
   "source": [
    "import textract\n",
    "import re\n",
    "import os\n",
    "import pandas as pd\n",
    "import progressbar\n",
    "import time"
   ]
  },
  {
   "cell_type": "markdown",
   "metadata": {},
   "source": [
    "## Mit einer Datei ausprobieren"
   ]
  },
  {
   "cell_type": "markdown",
   "metadata": {},
   "source": [
    "- Einleseversuch"
   ]
  },
  {
   "cell_type": "code",
   "execution_count": 9,
   "metadata": {},
   "outputs": [
    {
     "data": {
      "text/plain": [
       "\"b'Ad ID\\\\n\\\\n374\\\\n\\\\nAd Text\\\\n\\\\nJoin us because we care. Black matters.\\\\n\\\\nAd Landing Page\\\\n\\\\nhttps://www.facebook.com/Black-Matters-1579673598947501 /\\\\n\\\\nAd Targeting\\\\n\\\\nLocation: United States: Baltimore (+20 km) Maryland; St. Louis (+20 km)\\\\nMissouri\\\\nExcluded Connections: Exclude people who like Black Matters\\\\nAge: 18 - 65+\\\\nLanguage: English (UK) or English (US)\\\\nPlacements: News Feed on desktop computers or News Feed on mobile\\\\ndevices\\\\n\\\\nAd Impressions\\\\n\\\\n137\\\\n\\\\nAd Clicks\\\\n\\\\n0\\\\n\\\\nAd Spend\\\\n\\\\n44.87 RUB\\\\n\\\\nAd Creation Date\\\\n\\\\n06/10/15 02:59:53 AM PDT\\\\n\\\\nP(1)0000054\\\\n\\\\nRedactions Completed at the Direction of Ranking Member of the US House Permanent Select Committee on Intelligence\\\\x0cSuggested Page\\\\n\\\\nBlack Matters\\\\nSponsored\\\\n\\\\nJoin us because we care. Black matters.\\\\n\\\\nBlack Matters\\\\nCommun,ty\\\\n224,537 people like  nis.\\\\n\\\\n,` Like Page\\\\n\\\\nP(1)0000055\\\\n\\\\nRedactions Completed at the Direction of Ranking Member of the US House Permanent Select Committee on Intelligence\\\\x0c'\""
      ]
     },
     "execution_count": 9,
     "metadata": {},
     "output_type": "execute_result"
    }
   ],
   "source": [
    "#Testing with one file\n",
    "text = textract.process('files/P(1)0000054.pdf', method='pdfminer')\n",
    "text = str(text).replace(\"\\n\\n\", \" \")\n",
    "text = str(text).replace(\"\\n\", \" \")\n",
    "text"
   ]
  },
  {
   "cell_type": "markdown",
   "metadata": {},
   "source": [
    "- Suchen nach dem Adtext:"
   ]
  },
  {
   "cell_type": "code",
   "execution_count": 10,
   "metadata": {},
   "outputs": [
    {
     "data": {
      "text/plain": [
       "'Join us because we care. Black matters.'"
      ]
     },
     "execution_count": 10,
     "metadata": {},
     "output_type": "execute_result"
    }
   ],
   "source": [
    "adtext = re.search(\"Ad Text.*Ad Landing Page\", text)\n",
    "adtext = re.search(\"Ad Text.*Ad Landing Page\", text).group().replace(\"Ad Landing Page\", \"\")\n",
    "adtext = adtext.replace(\"Ad Text\", \"\").replace(\"\\\\n\", \" \").strip()\n",
    "adtext"
   ]
  },
  {
   "cell_type": "code",
   "execution_count": 25,
   "metadata": {},
   "outputs": [
    {
     "data": {
      "text/plain": [
       "'Location: United States: Baltimore (+20 km) Maryland; St. Louis (+20 km)\\\\nMissouri\\\\nExcluded Connections: Exclude people who like Black Matters\\\\n'"
      ]
     },
     "execution_count": 25,
     "metadata": {},
     "output_type": "execute_result"
    }
   ],
   "source": [
    "def get_location(text):\n",
    "    if re.search(\"Location.*(Age)\", text) != None:\n",
    "        pattern = re.search(\"Location.*(Age)\", text)\n",
    "        loc = pattern.group().replace('Age','').replace('Location - Living In: ','')\n",
    "    else:\n",
    "        loc = 'N/A'\n",
    "    return loc\n",
    "get_location(text)"
   ]
  },
  {
   "cell_type": "code",
   "execution_count": 26,
   "metadata": {},
   "outputs": [
    {
     "data": {
      "text/plain": [
       "'06/10/15 02:59:53 AM PDT'"
      ]
     },
     "execution_count": 26,
     "metadata": {},
     "output_type": "execute_result"
    }
   ],
   "source": [
    "def get_date(text):\n",
    "    if re.search(\"Creation Date.*(Redactions)\", str(text)) != None:\n",
    "        pattern = re.search(\"Creation Date.*(Redactions)\", str(text))\n",
    "        pattern = pattern.group().replace('Creation Date\\\\n\\\\n','')\n",
    "        date = re.search(\"\\d\\d/\\d\\d/\\d\\d \\d\\d:\\d\\d:\\d\\d [A-Z][A-Z] [A-Z]{3}\", pattern)\n",
    "        if date != None:\n",
    "            date = date.group()\n",
    "    else: \n",
    "        date = 'N/A'\n",
    "    return date\n",
    "get_date(text)"
   ]
  },
  {
   "cell_type": "code",
   "execution_count": 13,
   "metadata": {},
   "outputs": [
    {
     "data": {
      "text/plain": [
       "'0'"
      ]
     },
     "execution_count": 13,
     "metadata": {},
     "output_type": "execute_result"
    }
   ],
   "source": [
    "def get_ad_klicks(text):\n",
    "    if re.search(\"Ad Clicks.*\", text) != None:\n",
    "        klicks = re.search(\"Ad Clicks.*\", text)\n",
    "        klicks = klicks.group()[:25].replace(\",\", \"\")\n",
    "        klicks = re.search(\"[0-9]+\", klicks)\n",
    "        if klicks != None:\n",
    "            klicks = klicks.group()\n",
    "    else:\n",
    "        klicks = 'N/A'\n",
    "    return klicks\n",
    "get_ad_klicks(text)"
   ]
  },
  {
   "cell_type": "code",
   "execution_count": 14,
   "metadata": {},
   "outputs": [
    {
     "data": {
      "text/plain": [
       "'137'"
      ]
     },
     "execution_count": 14,
     "metadata": {},
     "output_type": "execute_result"
    }
   ],
   "source": [
    "def get_ad_impressions(text):\n",
    "    if re.search(\"Ad Impressions.*\", text) != None:\n",
    "        imps = re.search(\"Ad Impressions.*\", text)\n",
    "        imps = imps.group()[:25].replace(\",\", \"\")\n",
    "        imps = re.search(\"[0-9]+\", imps)\n",
    "        if imps != None:\n",
    "            imps = imps.group()\n",
    "    else:\n",
    "        imps = 'N/A'\n",
    "    return imps\n",
    "get_ad_impressions(text)"
   ]
  },
  {
   "cell_type": "code",
   "execution_count": 15,
   "metadata": {},
   "outputs": [
    {
     "data": {
      "text/plain": [
       "'44.87'"
      ]
     },
     "execution_count": 15,
     "metadata": {},
     "output_type": "execute_result"
    }
   ],
   "source": [
    "def get_ad_spend(text):\n",
    "    if re.search(\"Ad Spend.*\", text) != None:\n",
    "        adspend = re.search(\"Ad Spend.*\", text)\n",
    "        adspend = adspend.group()[:25].replace(\",\", \"\")\n",
    "        adspend = re.search(\"[0-9]+.[0-9]+\", adspend)\n",
    "        if adspend != None:\n",
    "            adspend = adspend.group()\n",
    "    else:\n",
    "        adspend = 'N/A'\n",
    "    return adspend\n",
    "get_ad_spend(text)"
   ]
  },
  {
   "cell_type": "markdown",
   "metadata": {},
   "source": [
    "## Aufbau der Dateiliste"
   ]
  },
  {
   "cell_type": "code",
   "execution_count": 16,
   "metadata": {},
   "outputs": [
    {
     "name": "stdout",
     "output_type": "stream",
     "text": [
      "2.1 Importing Text from Everywhere.ipynb\r\n",
      "2.2 Real world example with textract.ipynb\r\n",
      "2.3 Named Entities Recognition.ipynb\r\n",
      "2.4 Classifying Text.ipynb\r\n",
      "2.5 OpenCV - Gesichtserkennung.ipynb\r\n",
      "2.6 Document Similarity with TDF-IDF.ipynb\r\n",
      "2.7 [OPTIONAL] Similar Words and Sentences with spaCy.ipynb\r\n",
      "2.8 [OPTIONAL] Objekterkennung as a service mit IBM Vision.ipynb\r\n",
      "2.9 [OPTIONAL] Sentiment, Spracherkennung, Spellchecking.ipynb\r\n",
      "Wohnung.docx\r\n",
      "bild.jpg\r\n",
      "example.docx\r\n",
      "example.pdf\r\n",
      "example.png\r\n",
      "\u001b[34mfiles\u001b[m\u001b[m\r\n",
      "fruitbowl.jpg\r\n",
      "godfather.txt\r\n",
      "guardian.png\r\n",
      "\u001b[34mhaarcascades\u001b[m\u001b[m\r\n",
      "\u001b[34minstagram\u001b[m\u001b[m\r\n",
      "obama.txt\r\n",
      "readable.csv\r\n",
      "schindlers_list.txt\r\n",
      "shawnshank.txt\r\n",
      "\u001b[34msongtexte\u001b[m\u001b[m\r\n",
      "tf-idf.jpeg\r\n"
     ]
    }
   ],
   "source": [
    "!ls"
   ]
  },
  {
   "cell_type": "code",
   "execution_count": 21,
   "metadata": {},
   "outputs": [],
   "source": [
    "#Creating file list\n",
    "lt = sorted(os.listdir(\"files\"))"
   ]
  },
  {
   "cell_type": "code",
   "execution_count": 22,
   "metadata": {},
   "outputs": [],
   "source": [
    "lst = []\n",
    "for elem in lt:\n",
    "    if \".pdf\" in elem:\n",
    "        lst.append(elem)"
   ]
  },
  {
   "cell_type": "code",
   "execution_count": 23,
   "metadata": {},
   "outputs": [],
   "source": [
    "#lst = lst[0:4]"
   ]
  },
  {
   "cell_type": "code",
   "execution_count": 27,
   "metadata": {
    "scrolled": true
   },
   "outputs": [
    {
     "name": "stderr",
     "output_type": "stream",
     "text": [
      "100% |########################################################################|\n"
     ]
    }
   ],
   "source": [
    "#Creating dictionary for:\n",
    "\n",
    "#'Location', 'Number', 'Date', 'Interests',\n",
    "#'Age', 'Language', 'Placements', 'Ad Clicks',\n",
    "#'Ad Impressions', 'Ad Spend'\n",
    "\n",
    "bar = progressbar.ProgressBar()\n",
    "results = []\n",
    "\n",
    "for elem,i in zip(lst, bar(range(len(lst)-1))):\n",
    "    #print(elem)\n",
    "    if 'ultimate_names.csv' in elem:\n",
    "        continue\n",
    "    \n",
    "    else:\n",
    "        \n",
    "        text = textract.process('files/'+elem, method='pdfminer')\n",
    "        text = str(text).replace(\"\\n\\n\", \" \")\n",
    "        text = str(text).replace(\"\\n\", \" \")\n",
    "\n",
    "    \n",
    "        location = get_location(text)\n",
    "        date = get_date(text)\n",
    "        klicks = get_ad_klicks(text)\n",
    "        imps = get_ad_impressions(text)\n",
    "        adspend = get_ad_spend(text)\n",
    "        \n",
    "        \n",
    "        if re.search(\"Interests:.*\", text) != None:\n",
    "            interests = re.search(\"Interests:.*\", text).group().split('\\\\n')[0]\n",
    "        else:\n",
    "            interests = 'N/A'\n",
    "    \n",
    "        if re.search(\"Age:.*\", text) != None:\n",
    "            age = re.search(\"Age:.*\", text).group().split('\\\\n')[0]\n",
    "        else:\n",
    "            age = 'N/A'\n",
    "        \n",
    "        if re.search(\"Language:.*\", text) != None:\n",
    "            lang = re.search(\"Language:.*\", text).group().split('\\\\n')[0]\n",
    "        else:\n",
    "            lang = 'N/A'\n",
    "    \n",
    "        if re.search(\"Placements:.*\", text) != None:\n",
    "            place = re.search(\"Placements:.*\", text).group().split('\\\\n')[0]\n",
    "        else:\n",
    "            place = 'N/A'\n",
    "    \n",
    "        if re.search(\"Ad Text.*Ad Landing Page\", text) != None:\n",
    "            adtext = re.search(\"Ad Text.*Ad Landing Page\", text).group().replace(\"Ad Landing Page\", \"\")\n",
    "            adtext = adtext.replace(\"Ad Text\", \"\").replace(\"\\\\n\", \" \").strip()\n",
    "        else:\n",
    "            place = 'N/A'\n",
    "        \n",
    "        mini_dict = {'Location': location,\n",
    "                 'Number': elem,\n",
    "                 'Date': date,\n",
    "                 'Interests': interests,\n",
    "                 'Age': age,\n",
    "                 'Language': lang,\n",
    "                 'Placements': place,\n",
    "                 'Ad Text': adtext,\n",
    "                 'Ad Clicks': klicks,\n",
    "                 'Ad Impressions': imps,\n",
    "                 'Ad Spend': adspend}\n",
    "        \n",
    "        results.append(mini_dict)\n"
   ]
  },
  {
   "cell_type": "markdown",
   "metadata": {},
   "source": [
    "### Abspeichern im Dataframe"
   ]
  },
  {
   "cell_type": "code",
   "execution_count": 28,
   "metadata": {},
   "outputs": [],
   "source": [
    "df = pd.DataFrame(results)"
   ]
  },
  {
   "cell_type": "code",
   "execution_count": 29,
   "metadata": {},
   "outputs": [
    {
     "data": {
      "text/html": [
       "<div>\n",
       "<style scoped>\n",
       "    .dataframe tbody tr th:only-of-type {\n",
       "        vertical-align: middle;\n",
       "    }\n",
       "\n",
       "    .dataframe tbody tr th {\n",
       "        vertical-align: top;\n",
       "    }\n",
       "\n",
       "    .dataframe thead th {\n",
       "        text-align: right;\n",
       "    }\n",
       "</style>\n",
       "<table border=\"1\" class=\"dataframe\">\n",
       "  <thead>\n",
       "    <tr style=\"text-align: right;\">\n",
       "      <th></th>\n",
       "      <th>Ad Clicks</th>\n",
       "      <th>Ad Impressions</th>\n",
       "      <th>Ad Spend</th>\n",
       "      <th>Ad Text</th>\n",
       "      <th>Age</th>\n",
       "      <th>Date</th>\n",
       "      <th>Interests</th>\n",
       "      <th>Language</th>\n",
       "      <th>Location</th>\n",
       "      <th>Number</th>\n",
       "      <th>Placements</th>\n",
       "    </tr>\n",
       "  </thead>\n",
       "  <tbody>\n",
       "    <tr>\n",
       "      <th>0</th>\n",
       "      <td>0</td>\n",
       "      <td>137</td>\n",
       "      <td>44.87</td>\n",
       "      <td>Join us because we care. Black matters.</td>\n",
       "      <td>Age: 18 - 65+</td>\n",
       "      <td>06/10/15 02:59:53 AM PDT</td>\n",
       "      <td>N/A</td>\n",
       "      <td>Language: English (UK) or English (US)</td>\n",
       "      <td>Location: United States: Baltimore (+20 km) Ma...</td>\n",
       "      <td>P(1)0000054.pdf</td>\n",
       "      <td>Placements: News Feed on desktop computers or ...</td>\n",
       "    </tr>\n",
       "    <tr>\n",
       "      <th>1</th>\n",
       "      <td>35</td>\n",
       "      <td>452</td>\n",
       "      <td>184.81</td>\n",
       "      <td>NOT EVERY BOY WANTS TO BE A SOLDIER.  A beauti...</td>\n",
       "      <td>Age: 18 - 65+</td>\n",
       "      <td>06/23/15 07:04:01 AM PDT</td>\n",
       "      <td>N/A</td>\n",
       "      <td>N/A</td>\n",
       "      <td>United States\\n\\n</td>\n",
       "      <td>P(1)0000180.pdf</td>\n",
       "      <td>Placements: News Feed on desktop computers or ...</td>\n",
       "    </tr>\n",
       "    <tr>\n",
       "      <th>2</th>\n",
       "      <td>N/A</td>\n",
       "      <td>N/A</td>\n",
       "      <td>N/A</td>\n",
       "      <td>NOT EVERY BOY WANTS TO BE A SOLDIER.  A beauti...</td>\n",
       "      <td>Age:  18 - 65+</td>\n",
       "      <td>N/A</td>\n",
       "      <td>N/A</td>\n",
       "      <td>N/A</td>\n",
       "      <td>Location - Living  In:  United States \\n\\n</td>\n",
       "      <td>P(1)0000182.pdf</td>\n",
       "      <td>N/A</td>\n",
       "    </tr>\n",
       "    <tr>\n",
       "      <th>3</th>\n",
       "      <td>0</td>\n",
       "      <td>31</td>\n",
       "      <td>33.59</td>\n",
       "      <td>?????? ??? ????? ? ??????????</td>\n",
       "      <td>Age: 18 - 65+</td>\n",
       "      <td>06/09/15 03:50:21 AM PDT</td>\n",
       "      <td>N/A</td>\n",
       "      <td>Language: English (UK) or English (US)</td>\n",
       "      <td>Location: United States\\nExcluded Connections:...</td>\n",
       "      <td>P(1)0001844.pdf</td>\n",
       "      <td>Placements: News Feed on desktop computers, Ne...</td>\n",
       "    </tr>\n",
       "    <tr>\n",
       "      <th>4</th>\n",
       "      <td>4</td>\n",
       "      <td>326</td>\n",
       "      <td>45.94</td>\n",
       "      <td>California... knows how to party California......</td>\n",
       "      <td>Age: 18 - 65+</td>\n",
       "      <td>06/10/15 07:34:52 AM PDT</td>\n",
       "      <td>N/A</td>\n",
       "      <td>N/A</td>\n",
       "      <td>Location: United States: Baltimore Maryland; F...</td>\n",
       "      <td>P(1)0002111.pdf</td>\n",
       "      <td>Placements: News Feed on desktop computers or ...</td>\n",
       "    </tr>\n",
       "    <tr>\n",
       "      <th>5</th>\n",
       "      <td>517</td>\n",
       "      <td>1</td>\n",
       "      <td>99.97</td>\n",
       "      <td>Since 2010, over 350 of our lives have been ta...</td>\n",
       "      <td>Age: 18 - 65+</td>\n",
       "      <td>06/12/15 03:13:16 AM PDT</td>\n",
       "      <td>N/A</td>\n",
       "      <td>N/A</td>\n",
       "      <td>Location: United States  Baltimore Maryland: F...</td>\n",
       "      <td>P(1)0002112.pdf</td>\n",
       "      <td>Placements: News Feed on desktop computers or ...</td>\n",
       "    </tr>\n",
       "    <tr>\n",
       "      <th>6</th>\n",
       "      <td>7</td>\n",
       "      <td>125</td>\n",
       "      <td>34.77</td>\n",
       "      <td>\\'Just like Trayvon Martin, race mattered for ...</td>\n",
       "      <td>Age: 18 - 65+</td>\n",
       "      <td>06/11/15 06:51:30 AM PDT</td>\n",
       "      <td>N/A</td>\n",
       "      <td>N/A</td>\n",
       "      <td>Location: United States: Baltimore Maryland; F...</td>\n",
       "      <td>P(1)0002113.pdf</td>\n",
       "      <td>Placements: News Feed on desktop computers or ...</td>\n",
       "    </tr>\n",
       "    <tr>\n",
       "      <th>7</th>\n",
       "      <td>17</td>\n",
       "      <td>168</td>\n",
       "      <td>31.54</td>\n",
       "      <td>Race war started by Texas teacher  A Texas fou...</td>\n",
       "      <td>Age: 18 - 65+</td>\n",
       "      <td>06/11/15 07:03:58 AM PDT</td>\n",
       "      <td>N/A</td>\n",
       "      <td>N/A</td>\n",
       "      <td>Location: United States: Baltimore Maryland; F...</td>\n",
       "      <td>P(1)0002114.pdf</td>\n",
       "      <td>Placements: News Feed on desktop computers or ...</td>\n",
       "    </tr>\n",
       "    <tr>\n",
       "      <th>8</th>\n",
       "      <td>18</td>\n",
       "      <td>482</td>\n",
       "      <td>90.65</td>\n",
       "      <td>The image of 1938 shows several African Americ...</td>\n",
       "      <td>Age: 18 - 65+</td>\n",
       "      <td>06/15/15 07:21:33 AM PDT</td>\n",
       "      <td>N/A</td>\n",
       "      <td>N/A</td>\n",
       "      <td>Location: United States: Baltimore Maryland; F...</td>\n",
       "      <td>P(1)0002115.pdf</td>\n",
       "      <td>Placements: News Feed on desktop computers or ...</td>\n",
       "    </tr>\n",
       "  </tbody>\n",
       "</table>\n",
       "</div>"
      ],
      "text/plain": [
       "  Ad Clicks Ad Impressions Ad Spend  \\\n",
       "0         0            137    44.87   \n",
       "1        35            452   184.81   \n",
       "2       N/A            N/A      N/A   \n",
       "3         0             31    33.59   \n",
       "4         4            326    45.94   \n",
       "5       517              1    99.97   \n",
       "6         7            125    34.77   \n",
       "7        17            168    31.54   \n",
       "8        18            482    90.65   \n",
       "\n",
       "                                             Ad Text              Age  \\\n",
       "0            Join us because we care. Black matters.    Age: 18 - 65+   \n",
       "1  NOT EVERY BOY WANTS TO BE A SOLDIER.  A beauti...    Age: 18 - 65+   \n",
       "2  NOT EVERY BOY WANTS TO BE A SOLDIER.  A beauti...  Age:  18 - 65+    \n",
       "3                      ?????? ??? ????? ? ??????????    Age: 18 - 65+   \n",
       "4  California... knows how to party California......    Age: 18 - 65+   \n",
       "5  Since 2010, over 350 of our lives have been ta...    Age: 18 - 65+   \n",
       "6  \\'Just like Trayvon Martin, race mattered for ...    Age: 18 - 65+   \n",
       "7  Race war started by Texas teacher  A Texas fou...    Age: 18 - 65+   \n",
       "8  The image of 1938 shows several African Americ...    Age: 18 - 65+   \n",
       "\n",
       "                       Date Interests                                Language  \\\n",
       "0  06/10/15 02:59:53 AM PDT       N/A  Language: English (UK) or English (US)   \n",
       "1  06/23/15 07:04:01 AM PDT       N/A                                     N/A   \n",
       "2                       N/A       N/A                                     N/A   \n",
       "3  06/09/15 03:50:21 AM PDT       N/A  Language: English (UK) or English (US)   \n",
       "4  06/10/15 07:34:52 AM PDT       N/A                                     N/A   \n",
       "5  06/12/15 03:13:16 AM PDT       N/A                                     N/A   \n",
       "6  06/11/15 06:51:30 AM PDT       N/A                                     N/A   \n",
       "7  06/11/15 07:03:58 AM PDT       N/A                                     N/A   \n",
       "8  06/15/15 07:21:33 AM PDT       N/A                                     N/A   \n",
       "\n",
       "                                            Location           Number  \\\n",
       "0  Location: United States: Baltimore (+20 km) Ma...  P(1)0000054.pdf   \n",
       "1                                  United States\\n\\n  P(1)0000180.pdf   \n",
       "2         Location - Living  In:  United States \\n\\n  P(1)0000182.pdf   \n",
       "3  Location: United States\\nExcluded Connections:...  P(1)0001844.pdf   \n",
       "4  Location: United States: Baltimore Maryland; F...  P(1)0002111.pdf   \n",
       "5  Location: United States  Baltimore Maryland: F...  P(1)0002112.pdf   \n",
       "6  Location: United States: Baltimore Maryland; F...  P(1)0002113.pdf   \n",
       "7  Location: United States: Baltimore Maryland; F...  P(1)0002114.pdf   \n",
       "8  Location: United States: Baltimore Maryland; F...  P(1)0002115.pdf   \n",
       "\n",
       "                                          Placements  \n",
       "0  Placements: News Feed on desktop computers or ...  \n",
       "1  Placements: News Feed on desktop computers or ...  \n",
       "2                                                N/A  \n",
       "3  Placements: News Feed on desktop computers, Ne...  \n",
       "4  Placements: News Feed on desktop computers or ...  \n",
       "5  Placements: News Feed on desktop computers or ...  \n",
       "6  Placements: News Feed on desktop computers or ...  \n",
       "7  Placements: News Feed on desktop computers or ...  \n",
       "8  Placements: News Feed on desktop computers or ...  "
      ]
     },
     "execution_count": 29,
     "metadata": {},
     "output_type": "execute_result"
    }
   ],
   "source": [
    "df"
   ]
  },
  {
   "cell_type": "markdown",
   "metadata": {},
   "source": [
    "### Abspeichern als CSV"
   ]
  },
  {
   "cell_type": "code",
   "execution_count": 30,
   "metadata": {},
   "outputs": [],
   "source": [
    "df.to_csv('readable.csv')"
   ]
  },
  {
   "cell_type": "code",
   "execution_count": null,
   "metadata": {
    "collapsed": true
   },
   "outputs": [],
   "source": []
  }
 ],
 "metadata": {
  "kernelspec": {
   "display_name": "Python 3",
   "language": "python",
   "name": "python3"
  },
  "language_info": {
   "codemirror_mode": {
    "name": "ipython",
    "version": 3
   },
   "file_extension": ".py",
   "mimetype": "text/x-python",
   "name": "python",
   "nbconvert_exporter": "python",
   "pygments_lexer": "ipython3",
   "version": "3.7.0"
  }
 },
 "nbformat": 4,
 "nbformat_minor": 2
}
