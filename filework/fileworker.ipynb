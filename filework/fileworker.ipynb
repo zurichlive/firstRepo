{
 "cells": [
  {
   "cell_type": "code",
   "execution_count": 8,
   "metadata": {},
   "outputs": [
    {
     "name": "stdout",
     "output_type": "stream",
     "text": [
      "711867\n",
      "('uploadable.ch', 79874)\n",
      "('kickass-torrents.ch', 59193)\n",
      "('torrentz.ch', 45167)\n",
      "('torrentdownload.ch', 32436)\n",
      "('extratorrent.ch', 30620)\n",
      "('arenabg.ch', 28742)\n",
      "('kickasstorrent.ch', 23818)\n",
      "('torrentdownloads.ch', 20345)\n",
      "('isohunt.ch', 19884)\n",
      "('torrented.ch', 17393)\n"
     ]
    }
   ],
   "source": [
    "search_string = \".ch\"\n",
    "output_file = open(\"ch_urls3.txt\", \"w\")\n",
    "result_list = []\n",
    "\n",
    "with open(\"ch_domains_new.csv\", \"r\") as input_file:\n",
    "\n",
    "    for line in input_file:\n",
    "        # iterate through every line\n",
    "        #print(line)\n",
    "        # read out the current line and \n",
    "        data = line.strip().split(',')\n",
    "        for element in data:\n",
    "            # iterate through every element\n",
    "            if (search_string in element):\n",
    "                # if search occurs in the element add it to result_list and write it to file\n",
    "                result_list.append(element)\n",
    "                output_file.write(element+'\\n')\n",
    "                \n",
    "print(len(result_list))\n",
    "output_file.close()\n",
    "\n",
    "from collections import Counter\n",
    "count = Counter(result_list)\n",
    "\n",
    "for x in range(0,10):\n",
    "    print(count.most_common()[x])\n"
   ]
  },
  {
   "cell_type": "code",
   "execution_count": 7,
   "metadata": {},
   "outputs": [
    {
     "name": "stdout",
     "output_type": "stream",
     "text": [
      "Counter({1: 4, 0: 1, 2: 1})\n"
     ]
    }
   ],
   "source": [
    "import collections as c\n",
    "print(c.Counter([0,1,1,1,1,2]))\n"
   ]
  },
  {
   "cell_type": "code",
   "execution_count": null,
   "metadata": {},
   "outputs": [],
   "source": []
  }
 ],
 "metadata": {
  "kernelspec": {
   "display_name": "Python 3",
   "language": "python",
   "name": "python3"
  },
  "language_info": {
   "codemirror_mode": {
    "name": "ipython",
    "version": 3
   },
   "file_extension": ".py",
   "mimetype": "text/x-python",
   "name": "python",
   "nbconvert_exporter": "python",
   "pygments_lexer": "ipython3",
   "version": "3.7.0"
  }
 },
 "nbformat": 4,
 "nbformat_minor": 2
}
