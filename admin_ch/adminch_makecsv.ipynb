{
 "cells": [
  {
   "cell_type": "code",
   "execution_count": 26,
   "metadata": {},
   "outputs": [],
   "source": [
    "from bs4 import BeautifulSoup\n",
    "import pandas as pd\n",
    "import os"
   ]
  },
  {
   "cell_type": "code",
   "execution_count": 27,
   "metadata": {},
   "outputs": [],
   "source": [
    "## This program loads html, processes them, moves them to the archive and creates csv\n",
    "##\n",
    "##\n",
    "##"
   ]
  },
  {
   "cell_type": "code",
   "execution_count": null,
   "metadata": {},
   "outputs": [],
   "source": []
  },
  {
   "cell_type": "code",
   "execution_count": 28,
   "metadata": {},
   "outputs": [],
   "source": [
    "# returns string without evil characters\n",
    "#\n",
    "#\n",
    "def make_beautiful(temp_string):\n",
    "    temp_string = temp_string.replace('<br><br>','<br>')\n",
    "    temp_string = temp_string.replace('<br>','; ').replace('<td>','').replace('</br>','').replace('</td>','').replace('<br/>','').replace('<td/>','').strip()\n",
    "    if temp_string[len(temp_string)-1] == ';':\n",
    "        temp_string =  temp_string[:-1]\n",
    "    temp_string = temp_string.replace(':;',':')\n",
    "    temp_string = temp_string.replace(' ;',';')\n",
    "    temp_string = temp_string.replace(',;',',')\n",
    "    temp_string = temp_string.replace('.;','.')\n",
    "    temp_string = temp_string.replace('!;','!')\n",
    "    temp_string = temp_string.replace('?;','?')\n",
    "    temp_string = temp_string.replace('&amp;','&')\n",
    "    temp_string = \" \".join(temp_string.split())\n",
    "    return temp_string"
   ]
  },
  {
   "cell_type": "code",
   "execution_count": 32,
   "metadata": {},
   "outputs": [],
   "source": [
    "# returns list with admin.ch-Veranstaltung details of id provided\n",
    "# \n",
    "#\n",
    "def process_html(event_id):\n",
    "    f = open(\"html/\"+str(event_id)+\".html\", encoding='utf-8')\n",
    "    r = BeautifulSoup(f.read(), 'html.parser')\n",
    "    soup = BeautifulSoup(r.text, 'html.parser')\n",
    "    \n",
    "    dic = {}\n",
    "    for elem in r.find_all('tr'):\n",
    "        Key = elem.find('th').text.strip()\n",
    "        Value = elem.find('td').text.strip()\n",
    "        Value = make_beautiful(Value)\n",
    "        Value = Value.replace('\\xa0',' ').replace('\\t','').replace('\\n',' ').strip()\n",
    "        \n",
    "        minidict = {Key:Value}\n",
    "        dic.update(minidict)\n",
    "    # add id\n",
    "    Key = 'ID'\n",
    "    Value = event_id\n",
    "    minidict = {Key:Value}\n",
    "    dic.update(minidict)\n",
    "    # add url\n",
    "    Key = 'URL'\n",
    "    Value = 'https://www.admin.ch/gov/de/start/dokumentation/veranstaltungen.event-id-'+event_id+'.html'\n",
    "    minidict = {Key:Value}\n",
    "    dic.update(minidict)\n",
    "\n",
    "    return dic"
   ]
  },
  {
   "cell_type": "code",
   "execution_count": 30,
   "metadata": {},
   "outputs": [],
   "source": [
    "# returns list with admin.ch-Veranstaltung details of id provided\n",
    "# \n",
    "#\n",
    "def move_html(event_id):\n",
    "    filename_original = \"html/\"+str(event_id)+\".html\"\n",
    "    filename_moved = \"html/archive/\"+str(event_id)+\".html\"\n",
    "    os.rename(filename_original, filename_moved)\n",
    "    "
   ]
  },
  {
   "cell_type": "code",
   "execution_count": 31,
   "metadata": {},
   "outputs": [],
   "source": [
    "#List all the html files and create csv files for them\n",
    "lst = os.listdir('html')\n",
    "for htm in lst:\n",
    "    if \"html\" in htm: \n",
    "        event_id = htm.split(\".\")[0]\n",
    "        dic = process_html(event_id)\n",
    "        dic.update({'File':htm})\n",
    "        pd.DataFrame([dic]).to_csv(\"csvs/\"+event_id+\".csv\", index=False) \n",
    "        move_html(event_id)"
   ]
  },
  {
   "cell_type": "code",
   "execution_count": null,
   "metadata": {},
   "outputs": [],
   "source": []
  }
 ],
 "metadata": {
  "kernelspec": {
   "display_name": "Python 3",
   "language": "python",
   "name": "python3"
  },
  "language_info": {
   "codemirror_mode": {
    "name": "ipython",
    "version": 3
   },
   "file_extension": ".py",
   "mimetype": "text/x-python",
   "name": "python",
   "nbconvert_exporter": "python",
   "pygments_lexer": "ipython3",
   "version": "3.7.0"
  }
 },
 "nbformat": 4,
 "nbformat_minor": 2
}
