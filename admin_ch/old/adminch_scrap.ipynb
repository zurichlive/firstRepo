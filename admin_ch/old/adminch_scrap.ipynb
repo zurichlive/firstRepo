{
 "cells": [
  {
   "cell_type": "code",
   "execution_count": 12,
   "metadata": {},
   "outputs": [],
   "source": [
    "import requests\n",
    "from bs4 import BeautifulSoup"
   ]
  },
  {
   "cell_type": "code",
   "execution_count": 13,
   "metadata": {},
   "outputs": [],
   "source": [
    "## This program gets the html of Veranstaltung id provided and saves them locally\n",
    "##\n",
    "##"
   ]
  },
  {
   "cell_type": "code",
   "execution_count": 14,
   "metadata": {},
   "outputs": [],
   "source": [
    "# Saving off the html code into a folder\n",
    "#\n",
    "#\n",
    "def get_detail_new(event_id):\n",
    "    # get html site for id\n",
    "    r = requests.get('https://www.admin.ch/gov/de/start/dokumentation/veranstaltungen.event-id-'+str(event_id)+'.html')\n",
    "    soup = BeautifulSoup(r.text, 'html.parser')\n",
    "    r = BeautifulSoup(r.text, 'html.parser')\n",
    "    r = r.prettify(\"utf-8\")\n",
    "    \n",
    "    # get title to check if there is a result\n",
    "    result_title = soup.find_all('h1')\n",
    "    try:\n",
    "        # if there is not a result we return empty\n",
    "        if result_title[0].text.strip() == 'Veranstaltung nicht gefunden':\n",
    "            print('No Veranstaltung with id '+str(event_id))\n",
    "            return\n",
    "    except IndexError as e:\n",
    "        print(e)\n",
    "        print(result_title)\n",
    "\n",
    "    \n",
    "    # otherwise we save the html file locally\n",
    "    with open(\"html/\"+str(event_id)+\".html\", \"wb\") as file:\n",
    "        print('Success! '+str(event_id))\n",
    "        file.write(r)\n",
    "        file.close()"
   ]
  },
  {
   "cell_type": "code",
   "execution_count": 20,
   "metadata": {},
   "outputs": [
    {
     "name": "stdout",
     "output_type": "stream",
     "text": [
      "*** Get Veranstaltungs-Detail from admin.ch ***\n",
      "*** Please provide ids\n",
      "Start id: 7041\n",
      "End id (leave empty if only one id is needed): \n",
      "Success! 7041\n",
      "*** Thank you - we are done with Veranstaltungen from admin.ch ***\n"
     ]
    }
   ],
   "source": [
    "# user input\n",
    "#\n",
    "print(\"*** Get Veranstaltungs-Detail from admin.ch ***\")\n",
    "print(\"*** Please provide ids\")\n",
    "start_input = input(\"Start id: \")\n",
    "end_input = input(\"End id (leave empty if only one id is needed): \")\n",
    "\n",
    "start_id = int(start_input)\n",
    "counter = 0\n",
    "\n",
    "# if user input of end_id is empty we only get the single id provided\n",
    "#\n",
    "if end_input is '':\n",
    "    get_detail_new(start_id)\n",
    "\n",
    "else:\n",
    "    # else we get the whole range\n",
    "    #\n",
    "    end_id = int(end_input) \n",
    "    # loop through range\n",
    "    #\n",
    "    for x in range(start_id,end_id):\n",
    "        get_detail_new(x)\n",
    "        counter = counter + 1\n",
    "\n",
    "print('*** Thank you - we are done with Veranstaltungen from admin.ch ***')\n"
   ]
  },
  {
   "cell_type": "code",
   "execution_count": null,
   "metadata": {},
   "outputs": [],
   "source": []
  }
 ],
 "metadata": {
  "kernelspec": {
   "display_name": "Python 3",
   "language": "python",
   "name": "python3"
  },
  "language_info": {
   "codemirror_mode": {
    "name": "ipython",
    "version": 3
   },
   "file_extension": ".py",
   "mimetype": "text/x-python",
   "name": "python",
   "nbconvert_exporter": "python",
   "pygments_lexer": "ipython3",
   "version": "3.7.0"
  }
 },
 "nbformat": 4,
 "nbformat_minor": 2
}
