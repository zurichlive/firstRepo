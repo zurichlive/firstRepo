{
 "cells": [
  {
   "cell_type": "code",
   "execution_count": 66,
   "metadata": {},
   "outputs": [],
   "source": [
    "import requests\n",
    "from bs4 import BeautifulSoup\n",
    "import pandas as pd\n",
    "import random"
   ]
  },
  {
   "cell_type": "code",
   "execution_count": 67,
   "metadata": {},
   "outputs": [],
   "source": [
    "url_base = 'https://www.admin.ch/gov/de/start/dokumentation/veranstaltungen.event-id-'\n",
    "url_end = '.html'"
   ]
  },
  {
   "cell_type": "code",
   "execution_count": 68,
   "metadata": {},
   "outputs": [],
   "source": [
    "# returns list with admin.ch-Veranstaltung details of id provided\n",
    "# 0 = Ort\n",
    "# 1 = Zeit\n",
    "# 2 = Beschreibung\n",
    "# 3 = Kontakt\n",
    "# 4 = Veranstalter\n",
    "# 5 = URL\n",
    "#\n",
    "#\n",
    "def get_detail(event_id):\n",
    "    url = url_base + str(event_id) + url_end\n",
    "    r = requests.get(url)\n",
    "    soup = BeautifulSoup(r.text, 'html.parser')\n",
    "\n",
    "    # 0 = Ort\n",
    "    # 1 = Zeit\n",
    "    # 2 = Beschreibung\n",
    "    # 3 = Kontakt\n",
    "    # 4 = Veranstalter\n",
    "    # 5 = Url\n",
    "    result = soup.find_all('td',{'class':''})\n",
    "\n",
    "    result_list = []\n",
    "    try:\n",
    "        result_place = result[0].text.replace('\\xa0',' ').replace('\\t','').replace('\\n',' ').strip()\n",
    "        result_time = result[1].text.replace('\\xa0',' ').replace('\\t','').replace('\\n',' ').strip()\n",
    "        result_desc = result[2].text.replace('\\xa0',' ').replace('\\t','').replace('\\n',' ').strip()\n",
    "        result_contact = result[3].text.replace('\\xa0',' ').replace('\\t','').replace('\\n',' ').strip()\n",
    "        result_who = result[4].text.replace('\\xa0',' ').replace('\\t','').replace('\\n',' ').strip()\n",
    "\n",
    "        result_list.append(result_place)\n",
    "        result_list.append(result_time)\n",
    "        result_list.append(result_desc)\n",
    "        result_list.append(result_contact)\n",
    "        result_list.append(result_who)\n",
    "        result_list.append(url)\n",
    "    except IndexError:\n",
    "        print('IndexError with id '+str(event_id))\n",
    "    except:\n",
    "        print('General error with id'+str(event_id))\n",
    "        \n",
    "    return result_list"
   ]
  },
  {
   "cell_type": "code",
   "execution_count": 79,
   "metadata": {},
   "outputs": [
    {
     "name": "stdout",
     "output_type": "stream",
     "text": [
      "*** Get Veranstaltungs-Detail from admin.ch ***\n",
      "*** Please provide ids\n",
      "Start id1000\n",
      "End id (leave empty if only one id is needed)\n",
      "IndexError with id 1000\n"
     ]
    }
   ],
   "source": [
    "# get Veranstaltungen\n",
    "#\n",
    "#\n",
    "result_list = []\n",
    "\n",
    "# user input\n",
    "#\n",
    "print(\"*** Get Veranstaltungs-Detail from admin.ch ***\")\n",
    "print(\"*** Please provide ids\")\n",
    "start_input = input(\"Start id: \")\n",
    "end_input = input(\"End id (leave empty if only one id is needed): \")\n",
    "\n",
    "start_id = int(start_input)\n",
    "\n",
    "# if user input end id is empty only get the single id provided\n",
    "#\n",
    "if end_input is '':\n",
    "    temp_list = get_detail(start_id)\n",
    "    if len(temp_list)>0:\n",
    "        #print(temp_list)\n",
    "        result_list.append(temp_list)\n",
    "else:\n",
    "    # else get the whole range\n",
    "    #\n",
    "    end_id = int(end_input) \n",
    "    \n",
    "    # loop through range\n",
    "    #\n",
    "    for x in range(start_id,end_id):\n",
    "        temp_list = get_detail(x)\n",
    "        if len(temp_list)>0:\n",
    "            #print(temp_list)\n",
    "            result_list.append(temp_list)\n",
    "\n",
    "\n",
    "\n",
    "data = pd.DataFrame(result_list)\n",
    "data.to_csv(\"veranstaltungen\" + str(random.randrange(0, 10000)) + str(random.randrange(0, 10000)) + \".csv\")\n",
    "\n"
   ]
  },
  {
   "cell_type": "code",
   "execution_count": null,
   "metadata": {},
   "outputs": [],
   "source": []
  },
  {
   "cell_type": "code",
   "execution_count": null,
   "metadata": {},
   "outputs": [],
   "source": []
  }
 ],
 "metadata": {
  "kernelspec": {
   "display_name": "Python 3",
   "language": "python",
   "name": "python3"
  },
  "language_info": {
   "codemirror_mode": {
    "name": "ipython",
    "version": 3
   },
   "file_extension": ".py",
   "mimetype": "text/x-python",
   "name": "python",
   "nbconvert_exporter": "python",
   "pygments_lexer": "ipython3",
   "version": "3.7.0"
  }
 },
 "nbformat": 4,
 "nbformat_minor": 2
}
