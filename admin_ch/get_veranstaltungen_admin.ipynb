{
 "cells": [
  {
   "cell_type": "code",
   "execution_count": null,
   "metadata": {},
   "outputs": [],
   "source": [
    "import requests\n",
    "from bs4 import BeautifulSoup\n",
    "import pandas as pd\n",
    "\n",
    "# alte Version (ignore!)\n",
    "#\n",
    "#"
   ]
  },
  {
   "cell_type": "code",
   "execution_count": null,
   "metadata": {},
   "outputs": [],
   "source": [
    "# 1.) get site Veranstaltungen of Bundesverwaltung Switzerland\n",
    "#\n",
    "#\n",
    "\n",
    "base_url = 'https://www.admin.ch/'\n",
    "url = 'https://www.admin.ch/gov/de/start/dokumentation/veranstaltungen/_jcr_content/eventlist.entries.html?organization=-1&topic=-1'\n",
    "#headers = {'User-Agent': 'Mozilla/5.0 (Macintosh; Intel Mac OS X 10_10_1) AppleWebKit/537.36 (KHTML, like Gecko) Chrome/39.0.2171.95 Safari/537.36'}\n",
    "#r = request.get(url, headers=headers)\n",
    "r = requests.get(url)\n",
    "soup = BeautifulSoup(r.text, 'html.parser')"
   ]
  },
  {
   "cell_type": "code",
   "execution_count": null,
   "metadata": {},
   "outputs": [],
   "source": [
    "# 2.) read data\n",
    "#\n",
    "#\n",
    "\n",
    "result_dates = soup.find_all('td',{'class':'date'})\n",
    "result_titles = soup.find_all('a')\n",
    "result_others = soup.find_all('td',{'class':''})"
   ]
  },
  {
   "cell_type": "code",
   "execution_count": null,
   "metadata": {},
   "outputs": [],
   "source": [
    "# DEBUGGING IGNORE\n",
    "#\n",
    "#\n",
    "#print(result_others[1].get(''))\n",
    "#print(result_others.gettext())\n",
    "# 0 = Ort\n",
    "# 1 = Titel\n",
    "# 2 = Veranstalter\n",
    "\n",
    "#print(result_others[0:10])\n",
    "#for element in result_others[::3]:\n",
    "#    print(element.text)\n",
    "#for element in result_others:\n",
    "#    print(element.text)\n",
    "#for element in result_others[0::3]:\n",
    "#    print(element.text)\n",
    "#for element in result_others[1::3]:\n",
    "#    print(element.text)\n",
    "#for element in result_others[2::3]:\n",
    "#    print(element.text)\n",
    "\n",
    "#\n",
    "#\n",
    "# END DEBUGGING"
   ]
  },
  {
   "cell_type": "code",
   "execution_count": null,
   "metadata": {},
   "outputs": [],
   "source": [
    "# 3.) pack data in list\n",
    "#\n",
    "#\n",
    "list_dates = []\n",
    "list_titles = []\n",
    "list_urls = []\n",
    "list_places = []\n",
    "list_who = []\n",
    "list_of_everything =[]\n",
    "\n",
    "# convert dates\n",
    "#\n",
    "for element in result_dates:\n",
    "    text = element.text.replace('\\n','').replace('\\t','')\n",
    "    text = ' '.join(text.strip().split())\n",
    "    list_dates.append(text)\n",
    "\n",
    "# convert titles and urls\n",
    "#\n",
    "for element in result_titles:\n",
    "    text = element.text\n",
    "    text_url = element.get('href')\n",
    "    list_titles.append(text)\n",
    "    list_urls.append(text_url)\n",
    "\n",
    "# convert place and veranstalter\n",
    "#\n",
    "# 0 = Ort\n",
    "# 1 = Titel (not needed anymore)\n",
    "# 2 = Veranstalter\n",
    "\n",
    "for element in result_others[0::3]:\n",
    "    # get every first element (0=Ort, place)\n",
    "    list_places.append(element.text)\n",
    "for element in result_others[2::3]:\n",
    "    # get every third element (2=Veranstalter, who)\n",
    "    list_who.append(element.text)\n",
    "\n"
   ]
  },
  {
   "cell_type": "code",
   "execution_count": 32,
   "metadata": {},
   "outputs": [],
   "source": [
    "# create list of everything\n",
    "# format: date, place, title, who (Veranstalter), url\n",
    "#\n",
    "counter = 0\n",
    "for element in list_dates:\n",
    "    # get detail text from sub-url\n",
    "    #\n",
    "    #detail_request = requests.get(base_url+list_urls[counter])\n",
    "    #soup2 = BeautifulSoup(detail_request.text, 'html.parser')\n",
    "    # detail text is 'td' 3rd element, ergo [2]\n",
    "    #\n",
    "    #detail_content = soup2.find_all('td')\n",
    "    #detail_content_text = detail_content[2].text.strip()\n",
    "    \n",
    "    #print(detail_content_text)\n",
    "    detail_content_text = \"detail text\"\n",
    "    \n",
    "    # todo: store details also\n",
    "    \n",
    "    list_of_everything.append([list_dates[counter],list_places[counter],list_titles[counter],list_who[counter], list_urls[counter], detail_content_text])\n",
    "    counter = counter + 1"
   ]
  },
  {
   "cell_type": "code",
   "execution_count": 33,
   "metadata": {},
   "outputs": [
    {
     "name": "stdout",
     "output_type": "stream",
     "text": [
      "None\n"
     ]
    }
   ],
   "source": [
    "# 4.) write to file\n",
    "#\n",
    "#\n",
    "\n",
    "data = pd.DataFrame(list_of_everything)\n",
    "print(data[5][0])\n",
    "data.to_csv(\"admin_veranstaltungen2.csv\")"
   ]
  },
  {
   "cell_type": "code",
   "execution_count": null,
   "metadata": {},
   "outputs": [],
   "source": []
  },
  {
   "cell_type": "code",
   "execution_count": null,
   "metadata": {},
   "outputs": [],
   "source": []
  }
 ],
 "metadata": {
  "kernelspec": {
   "display_name": "Python 3",
   "language": "python",
   "name": "python3"
  },
  "language_info": {
   "codemirror_mode": {
    "name": "ipython",
    "version": 3
   },
   "file_extension": ".py",
   "mimetype": "text/x-python",
   "name": "python",
   "nbconvert_exporter": "python",
   "pygments_lexer": "ipython3",
   "version": "3.7.0"
  }
 },
 "nbformat": 4,
 "nbformat_minor": 2
}
