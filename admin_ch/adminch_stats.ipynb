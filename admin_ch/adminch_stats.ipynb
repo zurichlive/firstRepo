{
 "cells": [
  {
   "cell_type": "code",
   "execution_count": 12,
   "metadata": {},
   "outputs": [],
   "source": [
    "## Calculating statistics out of clean admin.ch Veranstaltungen data\n",
    "## WORK IN PROGRESS\n",
    "##"
   ]
  },
  {
   "cell_type": "code",
   "execution_count": 16,
   "metadata": {},
   "outputs": [],
   "source": [
    "import glob\n",
    "import pandas as pd\n",
    "import numpy as np"
   ]
  },
  {
   "cell_type": "code",
   "execution_count": 14,
   "metadata": {},
   "outputs": [],
   "source": [
    "# Read the clean data\n",
    "#\n",
    "#\n",
    "df = pd.read_csv('working.csv')"
   ]
  },
  {
   "cell_type": "code",
   "execution_count": 18,
   "metadata": {},
   "outputs": [
    {
     "data": {
      "text/plain": [
       "Beschreibung    object\n",
       "Datum           object\n",
       "File            object\n",
       "Kontakt         object\n",
       "Ort             object\n",
       "Sonstiges       object\n",
       "URL             object\n",
       "Veranstalter    object\n",
       "New_Date        object\n",
       "Year             int64\n",
       "Month            int64\n",
       "Day              int64\n",
       "dtype: object"
      ]
     },
     "execution_count": 18,
     "metadata": {},
     "output_type": "execute_result"
    }
   ],
   "source": [
    "df.dtypes"
   ]
  },
  {
   "cell_type": "code",
   "execution_count": 15,
   "metadata": {},
   "outputs": [
    {
     "data": {
      "text/html": [
       "<div>\n",
       "<style scoped>\n",
       "    .dataframe tbody tr th:only-of-type {\n",
       "        vertical-align: middle;\n",
       "    }\n",
       "\n",
       "    .dataframe tbody tr th {\n",
       "        vertical-align: top;\n",
       "    }\n",
       "\n",
       "    .dataframe thead th {\n",
       "        text-align: right;\n",
       "    }\n",
       "</style>\n",
       "<table border=\"1\" class=\"dataframe\">\n",
       "  <thead>\n",
       "    <tr style=\"text-align: right;\">\n",
       "      <th></th>\n",
       "      <th>Beschreibung</th>\n",
       "      <th>Datum</th>\n",
       "      <th>File</th>\n",
       "      <th>Kontakt</th>\n",
       "      <th>Ort</th>\n",
       "      <th>Sonstiges</th>\n",
       "      <th>URL</th>\n",
       "      <th>Veranstalter</th>\n",
       "      <th>New_Date</th>\n",
       "      <th>Year</th>\n",
       "      <th>Month</th>\n",
       "      <th>Day</th>\n",
       "    </tr>\n",
       "  </thead>\n",
       "  <tbody>\n",
       "    <tr>\n",
       "      <th>0</th>\n",
       "      <td>Medienkonferenz der WAK-N zu den Steuervorlagen.</td>\n",
       "      <td>Di 29.08.2006 17:30</td>\n",
       "      <td>102.html</td>\n",
       "      <td>NaN</td>\n",
       "      <td>Medienzentrum 3003 Bern</td>\n",
       "      <td>NaN</td>\n",
       "      <td>https://www.admin.ch/gov/de/start/dokumentatio...</td>\n",
       "      <td>WAK N</td>\n",
       "      <td>2006-08-29</td>\n",
       "      <td>2006</td>\n",
       "      <td>8</td>\n",
       "      <td>29</td>\n",
       "    </tr>\n",
       "    <tr>\n",
       "      <th>1</th>\n",
       "      <td>Die Eidg. Finanzverwaltung lädt Sie zum ersten...</td>\n",
       "      <td>Do 14.09.2006 12:15 - 14:00</td>\n",
       "      <td>105.html</td>\n",
       "      <td>NaN</td>\n",
       "      <td>Bernerhof Bern</td>\n",
       "      <td>NaN</td>\n",
       "      <td>https://www.admin.ch/gov/de/start/dokumentatio...</td>\n",
       "      <td>Eidgenössisches Finanzdepartement</td>\n",
       "      <td>2006-09-14</td>\n",
       "      <td>2006</td>\n",
       "      <td>9</td>\n",
       "      <td>14</td>\n",
       "    </tr>\n",
       "    <tr>\n",
       "      <th>2</th>\n",
       "      <td>NaN</td>\n",
       "      <td>Mi 13.09.2006 08:00 - 17:00</td>\n",
       "      <td>106.html</td>\n",
       "      <td>NaN</td>\n",
       "      <td>Bundesrain Bern</td>\n",
       "      <td>NaN</td>\n",
       "      <td>https://www.admin.ch/gov/de/start/dokumentatio...</td>\n",
       "      <td>Kommission für soziale Sicherheit und Gesundheit</td>\n",
       "      <td>2006-09-13</td>\n",
       "      <td>2006</td>\n",
       "      <td>9</td>\n",
       "      <td>13</td>\n",
       "    </tr>\n",
       "    <tr>\n",
       "      <th>3</th>\n",
       "      <td>PK</td>\n",
       "      <td>So 10.09.2006 08:00</td>\n",
       "      <td>112.html</td>\n",
       "      <td>NaN</td>\n",
       "      <td>Hotel Bern Bern</td>\n",
       "      <td>NaN</td>\n",
       "      <td>https://www.admin.ch/gov/de/start/dokumentatio...</td>\n",
       "      <td>Gewerkschaftsbund</td>\n",
       "      <td>2006-09-10</td>\n",
       "      <td>2006</td>\n",
       "      <td>9</td>\n",
       "      <td>10</td>\n",
       "    </tr>\n",
       "    <tr>\n",
       "      <th>4</th>\n",
       "      <td>NaN</td>\n",
       "      <td>Fr 13.10.2006 10:00</td>\n",
       "      <td>116.html</td>\n",
       "      <td>NaN</td>\n",
       "      <td>Konferenzsaal Bern</td>\n",
       "      <td>NaN</td>\n",
       "      <td>https://www.admin.ch/gov/de/start/dokumentatio...</td>\n",
       "      <td>Generalsekretariat VBS</td>\n",
       "      <td>2006-10-13</td>\n",
       "      <td>2006</td>\n",
       "      <td>10</td>\n",
       "      <td>13</td>\n",
       "    </tr>\n",
       "  </tbody>\n",
       "</table>\n",
       "</div>"
      ],
      "text/plain": [
       "                                        Beschreibung  \\\n",
       "0   Medienkonferenz der WAK-N zu den Steuervorlagen.   \n",
       "1  Die Eidg. Finanzverwaltung lädt Sie zum ersten...   \n",
       "2                                                NaN   \n",
       "3                                                 PK   \n",
       "4                                                NaN   \n",
       "\n",
       "                         Datum      File Kontakt                      Ort  \\\n",
       "0          Di 29.08.2006 17:30  102.html     NaN  Medienzentrum 3003 Bern   \n",
       "1  Do 14.09.2006 12:15 - 14:00  105.html     NaN           Bernerhof Bern   \n",
       "2  Mi 13.09.2006 08:00 - 17:00  106.html     NaN          Bundesrain Bern   \n",
       "3          So 10.09.2006 08:00  112.html     NaN          Hotel Bern Bern   \n",
       "4          Fr 13.10.2006 10:00  116.html     NaN       Konferenzsaal Bern   \n",
       "\n",
       "  Sonstiges                                                URL  \\\n",
       "0       NaN  https://www.admin.ch/gov/de/start/dokumentatio...   \n",
       "1       NaN  https://www.admin.ch/gov/de/start/dokumentatio...   \n",
       "2       NaN  https://www.admin.ch/gov/de/start/dokumentatio...   \n",
       "3       NaN  https://www.admin.ch/gov/de/start/dokumentatio...   \n",
       "4       NaN  https://www.admin.ch/gov/de/start/dokumentatio...   \n",
       "\n",
       "                                       Veranstalter    New_Date  Year  Month  \\\n",
       "0                                             WAK N  2006-08-29  2006      8   \n",
       "1                 Eidgenössisches Finanzdepartement  2006-09-14  2006      9   \n",
       "2  Kommission für soziale Sicherheit und Gesundheit  2006-09-13  2006      9   \n",
       "3                                 Gewerkschaftsbund  2006-09-10  2006      9   \n",
       "4                            Generalsekretariat VBS  2006-10-13  2006     10   \n",
       "\n",
       "   Day  \n",
       "0   29  \n",
       "1   14  \n",
       "2   13  \n",
       "3   10  \n",
       "4   13  "
      ]
     },
     "execution_count": 15,
     "metadata": {},
     "output_type": "execute_result"
    }
   ],
   "source": [
    "df.head()"
   ]
  },
  {
   "cell_type": "code",
   "execution_count": 17,
   "metadata": {},
   "outputs": [
    {
     "ename": "AttributeError",
     "evalue": "Can only use .str accessor with string values, which use np.object_ dtype in pandas",
     "output_type": "error",
     "traceback": [
      "\u001b[0;31m---------------------------------------------------------------------------\u001b[0m",
      "\u001b[0;31mAttributeError\u001b[0m                            Traceback (most recent call last)",
      "\u001b[0;32m<ipython-input-17-8713a73062eb>\u001b[0m in \u001b[0;36m<module>\u001b[0;34m()\u001b[0m\n\u001b[1;32m      3\u001b[0m \u001b[0;31m#\u001b[0m\u001b[0;34m\u001b[0m\u001b[0;34m\u001b[0m\u001b[0m\n\u001b[1;32m      4\u001b[0m \u001b[0;34m\u001b[0m\u001b[0m\n\u001b[0;32m----> 5\u001b[0;31m \u001b[0mmask\u001b[0m \u001b[0;34m=\u001b[0m \u001b[0mnp\u001b[0m\u001b[0;34m.\u001b[0m\u001b[0mcolumn_stack\u001b[0m\u001b[0;34m(\u001b[0m\u001b[0;34m[\u001b[0m\u001b[0mdf\u001b[0m\u001b[0;34m[\u001b[0m\u001b[0mcol\u001b[0m\u001b[0;34m]\u001b[0m\u001b[0;34m.\u001b[0m\u001b[0mstr\u001b[0m\u001b[0;34m.\u001b[0m\u001b[0mcontains\u001b[0m\u001b[0;34m(\u001b[0m\u001b[0;34mr\"Bern\"\u001b[0m\u001b[0;34m,\u001b[0m \u001b[0mna\u001b[0m\u001b[0;34m=\u001b[0m\u001b[0;32mFalse\u001b[0m\u001b[0;34m)\u001b[0m \u001b[0;32mfor\u001b[0m \u001b[0mcol\u001b[0m \u001b[0;32min\u001b[0m \u001b[0mdf\u001b[0m\u001b[0;34m]\u001b[0m\u001b[0;34m)\u001b[0m\u001b[0;34m\u001b[0m\u001b[0m\n\u001b[0m\u001b[1;32m      6\u001b[0m \u001b[0mdf\u001b[0m\u001b[0;34m.\u001b[0m\u001b[0mloc\u001b[0m\u001b[0;34m[\u001b[0m\u001b[0mmask\u001b[0m\u001b[0;34m.\u001b[0m\u001b[0many\u001b[0m\u001b[0;34m(\u001b[0m\u001b[0maxis\u001b[0m\u001b[0;34m=\u001b[0m\u001b[0;36m1\u001b[0m\u001b[0;34m)\u001b[0m\u001b[0;34m]\u001b[0m\u001b[0;34m\u001b[0m\u001b[0m\n",
      "\u001b[0;32m<ipython-input-17-8713a73062eb>\u001b[0m in \u001b[0;36m<listcomp>\u001b[0;34m(.0)\u001b[0m\n\u001b[1;32m      3\u001b[0m \u001b[0;31m#\u001b[0m\u001b[0;34m\u001b[0m\u001b[0;34m\u001b[0m\u001b[0m\n\u001b[1;32m      4\u001b[0m \u001b[0;34m\u001b[0m\u001b[0m\n\u001b[0;32m----> 5\u001b[0;31m \u001b[0mmask\u001b[0m \u001b[0;34m=\u001b[0m \u001b[0mnp\u001b[0m\u001b[0;34m.\u001b[0m\u001b[0mcolumn_stack\u001b[0m\u001b[0;34m(\u001b[0m\u001b[0;34m[\u001b[0m\u001b[0mdf\u001b[0m\u001b[0;34m[\u001b[0m\u001b[0mcol\u001b[0m\u001b[0;34m]\u001b[0m\u001b[0;34m.\u001b[0m\u001b[0mstr\u001b[0m\u001b[0;34m.\u001b[0m\u001b[0mcontains\u001b[0m\u001b[0;34m(\u001b[0m\u001b[0;34mr\"Bern\"\u001b[0m\u001b[0;34m,\u001b[0m \u001b[0mna\u001b[0m\u001b[0;34m=\u001b[0m\u001b[0;32mFalse\u001b[0m\u001b[0;34m)\u001b[0m \u001b[0;32mfor\u001b[0m \u001b[0mcol\u001b[0m \u001b[0;32min\u001b[0m \u001b[0mdf\u001b[0m\u001b[0;34m]\u001b[0m\u001b[0;34m)\u001b[0m\u001b[0;34m\u001b[0m\u001b[0m\n\u001b[0m\u001b[1;32m      6\u001b[0m \u001b[0mdf\u001b[0m\u001b[0;34m.\u001b[0m\u001b[0mloc\u001b[0m\u001b[0;34m[\u001b[0m\u001b[0mmask\u001b[0m\u001b[0;34m.\u001b[0m\u001b[0many\u001b[0m\u001b[0;34m(\u001b[0m\u001b[0maxis\u001b[0m\u001b[0;34m=\u001b[0m\u001b[0;36m1\u001b[0m\u001b[0;34m)\u001b[0m\u001b[0;34m]\u001b[0m\u001b[0;34m\u001b[0m\u001b[0m\n",
      "\u001b[0;32m~/.virtualenvs/erstesVE/lib/python3.7/site-packages/pandas/core/generic.py\u001b[0m in \u001b[0;36m__getattr__\u001b[0;34m(self, name)\u001b[0m\n\u001b[1;32m   4370\u001b[0m         if (name in self._internal_names_set or name in self._metadata or\n\u001b[1;32m   4371\u001b[0m                 name in self._accessors):\n\u001b[0;32m-> 4372\u001b[0;31m             \u001b[0;32mreturn\u001b[0m \u001b[0mobject\u001b[0m\u001b[0;34m.\u001b[0m\u001b[0m__getattribute__\u001b[0m\u001b[0;34m(\u001b[0m\u001b[0mself\u001b[0m\u001b[0;34m,\u001b[0m \u001b[0mname\u001b[0m\u001b[0;34m)\u001b[0m\u001b[0;34m\u001b[0m\u001b[0m\n\u001b[0m\u001b[1;32m   4373\u001b[0m         \u001b[0;32melse\u001b[0m\u001b[0;34m:\u001b[0m\u001b[0;34m\u001b[0m\u001b[0m\n\u001b[1;32m   4374\u001b[0m             \u001b[0;32mif\u001b[0m \u001b[0mself\u001b[0m\u001b[0;34m.\u001b[0m\u001b[0m_info_axis\u001b[0m\u001b[0;34m.\u001b[0m\u001b[0m_can_hold_identifiers_and_holds_name\u001b[0m\u001b[0;34m(\u001b[0m\u001b[0mname\u001b[0m\u001b[0;34m)\u001b[0m\u001b[0;34m:\u001b[0m\u001b[0;34m\u001b[0m\u001b[0m\n",
      "\u001b[0;32m~/.virtualenvs/erstesVE/lib/python3.7/site-packages/pandas/core/accessor.py\u001b[0m in \u001b[0;36m__get__\u001b[0;34m(self, obj, cls)\u001b[0m\n\u001b[1;32m    131\u001b[0m             \u001b[0;31m# we're accessing the attribute of the class, i.e., Dataset.geo\u001b[0m\u001b[0;34m\u001b[0m\u001b[0;34m\u001b[0m\u001b[0m\n\u001b[1;32m    132\u001b[0m             \u001b[0;32mreturn\u001b[0m \u001b[0mself\u001b[0m\u001b[0;34m.\u001b[0m\u001b[0m_accessor\u001b[0m\u001b[0;34m\u001b[0m\u001b[0m\n\u001b[0;32m--> 133\u001b[0;31m         \u001b[0maccessor_obj\u001b[0m \u001b[0;34m=\u001b[0m \u001b[0mself\u001b[0m\u001b[0;34m.\u001b[0m\u001b[0m_accessor\u001b[0m\u001b[0;34m(\u001b[0m\u001b[0mobj\u001b[0m\u001b[0;34m)\u001b[0m\u001b[0;34m\u001b[0m\u001b[0m\n\u001b[0m\u001b[1;32m    134\u001b[0m         \u001b[0;31m# Replace the property with the accessor object. Inspired by:\u001b[0m\u001b[0;34m\u001b[0m\u001b[0;34m\u001b[0m\u001b[0m\n\u001b[1;32m    135\u001b[0m         \u001b[0;31m# http://www.pydanny.com/cached-property.html\u001b[0m\u001b[0;34m\u001b[0m\u001b[0;34m\u001b[0m\u001b[0m\n",
      "\u001b[0;32m~/.virtualenvs/erstesVE/lib/python3.7/site-packages/pandas/core/strings.py\u001b[0m in \u001b[0;36m__init__\u001b[0;34m(self, data)\u001b[0m\n\u001b[1;32m   1893\u001b[0m \u001b[0;34m\u001b[0m\u001b[0m\n\u001b[1;32m   1894\u001b[0m     \u001b[0;32mdef\u001b[0m \u001b[0m__init__\u001b[0m\u001b[0;34m(\u001b[0m\u001b[0mself\u001b[0m\u001b[0;34m,\u001b[0m \u001b[0mdata\u001b[0m\u001b[0;34m)\u001b[0m\u001b[0;34m:\u001b[0m\u001b[0;34m\u001b[0m\u001b[0m\n\u001b[0;32m-> 1895\u001b[0;31m         \u001b[0mself\u001b[0m\u001b[0;34m.\u001b[0m\u001b[0m_validate\u001b[0m\u001b[0;34m(\u001b[0m\u001b[0mdata\u001b[0m\u001b[0;34m)\u001b[0m\u001b[0;34m\u001b[0m\u001b[0m\n\u001b[0m\u001b[1;32m   1896\u001b[0m         \u001b[0mself\u001b[0m\u001b[0;34m.\u001b[0m\u001b[0m_is_categorical\u001b[0m \u001b[0;34m=\u001b[0m \u001b[0mis_categorical_dtype\u001b[0m\u001b[0;34m(\u001b[0m\u001b[0mdata\u001b[0m\u001b[0;34m)\u001b[0m\u001b[0;34m\u001b[0m\u001b[0m\n\u001b[1;32m   1897\u001b[0m \u001b[0;34m\u001b[0m\u001b[0m\n",
      "\u001b[0;32m~/.virtualenvs/erstesVE/lib/python3.7/site-packages/pandas/core/strings.py\u001b[0m in \u001b[0;36m_validate\u001b[0;34m(data)\u001b[0m\n\u001b[1;32m   1915\u001b[0m             \u001b[0;31m# (instead of test for object dtype), but that isn't practical for\u001b[0m\u001b[0;34m\u001b[0m\u001b[0;34m\u001b[0m\u001b[0m\n\u001b[1;32m   1916\u001b[0m             \u001b[0;31m# performance reasons until we have a str dtype (GH 9343)\u001b[0m\u001b[0;34m\u001b[0m\u001b[0;34m\u001b[0m\u001b[0m\n\u001b[0;32m-> 1917\u001b[0;31m             raise AttributeError(\"Can only use .str accessor with string \"\n\u001b[0m\u001b[1;32m   1918\u001b[0m                                  \u001b[0;34m\"values, which use np.object_ dtype in \"\u001b[0m\u001b[0;34m\u001b[0m\u001b[0m\n\u001b[1;32m   1919\u001b[0m                                  \"pandas\")\n",
      "\u001b[0;31mAttributeError\u001b[0m: Can only use .str accessor with string values, which use np.object_ dtype in pandas"
     ]
    }
   ],
   "source": [
    "# search\n",
    "#\n",
    "# \n",
    "\n",
    "mask = np.column_stack([df[col].str.contains(r\"Bern\", na=False) for col in df])\n",
    "df.loc[mask.any(axis=1)]\n",
    "\n"
   ]
  },
  {
   "cell_type": "code",
   "execution_count": 11,
   "metadata": {},
   "outputs": [
    {
     "data": {
      "text/plain": [
       "Der Bundesrat                                                                                                             74\n",
       "Eidgenössisches Departement für auswärtige Angelegenheiten                                                                37\n",
       "SVP Schweiz                                                                                                               15\n",
       "Eidgenössisches Departement für Wirtschaft, Bildung und Forschung WBF                                                     14\n",
       "CVP Schweiz                                                                                                               12\n",
       "SP Schweiz                                                                                                                11\n",
       "JUSO                                                                                                                      10\n",
       "Grüne Partei der Schweiz                                                                                                  10\n",
       "Travail.Suisse                                                                                                             9\n",
       "Bundesamt für Gesundheit                                                                                                   8\n",
       "FDP Schweiz                                                                                                                8\n",
       "Staatssekretariat für Migration                                                                                            7\n",
       "Eidgenössisches Justiz- und Polizeidepartement EJPD und Eidgenössisches Departement für auswärtige Angelegenheiten EDA     6\n",
       "Eidgenössisches Departement für Verteidigung, Bevölkerungsschutz und Sport                                                 6\n",
       "Schweizerischer Gewerkschaftsbund SGB                                                                                      6\n",
       "Staatssekretariat für internationale Finanzfragen                                                                          6\n",
       "Bundesversammlung                                                                                                          5\n",
       "Eidgenössisches Departement des Innern (EDI)                                                                               5\n",
       "Gewerkschaft Unia                                                                                                          4\n",
       "Eidgenössisches Finanzdepartement                                                                                          4\n",
       "SiK-N                                                                                                                      4\n",
       "Schweizerischer Städteverband                                                                                              4\n",
       "Parlamentsdienste                                                                                                          4\n",
       "Eidgenössisches Justiz- und Polizeidepartement EJPD                                                                        4\n",
       "Schweizerischer Arbeitgeberverband                                                                                         3\n",
       "SPK-N                                                                                                                      3\n",
       "Bundesamt für Landwirtschaft                                                                                               3\n",
       "Bundeskanzlei                                                                                                              3\n",
       "Eidgenössisches Departement für Umwelt, Verkehr, Energie und Kommunikation                                                 3\n",
       "Bundesamt für Statistik BFS                                                                                                3\n",
       "                                                                                                                          ..\n",
       "Überparteiliches Komitee «NEIN zur neuen Billag-Mediensteuer!»                                                             1\n",
       "Schweizerische Konferenz der kantonalen Erziehungsdirektoren (EDK)                                                         1\n",
       "Generalsekretariat EJPD                                                                                                    1\n",
       "Gruppe Raus aus der Sackgasse RASA                                                                                         1\n",
       "Schweizerisches Rotes Kreuz                                                                                                1\n",
       "Tripartite Agglomerationskonferenz (TAK)                                                                                   1\n",
       "Swisstransplant                                                                                                            1\n",
       "Schweizerischer Arbeitgeberverband und economiesuisse                                                                      1\n",
       "Compenswiss                                                                                                                1\n",
       "SVP-Fraktion                                                                                                               1\n",
       "RK-S                                                                                                                       1\n",
       "Kommunikation Luftwaffe                                                                                                    1\n",
       "Schweizerischer Mieterinnen- und Mieterverband SMV                                                                         1\n",
       "BAFU und UNEP                                                                                                              1\n",
       "Immunitätskommission des Nationalrats (IK-N)                                                                               1\n",
       "SPK-S / CIP-E                                                                                                              1\n",
       "CVP-EVP-Fraktion                                                                                                           1\n",
       "Unia, Second@s plus, Federazione Colonie Libere Italiane                                                                   1\n",
       "Büro-N                                                                                                                     1\n",
       "Groupement des Entreprises Multinationales (GEM)                                                                           1\n",
       "Unia, Syndicom                                                                                                             1\n",
       "Staatssekretariat für Wirtschaft SECO und OECD                                                                             1\n",
       "Bundesamt für Umwelt BAFU und Eidgenössische Forschungsanstalt für Wald, Schnee und Landschaft WSL                         1\n",
       "Forum Schweizer Geschichte Schwyz                                                                                          1\n",
       "Komitee «Nein zur CVP-Familieninitiative»                                                                                  1\n",
       "Eidgenössisches Nuklearsicherheitsinspektorat                                                                              1\n",
       "Schweizerische Arbeitsgemeinschaft der Jugendverbände (SAJV)                                                               1\n",
       "Gesundheits- und Präventionsorganisationen und Schweizerische Arbeitsgemeinschaft der Jugendverbände (SAJV)                1\n",
       "Überparteiliches Komitee «Finanzpolitik: Bundesfinanzen - Voranschlag 2016»                                                1\n",
       "Parlamentarische Gruppe Schweiz-Armenien und Gesellschaft Schweiz-Armenien (GSA)                                           1\n",
       "Name: Veranstalter, Length: 209, dtype: int64"
      ]
     },
     "execution_count": 11,
     "metadata": {},
     "output_type": "execute_result"
    }
   ],
   "source": [
    "df.dtypes\n",
    "df.head()\n",
    "df['Year'].value_counts()\n",
    "df.groupby('Year')['Veranstalter'].value_counts()\n",
    "df.groupby('Year')['Veranstalter'].value_counts()\n",
    "#df_all.groupby('Organisator')['Year'].value_counts()\n",
    "#df_all[(df_all['Year'] == '2015')]\n",
    "\n",
    "\n",
    "df[\n",
    "    (df['Year'] == 2015)\n",
    "]['Veranstalter'].value_counts()"
   ]
  },
  {
   "cell_type": "code",
   "execution_count": null,
   "metadata": {},
   "outputs": [],
   "source": [
    "df_all.groupby('Year')['Organisator'].value_counts()\n",
    "#df_all.groupby('Organisator')['Year'].value_counts()\n",
    "df_all['Year']\n",
    "df_all[df_all['Organisator'].isin(df_all['Organisator'].value_counts()[df_all['Organisator'].value_counts()>540].index)]"
   ]
  },
  {
   "cell_type": "code",
   "execution_count": null,
   "metadata": {},
   "outputs": [],
   "source": [
    "\n",
    "\n",
    "#df_all['New Date'].head()\n",
    "\n",
    "#df_all['New Date'=='2010-01-01']\n",
    "df_all[\n",
    "    (df_all['New_Date'] > '2010-01-01') #| (df['PTS']>32000)\n",
    "].count()\n",
    "\n",
    "pd.DataFrame(df_all.New_Date.str.split('-',2).tolist(), columns = ['Year','Month','Day'])"
   ]
  },
  {
   "cell_type": "code",
   "execution_count": null,
   "metadata": {},
   "outputs": [],
   "source": [
    "\n",
    "#df_all.groupby('Organisator').count()\n",
    "df_all['Address'].value_counts().head()\n",
    "#df_all.iloc[1]"
   ]
  }
 ],
 "metadata": {
  "kernelspec": {
   "display_name": "Python 3",
   "language": "python",
   "name": "python3"
  },
  "language_info": {
   "codemirror_mode": {
    "name": "ipython",
    "version": 3
   },
   "file_extension": ".py",
   "mimetype": "text/x-python",
   "name": "python",
   "nbconvert_exporter": "python",
   "pygments_lexer": "ipython3",
   "version": "3.7.0"
  }
 },
 "nbformat": 4,
 "nbformat_minor": 2
}
