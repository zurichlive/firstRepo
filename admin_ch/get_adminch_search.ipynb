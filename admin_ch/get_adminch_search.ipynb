{
 "cells": [
  {
   "cell_type": "code",
   "execution_count": 4,
   "metadata": {},
   "outputs": [],
   "source": [
    "import requests\n",
    "from bs4 import BeautifulSoup\n",
    "import pandas as pd\n",
    "import random\n",
    "import os\n",
    "from glob import glob\n",
    "import datetime"
   ]
  },
  {
   "cell_type": "code",
   "execution_count": 8,
   "metadata": {},
   "outputs": [
    {
     "data": {
      "text/plain": [
       "['veranstaltungen_clean_ date_2018-11-18.csv']"
      ]
     },
     "execution_count": 8,
     "metadata": {},
     "output_type": "execute_result"
    }
   ],
   "source": [
    "# Read the clean data\n",
    "#\n",
    "#\n",
    "file = glob('veranstaltungen_clean*.csv')\n",
    "file"
   ]
  },
  {
   "cell_type": "code",
   "execution_count": 9,
   "metadata": {},
   "outputs": [],
   "source": [
    "df = pd.read_csv(file[0])"
   ]
  },
  {
   "cell_type": "code",
   "execution_count": 10,
   "metadata": {},
   "outputs": [
    {
     "data": {
      "text/html": [
       "<div>\n",
       "<style scoped>\n",
       "    .dataframe tbody tr th:only-of-type {\n",
       "        vertical-align: middle;\n",
       "    }\n",
       "\n",
       "    .dataframe tbody tr th {\n",
       "        vertical-align: top;\n",
       "    }\n",
       "\n",
       "    .dataframe thead th {\n",
       "        text-align: right;\n",
       "    }\n",
       "</style>\n",
       "<table border=\"1\" class=\"dataframe\">\n",
       "  <thead>\n",
       "    <tr style=\"text-align: right;\">\n",
       "      <th></th>\n",
       "      <th>0</th>\n",
       "      <th>Title</th>\n",
       "      <th>Address</th>\n",
       "      <th>Date</th>\n",
       "      <th>Description</th>\n",
       "      <th>Contact</th>\n",
       "      <th>Organisator</th>\n",
       "      <th>URL</th>\n",
       "      <th>New_Date</th>\n",
       "      <th>Year</th>\n",
       "      <th>Month</th>\n",
       "      <th>Day</th>\n",
       "    </tr>\n",
       "  </thead>\n",
       "  <tbody>\n",
       "    <tr>\n",
       "      <th>0</th>\n",
       "      <td>102</td>\n",
       "      <td>WAK-N zu Steuervorlagen</td>\n",
       "      <td>Medienzentrum 3003 Bern</td>\n",
       "      <td>Di 29.08.2006 17:30</td>\n",
       "      <td>Medienkonferenz der WAK-N zu den Steuervorlagen.</td>\n",
       "      <td>Kein Kontakt</td>\n",
       "      <td>WAK N</td>\n",
       "      <td>https://www.admin.ch/gov/de/start/dokumentatio...</td>\n",
       "      <td>2006-08-29</td>\n",
       "      <td>2006</td>\n",
       "      <td>8</td>\n",
       "      <td>29</td>\n",
       "    </tr>\n",
       "    <tr>\n",
       "      <th>1</th>\n",
       "      <td>105</td>\n",
       "      <td>Finanzpolitischer Apéro</td>\n",
       "      <td>Bernerhof Bern</td>\n",
       "      <td>Do 14.09.2006 12:15 - 14:00</td>\n",
       "      <td>Die Eidg. Finanzverwaltung lädt Sie zum ersten...</td>\n",
       "      <td>Kein Kontakt</td>\n",
       "      <td>Eidgenössisches Finanzdepartement</td>\n",
       "      <td>https://www.admin.ch/gov/de/start/dokumentatio...</td>\n",
       "      <td>2006-09-14</td>\n",
       "      <td>2006</td>\n",
       "      <td>9</td>\n",
       "      <td>14</td>\n",
       "    </tr>\n",
       "    <tr>\n",
       "      <th>2</th>\n",
       "      <td>106</td>\n",
       "      <td>Sitzung Kommission für soziale Sicherheit und ...</td>\n",
       "      <td>Bundesrain Bern</td>\n",
       "      <td>Mi 13.09.2006 08:00 - 17:00</td>\n",
       "      <td>Keine Beschreibung</td>\n",
       "      <td>Kein Kontakt</td>\n",
       "      <td>Kommission für soziale Sicherheit und Gesundheit</td>\n",
       "      <td>https://www.admin.ch/gov/de/start/dokumentatio...</td>\n",
       "      <td>2006-09-13</td>\n",
       "      <td>2006</td>\n",
       "      <td>9</td>\n",
       "      <td>13</td>\n",
       "    </tr>\n",
       "    <tr>\n",
       "      <th>3</th>\n",
       "      <td>112</td>\n",
       "      <td>Löhne 2007</td>\n",
       "      <td>Hotel Bern Bern</td>\n",
       "      <td>So 10.09.2006 08:00</td>\n",
       "      <td>PK</td>\n",
       "      <td>Kein Kontakt</td>\n",
       "      <td>Gewerkschaftsbund</td>\n",
       "      <td>https://www.admin.ch/gov/de/start/dokumentatio...</td>\n",
       "      <td>2006-09-10</td>\n",
       "      <td>2006</td>\n",
       "      <td>9</td>\n",
       "      <td>10</td>\n",
       "    </tr>\n",
       "    <tr>\n",
       "      <th>4</th>\n",
       "      <td>116</td>\n",
       "      <td>Heerestage 2006</td>\n",
       "      <td>Konferenzsaal Bern</td>\n",
       "      <td>Fr 13.10.2006 10:00</td>\n",
       "      <td>Keine Beschreibung</td>\n",
       "      <td>Kein Kontakt</td>\n",
       "      <td>Generalsekretariat VBS</td>\n",
       "      <td>https://www.admin.ch/gov/de/start/dokumentatio...</td>\n",
       "      <td>2006-10-13</td>\n",
       "      <td>2006</td>\n",
       "      <td>10</td>\n",
       "      <td>13</td>\n",
       "    </tr>\n",
       "  </tbody>\n",
       "</table>\n",
       "</div>"
      ],
      "text/plain": [
       "     0                                              Title  \\\n",
       "0  102                            WAK-N zu Steuervorlagen   \n",
       "1  105                            Finanzpolitischer Apéro   \n",
       "2  106  Sitzung Kommission für soziale Sicherheit und ...   \n",
       "3  112                                         Löhne 2007   \n",
       "4  116                                    Heerestage 2006   \n",
       "\n",
       "                   Address                         Date  \\\n",
       "0  Medienzentrum 3003 Bern          Di 29.08.2006 17:30   \n",
       "1           Bernerhof Bern  Do 14.09.2006 12:15 - 14:00   \n",
       "2          Bundesrain Bern  Mi 13.09.2006 08:00 - 17:00   \n",
       "3          Hotel Bern Bern          So 10.09.2006 08:00   \n",
       "4       Konferenzsaal Bern          Fr 13.10.2006 10:00   \n",
       "\n",
       "                                         Description       Contact  \\\n",
       "0   Medienkonferenz der WAK-N zu den Steuervorlagen.  Kein Kontakt   \n",
       "1  Die Eidg. Finanzverwaltung lädt Sie zum ersten...  Kein Kontakt   \n",
       "2                                 Keine Beschreibung  Kein Kontakt   \n",
       "3                                                 PK  Kein Kontakt   \n",
       "4                                 Keine Beschreibung  Kein Kontakt   \n",
       "\n",
       "                                        Organisator  \\\n",
       "0                                             WAK N   \n",
       "1                 Eidgenössisches Finanzdepartement   \n",
       "2  Kommission für soziale Sicherheit und Gesundheit   \n",
       "3                                 Gewerkschaftsbund   \n",
       "4                            Generalsekretariat VBS   \n",
       "\n",
       "                                                 URL    New_Date  Year  Month  \\\n",
       "0  https://www.admin.ch/gov/de/start/dokumentatio...  2006-08-29  2006      8   \n",
       "1  https://www.admin.ch/gov/de/start/dokumentatio...  2006-09-14  2006      9   \n",
       "2  https://www.admin.ch/gov/de/start/dokumentatio...  2006-09-13  2006      9   \n",
       "3  https://www.admin.ch/gov/de/start/dokumentatio...  2006-09-10  2006      9   \n",
       "4  https://www.admin.ch/gov/de/start/dokumentatio...  2006-10-13  2006     10   \n",
       "\n",
       "   Day  \n",
       "0   29  \n",
       "1   14  \n",
       "2   13  \n",
       "3   10  \n",
       "4   13  "
      ]
     },
     "execution_count": 10,
     "metadata": {},
     "output_type": "execute_result"
    }
   ],
   "source": [
    "df.head()"
   ]
  },
  {
   "cell_type": "code",
   "execution_count": null,
   "metadata": {},
   "outputs": [],
   "source": [
    "# search\n",
    "#\n",
    "# \n",
    "\n",
    "\n",
    "\n"
   ]
  },
  {
   "cell_type": "code",
   "execution_count": null,
   "metadata": {},
   "outputs": [],
   "source": [
    "df_all.dtypes\n",
    "df_all.head()\n",
    "df_all['Year'].value_counts()\n",
    "df_all.groupby('Year')['Organisator'].value_counts()\n",
    "df_all.groupby('Year')['Organisator'].value_counts()\n",
    "#df_all.groupby('Organisator')['Year'].value_counts()\n",
    "#df_all[(df_all['Year'] == '2015')]\n",
    "\n",
    "\n",
    "df_all[\n",
    "    (df_all['Year'] == 2015)\n",
    "]['Organisator'].value_counts()"
   ]
  },
  {
   "cell_type": "code",
   "execution_count": null,
   "metadata": {},
   "outputs": [],
   "source": [
    "df_all.groupby('Year')['Organisator'].value_counts()\n",
    "#df_all.groupby('Organisator')['Year'].value_counts()\n",
    "df_all['Year']\n",
    "df_all[df_all['Organisator'].isin(df_all['Organisator'].value_counts()[df_all['Organisator'].value_counts()>540].index)]"
   ]
  },
  {
   "cell_type": "code",
   "execution_count": null,
   "metadata": {},
   "outputs": [],
   "source": [
    "\n",
    "\n",
    "#df_all['New Date'].head()\n",
    "\n",
    "#df_all['New Date'=='2010-01-01']\n",
    "df_all[\n",
    "    (df_all['New_Date'] > '2010-01-01') #| (df['PTS']>32000)\n",
    "].count()\n",
    "\n",
    "pd.DataFrame(df_all.New_Date.str.split('-',2).tolist(), columns = ['Year','Month','Day'])"
   ]
  },
  {
   "cell_type": "code",
   "execution_count": null,
   "metadata": {},
   "outputs": [],
   "source": [
    "\n",
    "#df_all.groupby('Organisator').count()\n",
    "df_all['Address'].value_counts().head()\n",
    "#df_all.iloc[1]"
   ]
  }
 ],
 "metadata": {
  "kernelspec": {
   "display_name": "Python 3",
   "language": "python",
   "name": "python3"
  },
  "language_info": {
   "codemirror_mode": {
    "name": "ipython",
    "version": 3
   },
   "file_extension": ".py",
   "mimetype": "text/x-python",
   "name": "python",
   "nbconvert_exporter": "python",
   "pygments_lexer": "ipython3",
   "version": "3.7.0"
  }
 },
 "nbformat": 4,
 "nbformat_minor": 2
}
