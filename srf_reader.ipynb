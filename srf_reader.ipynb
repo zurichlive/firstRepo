{
 "cells": [
  {
   "cell_type": "code",
   "execution_count": 18,
   "metadata": {},
   "outputs": [],
   "source": [
    "import requests\n",
    "from bs4 import BeautifulSoup\n",
    "import pandas as pd\n"
   ]
  },
  {
   "cell_type": "code",
   "execution_count": 33,
   "metadata": {},
   "outputs": [],
   "source": [
    "#r = requests.get('https://www.srf.ch/news/')\n",
    "r = requests.get('https://www.srf.ch/')"
   ]
  },
  {
   "cell_type": "code",
   "execution_count": 50,
   "metadata": {},
   "outputs": [],
   "source": [
    "soup = BeautifulSoup(r.text, 'html.parser')\n",
    "#print(soup)\n",
    "soup.find_all('title')\n",
    "\n",
    "title_list = []\n",
    "\n",
    "#print(soup.find_all('title'))\n",
    "\n",
    "for elem in soup.find_all('h3')[13:][:55]:\n",
    "    # iterate through all h3-elements (titles)\n",
    "    # remove spaces\n",
    "    # \n",
    "    title_list.append(\" \".join(elem.text.strip().split()))\n",
    "\n",
    "#print(title_list)\n",
    "\n",
    "#for title in title_list:\n",
    "    \n",
    "\n",
    "data = pd.DataFrame(title_list)\n",
    "data.to_csv(\"srf_title_list4.csv\")\n",
    "    "
   ]
  },
  {
   "cell_type": "code",
   "execution_count": null,
   "metadata": {},
   "outputs": [],
   "source": []
  },
  {
   "cell_type": "code",
   "execution_count": null,
   "metadata": {},
   "outputs": [],
   "source": []
  }
 ],
 "metadata": {
  "kernelspec": {
   "display_name": "Python 3",
   "language": "python",
   "name": "python3"
  },
  "language_info": {
   "codemirror_mode": {
    "name": "ipython",
    "version": 3
   },
   "file_extension": ".py",
   "mimetype": "text/x-python",
   "name": "python",
   "nbconvert_exporter": "python",
   "pygments_lexer": "ipython3",
   "version": "3.7.0"
  }
 },
 "nbformat": 4,
 "nbformat_minor": 2
}
