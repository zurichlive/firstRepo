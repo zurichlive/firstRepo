{
 "cells": [
  {
   "cell_type": "code",
   "execution_count": 57,
   "metadata": {},
   "outputs": [],
   "source": [
    "import requests\n",
    "from bs4 import BeautifulSoup\n",
    "import pandas as pd\n"
   ]
  },
  {
   "cell_type": "code",
   "execution_count": 58,
   "metadata": {},
   "outputs": [],
   "source": [
    "#r = requests.get('https://www.srf.ch/news/')\n",
    "r = requests.get('https://www.srf.ch/')"
   ]
  },
  {
   "cell_type": "code",
   "execution_count": 96,
   "metadata": {},
   "outputs": [
    {
     "name": "stdout",
     "output_type": "stream",
     "text": [
      "[['Kann man «Babylon Berlin» auch zeitversetzt schauen?', '/sendungen/hallosrf/kann-man-babylon-berlin-auch-zeitversetzt-schauen'], ['Gewissheit um letzten Willen Nationales Register für Organspende lanciert', ''], ['Charles Aznavour ist tot', '/news/panorama/franzoesischer-frank-sinatra-charles-aznavour-ist-tot'], ['CEO von Juventus geht – Gerüchte um Zidane mehren sich', '/sport/fussball/champions-league/turbulenzen-bei-yb-gegner-ceo-von-juventus-geht-geruechte-um-zidane-mehren-sich'], ['Roman Bürki: Vom Risikofaktor zum Bollwerk', '/sport/fussball/internationale-ligen/neuerdings-unbestrittene-nr-1-roman-buerki-vom-risikofaktor-zum-bollwerk'], ['Slapstick, Sixpack, Sonntagsschuss!', '/sport/fussball/internationale-ligen/fussball-weekend-in-bildern-slapstick-sixpack-sonntagsschuss'], ['Weshalb wurden die Menschen von der Welle überrascht?', '/news/panorama/tsunami-in-indonesien-weshalb-wurden-die-menschen-von-der-welle-ueberrascht'], ['Über 1200 Tote befürchtet', '/news/panorama/erdbeben-in-indonesien-ueber-1200-tote-befuerchtet'], ['Die grosse Vorfreude auf die «Menschenwand»', '/sport/eishockey/6-fragen-vor-bern-new-jersey-die-grosse-vorfreude-auf-die-menschenwand'], ['Traumlos für FCZ-Frauen', '/sport/fussball/internationale-ligen/fussball-news-traumlos-fuer-fcz-frauen'], ['Italien kandidiert nun doch für 2026', '/sport/mehr-sport/olympische-spiele/ruecktritt-vom-ruecktritt-italien-kandidiert-nun-doch-fuer-2026'], ['Mit diesen Tipps wirst du Pilzsammler-Pro', '/radio-srf-virus/aktuell/pilzsammeln-mit-diesen-tipps-wirst-du-pilzsammler-pro'], ['Augen auf beim Pilze sammeln', '/sendungen/ratgeber/augen-auf-beim-pilze-sammeln'], ['«The Cleaners»: Diese Billigarbeiter löschen Folter, Sex und Mord', '/radio-srf-3/digital/zurich-film-festival-the-cleaners-diese-billigarbeiter-loeschen-folter-sex-und-mord'], ['Max Hubacher über seine Rolle als psychisch Kranker', '/radio-srf-3/aktuell/max-hubacher-ueber-seine-rolle-als-psychisch-kranker'], ['Wie der Heisshunger der Amerikaner die Donuts löcherte', '/kultur/wissen/erfindung-des-donut-lochs-wie-der-heisshunger-der-amerikaner-die-donuts-loecherte'], ['Wieviel Gentechnik steckt in unserem Essen?', '/kultur/wissen/food-und-forschung-wieviel-gentechnik-steckt-in-unserem-essen'], ['Fast Food erster Güte: French Toast mit Etivaz', '/sendungen/a-point/fast-food-erster-guete-french-toast-mit-etivaz'], ['Digitale Entgiftung wird uns nicht heilen', '/kultur/gesellschaft-religion/wochenende-gesellschaft/digital-detox-digitale-entgiftung-wird-uns-nicht-heilen'], ['Legt das Handy weg!', '/kultur/gesellschaft-religion/wochenende-gesellschaft/arena-reporter-legt-das-handy-weg'], ['Mit Ursula Brunner bekam das Elend am Platzspitz ein Gesicht', '/sendungen/dok/mit-ursula-brunner-bekam-das-elend-am-platzspitz-ein-gesicht'], ['Zürich Junkietown', ''], ['Grand Tour der Schweiz: Von Zürich ins Berner Oberland', ''], ['Grand Tour der Schweiz: Vom Jura bis ins Wallis', ''], ['Vor 50 Jahren wurde das Schweizer Fernsehen farbig', '/radio-srf-1/radio-srf-1/lang-ist-s-her-vor-50-jahren-wurde-das-schweizer-fernsehen-farbig'], ['Es werde Farbe! – 50 Jahre Farbfernsehen', '/tv/allgemein/es-werde-farbe-50-jahre-farbfernsehen'], ['Von diesem Georgier kriege ich den Flattermann', '/radio-srf-1/die-buchkoenig-bloggt/die-buchkoenig-bloggt-von-diesem-georgier-kriege-ich-den-flattermann'], ['Wegen «Marlène» bleibt Philippe Djian Kult für mich!', '/radio-srf-1/die-buchkoenig-bloggt/die-buchkoenig-bloggt-wegen-marlene-bleibt-philippe-djian-kult-fuer-mich'], ['Wettbewerb \"Die ideale Sekretärin\" (1969)', ''], ['Touristen reisen durch die Schweiz in zwei Tagen (1970)', ''], ['Feriensportlager in Fiesch (1987)', ''], ['Wie sieht Ihr Service public aus?', '/allgemeines/service-public-wie-sieht-ihr-service-public-aus'], ['Lugano trotzt dem FC Basel einen Punkt ab', 'https://www.srf.ch/play/tv/-/video/-?id=7d8bad26-ac54-4bf6-b6e7-e0bb4bdaaa39'], ['Die höchste Dreiseilbahn der Welt ist eröffnet', 'https://www.srf.ch/play/tv/-/video/-?id=6fe51a4d-aea7-4750-8826-7fd9ec8f490a'], ['Donald Trump macht eine Liebeserklärung', 'https://www.srf.ch/play/tv/-/video/-?id=001013c7-9f27-409d-9fad-6a23673cae82'], ['Tagesschau vom 30.09.2018, 19:30', 'https://www.srf.ch/play/tv/-/video/-?id=990a2071-6a31-4224-ad01-dd5873996766'], ['Eindrückliche Bilder in der «Höll» kurz vor dem Ziel', 'https://www.srf.ch/play/tv/-/video/-?id=f624150b-9958-4f26-9b5b-b5e8758be526'], ['Die Zahl der Opfer steigt', 'https://www.srf.ch/play/tv/-/video/-?id=130c18f5-e2f1-45b4-a09d-96af077cc723'], ['Sion ist dank einem Sieg in Luzern nicht mehr das Schlusslicht', 'https://www.srf.ch/play/tv/-/video/-?id=8e9cd1b8-77e7-40b6-8201-db5806d35f61'], ['Meteo am Mittag vom 01.10.2018', 'https://www.srf.ch/play/tv/-/video/-?id=b7e5864b-717b-4331-af33-17b5b3cdd66e'], ['Tagesschau Mittag vom 01.10.2018', 'https://www.srf.ch/play/tv/-/video/-?id=54a91a58-0a36-43ad-b5dc-15eb4afd6990'], ['Lena - Liebe meines Lebens vom 01.10.2018', 'https://www.srf.ch/play/tv/-/video/-?id=9c9d32ea-a2e8-40b6-a9f2-6715d5dc624b'], ['Drohnen am Frankfurter Nachthimmel', 'https://www.srf.ch/play/tv/-/video/-?id=2ddd8555-f498-4ae0-946b-ad67ea2d2a9d'], ['Wieso muss der Mensch Wasser trinken?', 'https://www.srf.ch/play/tv/-/video/-?id=ce290da6-b019-4211-ae0f-35b8254a137c'], ['Sanogo: «Wir sind nicht nervös»', 'https://www.srf.ch/play/tv/-/video/-?id=c98e6a23-6f7e-4067-b3f5-26296f984078'], ['Fassnacht: «Wir müssen realistisch bleiben.»', 'https://www.srf.ch/play/tv/-/video/-?id=f7479c48-cdff-42eb-85fa-f1896ea74625'], ['Babylon Berlin (Folge 1/16)', 'https://www.srf.ch/play/tv/-/video/-?id=691802a1-3db3-4f56-acc3-0a5b0df1b4b4'], ['Die höchste Dreiseilbahn der Welt ist eröffnet', 'https://www.srf.ch/play/tv/-/video/-?id=6fe51a4d-aea7-4750-8826-7fd9ec8f490a'], ['Die Zahl der Opfer steigt', 'https://www.srf.ch/play/tv/-/video/-?id=130c18f5-e2f1-45b4-a09d-96af077cc723'], ['Tagesschau Mittag vom 01.10.2018', 'https://www.srf.ch/play/tv/-/video/-?id=54a91a58-0a36-43ad-b5dc-15eb4afd6990'], ['Sanogo: «Wir sind nicht nervös»', 'https://www.srf.ch/play/tv/-/video/-?id=c98e6a23-6f7e-4067-b3f5-26296f984078'], ['Fassnacht: «Wir müssen realistisch bleiben.»', 'https://www.srf.ch/play/tv/-/video/-?id=f7479c48-cdff-42eb-85fa-f1896ea74625'], ['Donald Trump macht eine Liebeserklärung', 'https://www.srf.ch/play/tv/-/video/-?id=001013c7-9f27-409d-9fad-6a23673cae82'], ['Das Traumschiff - Botswana', 'http://www.srf.ch/programm/tv/sendung/e5df360e-c5ed-4b46-bd77-6be8ce7b1b61'], ['Guetnachtgschichtli', 'http://www.srf.ch/programm/tv/sendung/7af42811-2eec-43e2-abc1-ee3cdd684651']]\n"
     ]
    }
   ],
   "source": [
    "soup = BeautifulSoup(r.text, 'html.parser')\n",
    "\n",
    "title_list = []\n",
    "\n",
    "# Variante1: search for class title and class header\n",
    "#\n",
    "#for elem in soup.find_all('span', {'class':'title'}):\n",
    "#    # iterate through all span class title\n",
    "#    #print (elem.text.strip())\n",
    "#    title_list.append(\" \".join(elem.text.strip().split()))\n",
    "#for elem in soup.find_all('span', {'class':'header'}):\n",
    "#    # iterate through all span class title\n",
    "#    #print (elem.text.strip())\n",
    "#    title_list.append(\" \".join(elem.text.strip().split()))\n",
    "    \n",
    "\n",
    "\n",
    "# Variante2: search for h3\n",
    "#\n",
    "for elem in soup.find_all('h3')[13:][:55]:\n",
    "    # iterate through all h3-elements (titles)\n",
    "    # remove spaces\n",
    "    # \n",
    "    #print(elem)\n",
    "    try:\n",
    "        # add title and url\n",
    "        title_list.append([\" \".join(elem.text.strip().split()), elem.find('a')['href']])\n",
    "    except:\n",
    "        # empty url if url not working\n",
    "        title_list.append([\" \".join(elem.text.strip().split()),\"\"])\n",
    "    \n",
    "print(title_list)   "
   ]
  },
  {
   "cell_type": "code",
   "execution_count": 97,
   "metadata": {},
   "outputs": [],
   "source": [
    "# write to csv\n",
    "#\n",
    "data = pd.DataFrame(title_list)\n",
    "data.to_csv(\"srf_title_list5.csv\")"
   ]
  },
  {
   "cell_type": "code",
   "execution_count": null,
   "metadata": {},
   "outputs": [],
   "source": []
  },
  {
   "cell_type": "code",
   "execution_count": null,
   "metadata": {},
   "outputs": [],
   "source": []
  }
 ],
 "metadata": {
  "kernelspec": {
   "display_name": "Python 3",
   "language": "python",
   "name": "python3"
  },
  "language_info": {
   "codemirror_mode": {
    "name": "ipython",
    "version": 3
   },
   "file_extension": ".py",
   "mimetype": "text/x-python",
   "name": "python",
   "nbconvert_exporter": "python",
   "pygments_lexer": "ipython3",
   "version": "3.7.0"
  }
 },
 "nbformat": 4,
 "nbformat_minor": 2
}
