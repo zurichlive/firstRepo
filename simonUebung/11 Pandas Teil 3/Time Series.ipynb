{
 "cells": [
  {
   "cell_type": "markdown",
   "metadata": {},
   "source": [
    "# Time Series"
   ]
  },
  {
   "cell_type": "markdown",
   "metadata": {
    "collapsed": true
   },
   "source": [
    "**Inhalt:** Zeitreihen analysieren Like a Boss\n",
    "\n",
    "**Nötige Skills:** Daten explorieren, Time+Date Basics\n",
    "\n",
    "**Lernziele:**\n",
    "- Datetime-Datentyp anwenden\n",
    "- Auswertungsmöglichkeiten für zeitbezogene Daten kennenlernen\n",
    "- Plotting Level 3"
   ]
  },
  {
   "cell_type": "markdown",
   "metadata": {
    "collapsed": true
   },
   "source": [
    "**Weitere Ressourcen:**\n",
    "- https://jakevdp.github.io/PythonDataScienceHandbook/03.11-working-with-time-series.html"
   ]
  },
  {
   "cell_type": "markdown",
   "metadata": {},
   "source": [
    "## Das Beispiel"
   ]
  },
  {
   "cell_type": "markdown",
   "metadata": {},
   "source": [
    "Die Zeit ist eine Dimension, die in vielen Datensets vorkommt.\n",
    "\n",
    "Ein typischer Anwendungsfall sind Finanzdaten. Wir analysieren in diesem Notebook eine einzige Grösse: den Schweizer Aktienindex SMI. Die Daten dazu sind auf täglicher Basis frei verfügbar, ab 1989.\n",
    "\n",
    "Quelle: https://www.six-group.com/exchanges/indices/data_centre/shares/smi_de.html\n",
    "\n",
    "Wir werden in diesem Notebook verschiedene Techniken kennenlernen:\n",
    "- Aus der Gesamtmenge die Zeitperioden auswählen, die uns interessieren\n",
    "- Daten für verschiedene Zeiträume aggregieren (zB Monate)\n",
    "- Daten für verschiedene Zeiträume gruppieren (das ist nicht dasselbe)\n",
    "- Daten-Veränderungen berechnen und darstellen\n",
    "- Trends erkennen und Daten glätten\n",
    "\n",
    "Diverse von diesen Techniken kommen üblicherweise zur Anwendungen, wenn man aus einer Zeitreihe eine Story generieren will, und wenn es darum geht, die Daten angemessen darzustellen."
   ]
  },
  {
   "cell_type": "code",
   "execution_count": null,
   "metadata": {
    "collapsed": true
   },
   "outputs": [],
   "source": []
  },
  {
   "cell_type": "markdown",
   "metadata": {},
   "source": [
    "## Vorbereitung"
   ]
  },
  {
   "cell_type": "code",
   "execution_count": 1,
   "metadata": {},
   "outputs": [],
   "source": [
    "import pandas as pd"
   ]
  },
  {
   "cell_type": "code",
   "execution_count": 2,
   "metadata": {},
   "outputs": [],
   "source": [
    "import numpy as np"
   ]
  },
  {
   "cell_type": "code",
   "execution_count": 3,
   "metadata": {},
   "outputs": [],
   "source": [
    "%matplotlib inline"
   ]
  },
  {
   "cell_type": "markdown",
   "metadata": {},
   "source": [
    "## Daten einlesen"
   ]
  },
  {
   "cell_type": "markdown",
   "metadata": {},
   "source": [
    "Die Daten sind bereits gespeichert unter `dataprojects/SMI/smi_only.csv`"
   ]
  },
  {
   "cell_type": "code",
   "execution_count": 4,
   "metadata": {},
   "outputs": [],
   "source": [
    "df = pd.read_csv('dataprojects/SMI/smi_only.csv', delimiter=';')"
   ]
  },
  {
   "cell_type": "code",
   "execution_count": 5,
   "metadata": {},
   "outputs": [
    {
     "data": {
      "text/html": [
       "<div>\n",
       "<style scoped>\n",
       "    .dataframe tbody tr th:only-of-type {\n",
       "        vertical-align: middle;\n",
       "    }\n",
       "\n",
       "    .dataframe tbody tr th {\n",
       "        vertical-align: top;\n",
       "    }\n",
       "\n",
       "    .dataframe thead th {\n",
       "        text-align: right;\n",
       "    }\n",
       "</style>\n",
       "<table border=\"1\" class=\"dataframe\">\n",
       "  <thead>\n",
       "    <tr style=\"text-align: right;\">\n",
       "      <th></th>\n",
       "      <th>Date</th>\n",
       "      <th>Open</th>\n",
       "      <th>Close</th>\n",
       "      <th>High</th>\n",
       "      <th>Low</th>\n",
       "    </tr>\n",
       "  </thead>\n",
       "  <tbody>\n",
       "    <tr>\n",
       "      <th>0</th>\n",
       "      <td>12.10.2018</td>\n",
       "      <td>8702.13</td>\n",
       "      <td>8660.38</td>\n",
       "      <td>8738.78</td>\n",
       "      <td>8660.25</td>\n",
       "    </tr>\n",
       "    <tr>\n",
       "      <th>1</th>\n",
       "      <td>11.10.2018</td>\n",
       "      <td>8760.52</td>\n",
       "      <td>8639.19</td>\n",
       "      <td>8796.87</td>\n",
       "      <td>8628.65</td>\n",
       "    </tr>\n",
       "  </tbody>\n",
       "</table>\n",
       "</div>"
      ],
      "text/plain": [
       "         Date     Open    Close     High      Low\n",
       "0  12.10.2018  8702.13  8660.38  8738.78  8660.25\n",
       "1  11.10.2018  8760.52  8639.19  8796.87  8628.65"
      ]
     },
     "execution_count": 5,
     "metadata": {},
     "output_type": "execute_result"
    }
   ],
   "source": [
    "df.head(2)"
   ]
  },
  {
   "cell_type": "markdown",
   "metadata": {
    "collapsed": true
   },
   "source": [
    "Wie üblich, Typen abchecken"
   ]
  },
  {
   "cell_type": "code",
   "execution_count": 6,
   "metadata": {},
   "outputs": [
    {
     "data": {
      "text/plain": [
       "Date      object\n",
       "Open     float64\n",
       "Close    float64\n",
       "High      object\n",
       "Low      float64\n",
       "dtype: object"
      ]
     },
     "execution_count": 6,
     "metadata": {},
     "output_type": "execute_result"
    }
   ],
   "source": [
    "df.dtypes"
   ]
  },
  {
   "cell_type": "markdown",
   "metadata": {
    "collapsed": true
   },
   "source": [
    "Spalte \"High\" genauer anschauen"
   ]
  },
  {
   "cell_type": "code",
   "execution_count": 12,
   "metadata": {},
   "outputs": [
    {
     "ename": "NameError",
     "evalue": "name 'x' is not defined",
     "output_type": "error",
     "traceback": [
      "\u001b[0;31m---------------------------------------------------------------------------\u001b[0m",
      "\u001b[0;31mNameError\u001b[0m                                 Traceback (most recent call last)",
      "\u001b[0;32m<ipython-input-12-473627a41a80>\u001b[0m in \u001b[0;36m<module>\u001b[0;34m()\u001b[0m\n\u001b[1;32m      1\u001b[0m \u001b[0mdf\u001b[0m\u001b[0;34m[\u001b[0m\u001b[0;34m'High'\u001b[0m\u001b[0;34m]\u001b[0m\u001b[0;34m.\u001b[0m\u001b[0mvalue_counts\u001b[0m\u001b[0;34m(\u001b[0m\u001b[0;34m)\u001b[0m\u001b[0;34m\u001b[0m\u001b[0m\n\u001b[0;32m----> 2\u001b[0;31m \u001b[0mx\u001b[0m\u001b[0;34m\u001b[0m\u001b[0m\n\u001b[0m",
      "\u001b[0;31mNameError\u001b[0m: name 'x' is not defined"
     ]
    }
   ],
   "source": [
    "df['High'].value_counts()\n",
    "x"
   ]
  },
  {
   "cell_type": "markdown",
   "metadata": {},
   "source": [
    "Es hat einige Leerzeichen drin"
   ]
  },
  {
   "cell_type": "code",
   "execution_count": 8,
   "metadata": {},
   "outputs": [
    {
     "data": {
      "text/plain": [
       "Index([' '], dtype='object')"
      ]
     },
     "execution_count": 8,
     "metadata": {},
     "output_type": "execute_result"
    }
   ],
   "source": [
    "df['High'].value_counts().head(1).index"
   ]
  },
  {
   "cell_type": "markdown",
   "metadata": {
    "collapsed": true
   },
   "source": [
    "Wir können die Datei nochmals einlesen mit `na_values=`"
   ]
  },
  {
   "cell_type": "code",
   "execution_count": 9,
   "metadata": {},
   "outputs": [],
   "source": [
    "df = pd.read_csv('dataprojects/SMI/smi_only.csv', delimiter=';', na_values=' ')"
   ]
  },
  {
   "cell_type": "code",
   "execution_count": 10,
   "metadata": {},
   "outputs": [
    {
     "data": {
      "text/html": [
       "<div>\n",
       "<style scoped>\n",
       "    .dataframe tbody tr th:only-of-type {\n",
       "        vertical-align: middle;\n",
       "    }\n",
       "\n",
       "    .dataframe tbody tr th {\n",
       "        vertical-align: top;\n",
       "    }\n",
       "\n",
       "    .dataframe thead th {\n",
       "        text-align: right;\n",
       "    }\n",
       "</style>\n",
       "<table border=\"1\" class=\"dataframe\">\n",
       "  <thead>\n",
       "    <tr style=\"text-align: right;\">\n",
       "      <th></th>\n",
       "      <th>Date</th>\n",
       "      <th>Open</th>\n",
       "      <th>Close</th>\n",
       "      <th>High</th>\n",
       "      <th>Low</th>\n",
       "    </tr>\n",
       "  </thead>\n",
       "  <tbody>\n",
       "    <tr>\n",
       "      <th>0</th>\n",
       "      <td>12.10.2018</td>\n",
       "      <td>8702.13</td>\n",
       "      <td>8660.38</td>\n",
       "      <td>8738.78</td>\n",
       "      <td>8660.25</td>\n",
       "    </tr>\n",
       "    <tr>\n",
       "      <th>1</th>\n",
       "      <td>11.10.2018</td>\n",
       "      <td>8760.52</td>\n",
       "      <td>8639.19</td>\n",
       "      <td>8796.87</td>\n",
       "      <td>8628.65</td>\n",
       "    </tr>\n",
       "  </tbody>\n",
       "</table>\n",
       "</div>"
      ],
      "text/plain": [
       "         Date     Open    Close     High      Low\n",
       "0  12.10.2018  8702.13  8660.38  8738.78  8660.25\n",
       "1  11.10.2018  8760.52  8639.19  8796.87  8628.65"
      ]
     },
     "execution_count": 10,
     "metadata": {},
     "output_type": "execute_result"
    }
   ],
   "source": [
    "df.head(2)"
   ]
  },
  {
   "cell_type": "code",
   "execution_count": 13,
   "metadata": {},
   "outputs": [
    {
     "data": {
      "text/plain": [
       "Date      object\n",
       "Open     float64\n",
       "Close    float64\n",
       "High     float64\n",
       "Low      float64\n",
       "dtype: object"
      ]
     },
     "execution_count": 13,
     "metadata": {},
     "output_type": "execute_result"
    }
   ],
   "source": [
    "df.dtypes"
   ]
  },
  {
   "cell_type": "markdown",
   "metadata": {},
   "source": [
    "Nochmals etwas genauer abchecken:"
   ]
  },
  {
   "cell_type": "code",
   "execution_count": 14,
   "metadata": {},
   "outputs": [
    {
     "data": {
      "text/html": [
       "<div>\n",
       "<style scoped>\n",
       "    .dataframe tbody tr th:only-of-type {\n",
       "        vertical-align: middle;\n",
       "    }\n",
       "\n",
       "    .dataframe tbody tr th {\n",
       "        vertical-align: top;\n",
       "    }\n",
       "\n",
       "    .dataframe thead th {\n",
       "        text-align: right;\n",
       "    }\n",
       "</style>\n",
       "<table border=\"1\" class=\"dataframe\">\n",
       "  <thead>\n",
       "    <tr style=\"text-align: right;\">\n",
       "      <th></th>\n",
       "      <th>Open</th>\n",
       "      <th>Close</th>\n",
       "      <th>High</th>\n",
       "      <th>Low</th>\n",
       "    </tr>\n",
       "  </thead>\n",
       "  <tbody>\n",
       "    <tr>\n",
       "      <th>count</th>\n",
       "      <td>7480.000000</td>\n",
       "      <td>7480.000000</td>\n",
       "      <td>7474.000000</td>\n",
       "      <td>7480.000000</td>\n",
       "    </tr>\n",
       "    <tr>\n",
       "      <th>mean</th>\n",
       "      <td>5808.371451</td>\n",
       "      <td>5807.904520</td>\n",
       "      <td>5847.168964</td>\n",
       "      <td>5769.384362</td>\n",
       "    </tr>\n",
       "    <tr>\n",
       "      <th>std</th>\n",
       "      <td>2446.528872</td>\n",
       "      <td>2445.419499</td>\n",
       "      <td>2454.735349</td>\n",
       "      <td>2436.928060</td>\n",
       "    </tr>\n",
       "    <tr>\n",
       "      <th>min</th>\n",
       "      <td>1288.700000</td>\n",
       "      <td>1287.600000</td>\n",
       "      <td>1296.600000</td>\n",
       "      <td>0.000000</td>\n",
       "    </tr>\n",
       "    <tr>\n",
       "      <th>25%</th>\n",
       "      <td>3643.125000</td>\n",
       "      <td>3645.625000</td>\n",
       "      <td>3666.200000</td>\n",
       "      <td>3623.925000</td>\n",
       "    </tr>\n",
       "    <tr>\n",
       "      <th>50%</th>\n",
       "      <td>6309.075000</td>\n",
       "      <td>6311.865000</td>\n",
       "      <td>6357.550000</td>\n",
       "      <td>6265.790000</td>\n",
       "    </tr>\n",
       "    <tr>\n",
       "      <th>75%</th>\n",
       "      <td>7870.735000</td>\n",
       "      <td>7863.675000</td>\n",
       "      <td>7906.162500</td>\n",
       "      <td>7823.397500</td>\n",
       "    </tr>\n",
       "    <tr>\n",
       "      <th>max</th>\n",
       "      <td>9588.480000</td>\n",
       "      <td>9611.610000</td>\n",
       "      <td>9616.380000</td>\n",
       "      <td>9554.480000</td>\n",
       "    </tr>\n",
       "  </tbody>\n",
       "</table>\n",
       "</div>"
      ],
      "text/plain": [
       "              Open        Close         High          Low\n",
       "count  7480.000000  7480.000000  7474.000000  7480.000000\n",
       "mean   5808.371451  5807.904520  5847.168964  5769.384362\n",
       "std    2446.528872  2445.419499  2454.735349  2436.928060\n",
       "min    1288.700000  1287.600000  1296.600000     0.000000\n",
       "25%    3643.125000  3645.625000  3666.200000  3623.925000\n",
       "50%    6309.075000  6311.865000  6357.550000  6265.790000\n",
       "75%    7870.735000  7863.675000  7906.162500  7823.397500\n",
       "max    9588.480000  9611.610000  9616.380000  9554.480000"
      ]
     },
     "execution_count": 14,
     "metadata": {},
     "output_type": "execute_result"
    }
   ],
   "source": [
    "df.describe()"
   ]
  },
  {
   "cell_type": "markdown",
   "metadata": {},
   "source": [
    "In der Spalte \"Low\" gibt es offenbar einige Werte, die nicht stimmen können... (die Börse ging hoffentlich nie auf 0 runter)"
   ]
  },
  {
   "cell_type": "code",
   "execution_count": 17,
   "metadata": {},
   "outputs": [
    {
     "data": {
      "text/plain": [
       "1491.7    4\n",
       "2610.0    3\n",
       "1692.5    3\n",
       "1688.9    3\n",
       "1804.5    3\n",
       "Name: High, dtype: int64"
      ]
     },
     "execution_count": 17,
     "metadata": {},
     "output_type": "execute_result"
    }
   ],
   "source": [
    "df['High'].value_counts().head()\n",
    "#df['Low'].value_counts().head()"
   ]
  },
  {
   "cell_type": "markdown",
   "metadata": {},
   "source": [
    "Was waren das für Zeitpunkte?"
   ]
  },
  {
   "cell_type": "code",
   "execution_count": 18,
   "metadata": {},
   "outputs": [
    {
     "data": {
      "text/html": [
       "<div>\n",
       "<style scoped>\n",
       "    .dataframe tbody tr th:only-of-type {\n",
       "        vertical-align: middle;\n",
       "    }\n",
       "\n",
       "    .dataframe tbody tr th {\n",
       "        vertical-align: top;\n",
       "    }\n",
       "\n",
       "    .dataframe thead th {\n",
       "        text-align: right;\n",
       "    }\n",
       "</style>\n",
       "<table border=\"1\" class=\"dataframe\">\n",
       "  <thead>\n",
       "    <tr style=\"text-align: right;\">\n",
       "      <th></th>\n",
       "      <th>Date</th>\n",
       "      <th>Open</th>\n",
       "      <th>Close</th>\n",
       "      <th>High</th>\n",
       "      <th>Low</th>\n",
       "    </tr>\n",
       "  </thead>\n",
       "  <tbody>\n",
       "    <tr>\n",
       "      <th>6957</th>\n",
       "      <td>11.02.1991</td>\n",
       "      <td>1497.7</td>\n",
       "      <td>1515.7</td>\n",
       "      <td>1516.8</td>\n",
       "      <td>0.0</td>\n",
       "    </tr>\n",
       "    <tr>\n",
       "      <th>6988</th>\n",
       "      <td>21.12.1990</td>\n",
       "      <td>1367.4</td>\n",
       "      <td>1387.9</td>\n",
       "      <td>1389.7</td>\n",
       "      <td>0.0</td>\n",
       "    </tr>\n",
       "    <tr>\n",
       "      <th>7244</th>\n",
       "      <td>11.12.1989</td>\n",
       "      <td>1781.4</td>\n",
       "      <td>1783.3</td>\n",
       "      <td>NaN</td>\n",
       "      <td>0.0</td>\n",
       "    </tr>\n",
       "    <tr>\n",
       "      <th>7333</th>\n",
       "      <td>07.08.1989</td>\n",
       "      <td>1820.0</td>\n",
       "      <td>1829.4</td>\n",
       "      <td>1832.6</td>\n",
       "      <td>0.0</td>\n",
       "    </tr>\n",
       "    <tr>\n",
       "      <th>7342</th>\n",
       "      <td>24.07.1989</td>\n",
       "      <td>1761.3</td>\n",
       "      <td>1764.3</td>\n",
       "      <td>1764.8</td>\n",
       "      <td>0.0</td>\n",
       "    </tr>\n",
       "    <tr>\n",
       "      <th>7357</th>\n",
       "      <td>03.07.1989</td>\n",
       "      <td>1641.2</td>\n",
       "      <td>1653.1</td>\n",
       "      <td>1653.1</td>\n",
       "      <td>0.0</td>\n",
       "    </tr>\n",
       "    <tr>\n",
       "      <th>7393</th>\n",
       "      <td>11.05.1989</td>\n",
       "      <td>1528.7</td>\n",
       "      <td>1528.7</td>\n",
       "      <td>NaN</td>\n",
       "      <td>0.0</td>\n",
       "    </tr>\n",
       "    <tr>\n",
       "      <th>7438</th>\n",
       "      <td>01.03.1989</td>\n",
       "      <td>1451.4</td>\n",
       "      <td>1460.8</td>\n",
       "      <td>1469.8</td>\n",
       "      <td>0.0</td>\n",
       "    </tr>\n",
       "  </tbody>\n",
       "</table>\n",
       "</div>"
      ],
      "text/plain": [
       "            Date    Open   Close    High  Low\n",
       "6957  11.02.1991  1497.7  1515.7  1516.8  0.0\n",
       "6988  21.12.1990  1367.4  1387.9  1389.7  0.0\n",
       "7244  11.12.1989  1781.4  1783.3     NaN  0.0\n",
       "7333  07.08.1989  1820.0  1829.4  1832.6  0.0\n",
       "7342  24.07.1989  1761.3  1764.3  1764.8  0.0\n",
       "7357  03.07.1989  1641.2  1653.1  1653.1  0.0\n",
       "7393  11.05.1989  1528.7  1528.7     NaN  0.0\n",
       "7438  01.03.1989  1451.4  1460.8  1469.8  0.0"
      ]
     },
     "execution_count": 18,
     "metadata": {},
     "output_type": "execute_result"
    }
   ],
   "source": [
    "df[df['Low'] == 0]"
   ]
  },
  {
   "cell_type": "markdown",
   "metadata": {},
   "source": [
    "Wir korrigieren das... speichern zur Sicherheit nochmals kurz die Index-Zahlen ab"
   ]
  },
  {
   "cell_type": "code",
   "execution_count": 20,
   "metadata": {},
   "outputs": [
    {
     "data": {
      "text/plain": [
       "Int64Index([6957, 6988, 7244, 7333, 7342, 7357, 7393, 7438], dtype='int64')"
      ]
     },
     "execution_count": 20,
     "metadata": {},
     "output_type": "execute_result"
    }
   ],
   "source": [
    "low_nullen = df[df['Low'] == 0].index\n",
    "low_nullen"
   ]
  },
  {
   "cell_type": "code",
   "execution_count": 21,
   "metadata": {},
   "outputs": [
    {
     "data": {
      "text/html": [
       "<div>\n",
       "<style scoped>\n",
       "    .dataframe tbody tr th:only-of-type {\n",
       "        vertical-align: middle;\n",
       "    }\n",
       "\n",
       "    .dataframe tbody tr th {\n",
       "        vertical-align: top;\n",
       "    }\n",
       "\n",
       "    .dataframe thead th {\n",
       "        text-align: right;\n",
       "    }\n",
       "</style>\n",
       "<table border=\"1\" class=\"dataframe\">\n",
       "  <thead>\n",
       "    <tr style=\"text-align: right;\">\n",
       "      <th></th>\n",
       "      <th>Date</th>\n",
       "      <th>Open</th>\n",
       "      <th>Close</th>\n",
       "      <th>High</th>\n",
       "      <th>Low</th>\n",
       "    </tr>\n",
       "  </thead>\n",
       "  <tbody>\n",
       "    <tr>\n",
       "      <th>6957</th>\n",
       "      <td>11.02.1991</td>\n",
       "      <td>1497.7</td>\n",
       "      <td>1515.7</td>\n",
       "      <td>1516.8</td>\n",
       "      <td>0.0</td>\n",
       "    </tr>\n",
       "    <tr>\n",
       "      <th>6988</th>\n",
       "      <td>21.12.1990</td>\n",
       "      <td>1367.4</td>\n",
       "      <td>1387.9</td>\n",
       "      <td>1389.7</td>\n",
       "      <td>0.0</td>\n",
       "    </tr>\n",
       "    <tr>\n",
       "      <th>7244</th>\n",
       "      <td>11.12.1989</td>\n",
       "      <td>1781.4</td>\n",
       "      <td>1783.3</td>\n",
       "      <td>NaN</td>\n",
       "      <td>0.0</td>\n",
       "    </tr>\n",
       "    <tr>\n",
       "      <th>7333</th>\n",
       "      <td>07.08.1989</td>\n",
       "      <td>1820.0</td>\n",
       "      <td>1829.4</td>\n",
       "      <td>1832.6</td>\n",
       "      <td>0.0</td>\n",
       "    </tr>\n",
       "    <tr>\n",
       "      <th>7342</th>\n",
       "      <td>24.07.1989</td>\n",
       "      <td>1761.3</td>\n",
       "      <td>1764.3</td>\n",
       "      <td>1764.8</td>\n",
       "      <td>0.0</td>\n",
       "    </tr>\n",
       "    <tr>\n",
       "      <th>7357</th>\n",
       "      <td>03.07.1989</td>\n",
       "      <td>1641.2</td>\n",
       "      <td>1653.1</td>\n",
       "      <td>1653.1</td>\n",
       "      <td>0.0</td>\n",
       "    </tr>\n",
       "    <tr>\n",
       "      <th>7393</th>\n",
       "      <td>11.05.1989</td>\n",
       "      <td>1528.7</td>\n",
       "      <td>1528.7</td>\n",
       "      <td>NaN</td>\n",
       "      <td>0.0</td>\n",
       "    </tr>\n",
       "    <tr>\n",
       "      <th>7438</th>\n",
       "      <td>01.03.1989</td>\n",
       "      <td>1451.4</td>\n",
       "      <td>1460.8</td>\n",
       "      <td>1469.8</td>\n",
       "      <td>0.0</td>\n",
       "    </tr>\n",
       "  </tbody>\n",
       "</table>\n",
       "</div>"
      ],
      "text/plain": [
       "            Date    Open   Close    High  Low\n",
       "6957  11.02.1991  1497.7  1515.7  1516.8  0.0\n",
       "6988  21.12.1990  1367.4  1387.9  1389.7  0.0\n",
       "7244  11.12.1989  1781.4  1783.3     NaN  0.0\n",
       "7333  07.08.1989  1820.0  1829.4  1832.6  0.0\n",
       "7342  24.07.1989  1761.3  1764.3  1764.8  0.0\n",
       "7357  03.07.1989  1641.2  1653.1  1653.1  0.0\n",
       "7393  11.05.1989  1528.7  1528.7     NaN  0.0\n",
       "7438  01.03.1989  1451.4  1460.8  1469.8  0.0"
      ]
     },
     "execution_count": 21,
     "metadata": {},
     "output_type": "execute_result"
    }
   ],
   "source": [
    "# wie sehen die Einträge aus?\n",
    "df.loc[low_nullen]"
   ]
  },
  {
   "cell_type": "code",
   "execution_count": 22,
   "metadata": {},
   "outputs": [],
   "source": [
    "df['Low'].replace(0, np.nan, inplace=True)"
   ]
  },
  {
   "cell_type": "markdown",
   "metadata": {},
   "source": [
    "Check ob es funktioniert hat (wir nutzen die zwischengespeicherten Index-Zahlen)"
   ]
  },
  {
   "cell_type": "code",
   "execution_count": 23,
   "metadata": {},
   "outputs": [
    {
     "data": {
      "text/html": [
       "<div>\n",
       "<style scoped>\n",
       "    .dataframe tbody tr th:only-of-type {\n",
       "        vertical-align: middle;\n",
       "    }\n",
       "\n",
       "    .dataframe tbody tr th {\n",
       "        vertical-align: top;\n",
       "    }\n",
       "\n",
       "    .dataframe thead th {\n",
       "        text-align: right;\n",
       "    }\n",
       "</style>\n",
       "<table border=\"1\" class=\"dataframe\">\n",
       "  <thead>\n",
       "    <tr style=\"text-align: right;\">\n",
       "      <th></th>\n",
       "      <th>Date</th>\n",
       "      <th>Open</th>\n",
       "      <th>Close</th>\n",
       "      <th>High</th>\n",
       "      <th>Low</th>\n",
       "    </tr>\n",
       "  </thead>\n",
       "  <tbody>\n",
       "    <tr>\n",
       "      <th>6957</th>\n",
       "      <td>11.02.1991</td>\n",
       "      <td>1497.7</td>\n",
       "      <td>1515.7</td>\n",
       "      <td>1516.8</td>\n",
       "      <td>NaN</td>\n",
       "    </tr>\n",
       "    <tr>\n",
       "      <th>6988</th>\n",
       "      <td>21.12.1990</td>\n",
       "      <td>1367.4</td>\n",
       "      <td>1387.9</td>\n",
       "      <td>1389.7</td>\n",
       "      <td>NaN</td>\n",
       "    </tr>\n",
       "    <tr>\n",
       "      <th>7244</th>\n",
       "      <td>11.12.1989</td>\n",
       "      <td>1781.4</td>\n",
       "      <td>1783.3</td>\n",
       "      <td>NaN</td>\n",
       "      <td>NaN</td>\n",
       "    </tr>\n",
       "    <tr>\n",
       "      <th>7333</th>\n",
       "      <td>07.08.1989</td>\n",
       "      <td>1820.0</td>\n",
       "      <td>1829.4</td>\n",
       "      <td>1832.6</td>\n",
       "      <td>NaN</td>\n",
       "    </tr>\n",
       "    <tr>\n",
       "      <th>7342</th>\n",
       "      <td>24.07.1989</td>\n",
       "      <td>1761.3</td>\n",
       "      <td>1764.3</td>\n",
       "      <td>1764.8</td>\n",
       "      <td>NaN</td>\n",
       "    </tr>\n",
       "    <tr>\n",
       "      <th>7357</th>\n",
       "      <td>03.07.1989</td>\n",
       "      <td>1641.2</td>\n",
       "      <td>1653.1</td>\n",
       "      <td>1653.1</td>\n",
       "      <td>NaN</td>\n",
       "    </tr>\n",
       "    <tr>\n",
       "      <th>7393</th>\n",
       "      <td>11.05.1989</td>\n",
       "      <td>1528.7</td>\n",
       "      <td>1528.7</td>\n",
       "      <td>NaN</td>\n",
       "      <td>NaN</td>\n",
       "    </tr>\n",
       "    <tr>\n",
       "      <th>7438</th>\n",
       "      <td>01.03.1989</td>\n",
       "      <td>1451.4</td>\n",
       "      <td>1460.8</td>\n",
       "      <td>1469.8</td>\n",
       "      <td>NaN</td>\n",
       "    </tr>\n",
       "  </tbody>\n",
       "</table>\n",
       "</div>"
      ],
      "text/plain": [
       "            Date    Open   Close    High  Low\n",
       "6957  11.02.1991  1497.7  1515.7  1516.8  NaN\n",
       "6988  21.12.1990  1367.4  1387.9  1389.7  NaN\n",
       "7244  11.12.1989  1781.4  1783.3     NaN  NaN\n",
       "7333  07.08.1989  1820.0  1829.4  1832.6  NaN\n",
       "7342  24.07.1989  1761.3  1764.3  1764.8  NaN\n",
       "7357  03.07.1989  1641.2  1653.1  1653.1  NaN\n",
       "7393  11.05.1989  1528.7  1528.7     NaN  NaN\n",
       "7438  01.03.1989  1451.4  1460.8  1469.8  NaN"
      ]
     },
     "execution_count": 23,
     "metadata": {},
     "output_type": "execute_result"
    }
   ],
   "source": [
    "df.loc[low_nullen]"
   ]
  },
  {
   "cell_type": "code",
   "execution_count": 24,
   "metadata": {},
   "outputs": [
    {
     "data": {
      "text/html": [
       "<div>\n",
       "<style scoped>\n",
       "    .dataframe tbody tr th:only-of-type {\n",
       "        vertical-align: middle;\n",
       "    }\n",
       "\n",
       "    .dataframe tbody tr th {\n",
       "        vertical-align: top;\n",
       "    }\n",
       "\n",
       "    .dataframe thead th {\n",
       "        text-align: right;\n",
       "    }\n",
       "</style>\n",
       "<table border=\"1\" class=\"dataframe\">\n",
       "  <thead>\n",
       "    <tr style=\"text-align: right;\">\n",
       "      <th></th>\n",
       "      <th>Open</th>\n",
       "      <th>Close</th>\n",
       "      <th>High</th>\n",
       "      <th>Low</th>\n",
       "    </tr>\n",
       "  </thead>\n",
       "  <tbody>\n",
       "    <tr>\n",
       "      <th>count</th>\n",
       "      <td>7480.000000</td>\n",
       "      <td>7480.000000</td>\n",
       "      <td>7474.000000</td>\n",
       "      <td>7472.000000</td>\n",
       "    </tr>\n",
       "    <tr>\n",
       "      <th>mean</th>\n",
       "      <td>5808.371451</td>\n",
       "      <td>5807.904520</td>\n",
       "      <td>5847.168964</td>\n",
       "      <td>5775.561433</td>\n",
       "    </tr>\n",
       "    <tr>\n",
       "      <th>std</th>\n",
       "      <td>2446.528872</td>\n",
       "      <td>2445.419499</td>\n",
       "      <td>2454.735349</td>\n",
       "      <td>2430.904493</td>\n",
       "    </tr>\n",
       "    <tr>\n",
       "      <th>min</th>\n",
       "      <td>1288.700000</td>\n",
       "      <td>1287.600000</td>\n",
       "      <td>1296.600000</td>\n",
       "      <td>1279.000000</td>\n",
       "    </tr>\n",
       "    <tr>\n",
       "      <th>25%</th>\n",
       "      <td>3643.125000</td>\n",
       "      <td>3645.625000</td>\n",
       "      <td>3666.200000</td>\n",
       "      <td>3635.225000</td>\n",
       "    </tr>\n",
       "    <tr>\n",
       "      <th>50%</th>\n",
       "      <td>6309.075000</td>\n",
       "      <td>6311.865000</td>\n",
       "      <td>6357.550000</td>\n",
       "      <td>6267.860000</td>\n",
       "    </tr>\n",
       "    <tr>\n",
       "      <th>75%</th>\n",
       "      <td>7870.735000</td>\n",
       "      <td>7863.675000</td>\n",
       "      <td>7906.162500</td>\n",
       "      <td>7823.842500</td>\n",
       "    </tr>\n",
       "    <tr>\n",
       "      <th>max</th>\n",
       "      <td>9588.480000</td>\n",
       "      <td>9611.610000</td>\n",
       "      <td>9616.380000</td>\n",
       "      <td>9554.480000</td>\n",
       "    </tr>\n",
       "  </tbody>\n",
       "</table>\n",
       "</div>"
      ],
      "text/plain": [
       "              Open        Close         High          Low\n",
       "count  7480.000000  7480.000000  7474.000000  7472.000000\n",
       "mean   5808.371451  5807.904520  5847.168964  5775.561433\n",
       "std    2446.528872  2445.419499  2454.735349  2430.904493\n",
       "min    1288.700000  1287.600000  1296.600000  1279.000000\n",
       "25%    3643.125000  3645.625000  3666.200000  3635.225000\n",
       "50%    6309.075000  6311.865000  6357.550000  6267.860000\n",
       "75%    7870.735000  7863.675000  7906.162500  7823.842500\n",
       "max    9588.480000  9611.610000  9616.380000  9554.480000"
      ]
     },
     "execution_count": 24,
     "metadata": {},
     "output_type": "execute_result"
    }
   ],
   "source": [
    "df.describe()"
   ]
  },
  {
   "cell_type": "markdown",
   "metadata": {
    "collapsed": true
   },
   "source": [
    "Jetzt sind wir ready! - fast."
   ]
  },
  {
   "cell_type": "markdown",
   "metadata": {},
   "source": [
    "## Daten Arrangieren"
   ]
  },
  {
   "cell_type": "markdown",
   "metadata": {},
   "source": [
    "Bevor es losgeht mit analysieren, erstellen wir uns eine ordentliche Datums-Spalte.\n",
    "\n",
    "Und zwar eine, die den Datentyp \"Datetime\" hat!"
   ]
  },
  {
   "cell_type": "code",
   "execution_count": 25,
   "metadata": {},
   "outputs": [],
   "source": [
    "df['New Date'] = pd.to_datetime(df['Date'], format=\"%d.%m.%Y\")"
   ]
  },
  {
   "cell_type": "code",
   "execution_count": 26,
   "metadata": {},
   "outputs": [
    {
     "data": {
      "text/html": [
       "<div>\n",
       "<style scoped>\n",
       "    .dataframe tbody tr th:only-of-type {\n",
       "        vertical-align: middle;\n",
       "    }\n",
       "\n",
       "    .dataframe tbody tr th {\n",
       "        vertical-align: top;\n",
       "    }\n",
       "\n",
       "    .dataframe thead th {\n",
       "        text-align: right;\n",
       "    }\n",
       "</style>\n",
       "<table border=\"1\" class=\"dataframe\">\n",
       "  <thead>\n",
       "    <tr style=\"text-align: right;\">\n",
       "      <th></th>\n",
       "      <th>Date</th>\n",
       "      <th>Open</th>\n",
       "      <th>Close</th>\n",
       "      <th>High</th>\n",
       "      <th>Low</th>\n",
       "      <th>New Date</th>\n",
       "    </tr>\n",
       "  </thead>\n",
       "  <tbody>\n",
       "    <tr>\n",
       "      <th>0</th>\n",
       "      <td>12.10.2018</td>\n",
       "      <td>8702.13</td>\n",
       "      <td>8660.38</td>\n",
       "      <td>8738.78</td>\n",
       "      <td>8660.25</td>\n",
       "      <td>2018-10-12</td>\n",
       "    </tr>\n",
       "    <tr>\n",
       "      <th>1</th>\n",
       "      <td>11.10.2018</td>\n",
       "      <td>8760.52</td>\n",
       "      <td>8639.19</td>\n",
       "      <td>8796.87</td>\n",
       "      <td>8628.65</td>\n",
       "      <td>2018-10-11</td>\n",
       "    </tr>\n",
       "  </tbody>\n",
       "</table>\n",
       "</div>"
      ],
      "text/plain": [
       "         Date     Open    Close     High      Low   New Date\n",
       "0  12.10.2018  8702.13  8660.38  8738.78  8660.25 2018-10-12\n",
       "1  11.10.2018  8760.52  8639.19  8796.87  8628.65 2018-10-11"
      ]
     },
     "execution_count": 26,
     "metadata": {},
     "output_type": "execute_result"
    }
   ],
   "source": [
    "df.head(2)"
   ]
  },
  {
   "cell_type": "code",
   "execution_count": 27,
   "metadata": {},
   "outputs": [
    {
     "data": {
      "text/plain": [
       "Date                object\n",
       "Open               float64\n",
       "Close              float64\n",
       "High               float64\n",
       "Low                float64\n",
       "New Date    datetime64[ns]\n",
       "dtype: object"
      ]
     },
     "execution_count": 27,
     "metadata": {},
     "output_type": "execute_result"
    }
   ],
   "source": [
    "df.dtypes"
   ]
  },
  {
   "cell_type": "markdown",
   "metadata": {
    "collapsed": true
   },
   "source": [
    "Wir setzen diese Spalte nun als Index"
   ]
  },
  {
   "cell_type": "code",
   "execution_count": 28,
   "metadata": {},
   "outputs": [],
   "source": [
    "df.set_index('New Date', inplace=True)"
   ]
  },
  {
   "cell_type": "code",
   "execution_count": 29,
   "metadata": {},
   "outputs": [
    {
     "data": {
      "text/html": [
       "<div>\n",
       "<style scoped>\n",
       "    .dataframe tbody tr th:only-of-type {\n",
       "        vertical-align: middle;\n",
       "    }\n",
       "\n",
       "    .dataframe tbody tr th {\n",
       "        vertical-align: top;\n",
       "    }\n",
       "\n",
       "    .dataframe thead th {\n",
       "        text-align: right;\n",
       "    }\n",
       "</style>\n",
       "<table border=\"1\" class=\"dataframe\">\n",
       "  <thead>\n",
       "    <tr style=\"text-align: right;\">\n",
       "      <th></th>\n",
       "      <th>Date</th>\n",
       "      <th>Open</th>\n",
       "      <th>Close</th>\n",
       "      <th>High</th>\n",
       "      <th>Low</th>\n",
       "    </tr>\n",
       "    <tr>\n",
       "      <th>New Date</th>\n",
       "      <th></th>\n",
       "      <th></th>\n",
       "      <th></th>\n",
       "      <th></th>\n",
       "      <th></th>\n",
       "    </tr>\n",
       "  </thead>\n",
       "  <tbody>\n",
       "    <tr>\n",
       "      <th>2018-10-12</th>\n",
       "      <td>12.10.2018</td>\n",
       "      <td>8702.13</td>\n",
       "      <td>8660.38</td>\n",
       "      <td>8738.78</td>\n",
       "      <td>8660.25</td>\n",
       "    </tr>\n",
       "    <tr>\n",
       "      <th>2018-10-11</th>\n",
       "      <td>11.10.2018</td>\n",
       "      <td>8760.52</td>\n",
       "      <td>8639.19</td>\n",
       "      <td>8796.87</td>\n",
       "      <td>8628.65</td>\n",
       "    </tr>\n",
       "  </tbody>\n",
       "</table>\n",
       "</div>"
      ],
      "text/plain": [
       "                  Date     Open    Close     High      Low\n",
       "New Date                                                  \n",
       "2018-10-12  12.10.2018  8702.13  8660.38  8738.78  8660.25\n",
       "2018-10-11  11.10.2018  8760.52  8639.19  8796.87  8628.65"
      ]
     },
     "execution_count": 29,
     "metadata": {},
     "output_type": "execute_result"
    }
   ],
   "source": [
    "df.head(2)"
   ]
  },
  {
   "cell_type": "markdown",
   "metadata": {
    "collapsed": true
   },
   "source": [
    "Damit das noch etwas schöner aussieht..."
   ]
  },
  {
   "cell_type": "code",
   "execution_count": 30,
   "metadata": {},
   "outputs": [],
   "source": [
    "#ohne Namen\n",
    "df.rename_axis(None, inplace=True)"
   ]
  },
  {
   "cell_type": "code",
   "execution_count": 31,
   "metadata": {},
   "outputs": [
    {
     "data": {
      "text/html": [
       "<div>\n",
       "<style scoped>\n",
       "    .dataframe tbody tr th:only-of-type {\n",
       "        vertical-align: middle;\n",
       "    }\n",
       "\n",
       "    .dataframe tbody tr th {\n",
       "        vertical-align: top;\n",
       "    }\n",
       "\n",
       "    .dataframe thead th {\n",
       "        text-align: right;\n",
       "    }\n",
       "</style>\n",
       "<table border=\"1\" class=\"dataframe\">\n",
       "  <thead>\n",
       "    <tr style=\"text-align: right;\">\n",
       "      <th></th>\n",
       "      <th>Date</th>\n",
       "      <th>Open</th>\n",
       "      <th>Close</th>\n",
       "      <th>High</th>\n",
       "      <th>Low</th>\n",
       "    </tr>\n",
       "  </thead>\n",
       "  <tbody>\n",
       "    <tr>\n",
       "      <th>2018-10-12</th>\n",
       "      <td>12.10.2018</td>\n",
       "      <td>8702.13</td>\n",
       "      <td>8660.38</td>\n",
       "      <td>8738.78</td>\n",
       "      <td>8660.25</td>\n",
       "    </tr>\n",
       "    <tr>\n",
       "      <th>2018-10-11</th>\n",
       "      <td>11.10.2018</td>\n",
       "      <td>8760.52</td>\n",
       "      <td>8639.19</td>\n",
       "      <td>8796.87</td>\n",
       "      <td>8628.65</td>\n",
       "    </tr>\n",
       "  </tbody>\n",
       "</table>\n",
       "</div>"
      ],
      "text/plain": [
       "                  Date     Open    Close     High      Low\n",
       "2018-10-12  12.10.2018  8702.13  8660.38  8738.78  8660.25\n",
       "2018-10-11  11.10.2018  8760.52  8639.19  8796.87  8628.65"
      ]
     },
     "execution_count": 31,
     "metadata": {},
     "output_type": "execute_result"
    }
   ],
   "source": [
    "df.head(2)"
   ]
  },
  {
   "cell_type": "code",
   "execution_count": 32,
   "metadata": {},
   "outputs": [
    {
     "data": {
      "text/html": [
       "<div>\n",
       "<style scoped>\n",
       "    .dataframe tbody tr th:only-of-type {\n",
       "        vertical-align: middle;\n",
       "    }\n",
       "\n",
       "    .dataframe tbody tr th {\n",
       "        vertical-align: top;\n",
       "    }\n",
       "\n",
       "    .dataframe thead th {\n",
       "        text-align: right;\n",
       "    }\n",
       "</style>\n",
       "<table border=\"1\" class=\"dataframe\">\n",
       "  <thead>\n",
       "    <tr style=\"text-align: right;\">\n",
       "      <th></th>\n",
       "      <th>Open</th>\n",
       "      <th>Close</th>\n",
       "      <th>High</th>\n",
       "      <th>Low</th>\n",
       "    </tr>\n",
       "  </thead>\n",
       "  <tbody>\n",
       "    <tr>\n",
       "      <th>2018-10-12</th>\n",
       "      <td>8702.13</td>\n",
       "      <td>8660.38</td>\n",
       "      <td>8738.78</td>\n",
       "      <td>8660.25</td>\n",
       "    </tr>\n",
       "    <tr>\n",
       "      <th>2018-10-11</th>\n",
       "      <td>8760.52</td>\n",
       "      <td>8639.19</td>\n",
       "      <td>8796.87</td>\n",
       "      <td>8628.65</td>\n",
       "    </tr>\n",
       "  </tbody>\n",
       "</table>\n",
       "</div>"
      ],
      "text/plain": [
       "               Open    Close     High      Low\n",
       "2018-10-12  8702.13  8660.38  8738.78  8660.25\n",
       "2018-10-11  8760.52  8639.19  8796.87  8628.65"
      ]
     },
     "execution_count": 32,
     "metadata": {},
     "output_type": "execute_result"
    }
   ],
   "source": [
    "df.pop('Date')\n",
    "df.head(2)"
   ]
  },
  {
   "cell_type": "markdown",
   "metadata": {
    "collapsed": true
   },
   "source": [
    "Wir haben nun ein Dataframe mit einer Zeit-formatierten Index-Spalte.\n",
    "\n",
    "Damit wir die ganze Funktionalität dieses Typus nutzen können, müssen wir die Daten noch zeitlich sortieren."
   ]
  },
  {
   "cell_type": "code",
   "execution_count": 33,
   "metadata": {},
   "outputs": [],
   "source": [
    "df.sort_index(inplace=True)"
   ]
  },
  {
   "cell_type": "code",
   "execution_count": 34,
   "metadata": {},
   "outputs": [
    {
     "data": {
      "text/html": [
       "<div>\n",
       "<style scoped>\n",
       "    .dataframe tbody tr th:only-of-type {\n",
       "        vertical-align: middle;\n",
       "    }\n",
       "\n",
       "    .dataframe tbody tr th {\n",
       "        vertical-align: top;\n",
       "    }\n",
       "\n",
       "    .dataframe thead th {\n",
       "        text-align: right;\n",
       "    }\n",
       "</style>\n",
       "<table border=\"1\" class=\"dataframe\">\n",
       "  <thead>\n",
       "    <tr style=\"text-align: right;\">\n",
       "      <th></th>\n",
       "      <th>Open</th>\n",
       "      <th>Close</th>\n",
       "      <th>High</th>\n",
       "      <th>Low</th>\n",
       "    </tr>\n",
       "  </thead>\n",
       "  <tbody>\n",
       "    <tr>\n",
       "      <th>1989-01-03</th>\n",
       "      <td>1435.8</td>\n",
       "      <td>1466.2</td>\n",
       "      <td>1466.2</td>\n",
       "      <td>1435.8</td>\n",
       "    </tr>\n",
       "    <tr>\n",
       "      <th>1989-01-04</th>\n",
       "      <td>1465.9</td>\n",
       "      <td>1471.2</td>\n",
       "      <td>1471.5</td>\n",
       "      <td>1465.7</td>\n",
       "    </tr>\n",
       "    <tr>\n",
       "      <th>1989-01-05</th>\n",
       "      <td>1474.4</td>\n",
       "      <td>1488.1</td>\n",
       "      <td>1488.8</td>\n",
       "      <td>1473.7</td>\n",
       "    </tr>\n",
       "    <tr>\n",
       "      <th>1989-01-06</th>\n",
       "      <td>1487.4</td>\n",
       "      <td>1487.3</td>\n",
       "      <td>1491.7</td>\n",
       "      <td>1483.4</td>\n",
       "    </tr>\n",
       "    <tr>\n",
       "      <th>1989-01-09</th>\n",
       "      <td>1487.6</td>\n",
       "      <td>1493.5</td>\n",
       "      <td>1501.8</td>\n",
       "      <td>1487.3</td>\n",
       "    </tr>\n",
       "  </tbody>\n",
       "</table>\n",
       "</div>"
      ],
      "text/plain": [
       "              Open   Close    High     Low\n",
       "1989-01-03  1435.8  1466.2  1466.2  1435.8\n",
       "1989-01-04  1465.9  1471.2  1471.5  1465.7\n",
       "1989-01-05  1474.4  1488.1  1488.8  1473.7\n",
       "1989-01-06  1487.4  1487.3  1491.7  1483.4\n",
       "1989-01-09  1487.6  1493.5  1501.8  1487.3"
      ]
     },
     "execution_count": 34,
     "metadata": {},
     "output_type": "execute_result"
    }
   ],
   "source": [
    "df.head()"
   ]
  },
  {
   "cell_type": "code",
   "execution_count": null,
   "metadata": {
    "collapsed": true
   },
   "outputs": [],
   "source": []
  },
  {
   "cell_type": "markdown",
   "metadata": {},
   "source": [
    "## 1. Slicing"
   ]
  },
  {
   "cell_type": "markdown",
   "metadata": {
    "collapsed": true
   },
   "source": [
    "Die erste Technik, die wir kennenlernen, heisst Slicing. Wir schneiden uns also ein bestimmtes Stück aus den Daten heraus. Welches Stück, das geben wir mit einer Kombination aus Jahreszahlen, Monaten, Tagen, ... an."
   ]
  },
  {
   "cell_type": "markdown",
   "metadata": {},
   "source": [
    "**Beispiel:** Alle Zeilen mit einem Index-Datum im Jahr 2018"
   ]
  },
  {
   "cell_type": "code",
   "execution_count": 36,
   "metadata": {},
   "outputs": [
    {
     "data": {
      "text/html": [
       "<div>\n",
       "<style scoped>\n",
       "    .dataframe tbody tr th:only-of-type {\n",
       "        vertical-align: middle;\n",
       "    }\n",
       "\n",
       "    .dataframe tbody tr th {\n",
       "        vertical-align: top;\n",
       "    }\n",
       "\n",
       "    .dataframe thead th {\n",
       "        text-align: right;\n",
       "    }\n",
       "</style>\n",
       "<table border=\"1\" class=\"dataframe\">\n",
       "  <thead>\n",
       "    <tr style=\"text-align: right;\">\n",
       "      <th></th>\n",
       "      <th>Open</th>\n",
       "      <th>Close</th>\n",
       "      <th>High</th>\n",
       "      <th>Low</th>\n",
       "    </tr>\n",
       "  </thead>\n",
       "  <tbody>\n",
       "    <tr>\n",
       "      <th>2018-01-03</th>\n",
       "      <td>9436.96</td>\n",
       "      <td>9478.92</td>\n",
       "      <td>9487.78</td>\n",
       "      <td>9394.47</td>\n",
       "    </tr>\n",
       "    <tr>\n",
       "      <th>2018-01-04</th>\n",
       "      <td>9497.24</td>\n",
       "      <td>9509.28</td>\n",
       "      <td>9523.96</td>\n",
       "      <td>9467.86</td>\n",
       "    </tr>\n",
       "    <tr>\n",
       "      <th>2018-01-05</th>\n",
       "      <td>9543.13</td>\n",
       "      <td>9556.98</td>\n",
       "      <td>9558.40</td>\n",
       "      <td>9527.05</td>\n",
       "    </tr>\n",
       "    <tr>\n",
       "      <th>2018-01-08</th>\n",
       "      <td>9576.80</td>\n",
       "      <td>9541.73</td>\n",
       "      <td>9584.52</td>\n",
       "      <td>9538.37</td>\n",
       "    </tr>\n",
       "    <tr>\n",
       "      <th>2018-01-09</th>\n",
       "      <td>9557.37</td>\n",
       "      <td>9611.61</td>\n",
       "      <td>9611.61</td>\n",
       "      <td>9554.48</td>\n",
       "    </tr>\n",
       "  </tbody>\n",
       "</table>\n",
       "</div>"
      ],
      "text/plain": [
       "               Open    Close     High      Low\n",
       "2018-01-03  9436.96  9478.92  9487.78  9394.47\n",
       "2018-01-04  9497.24  9509.28  9523.96  9467.86\n",
       "2018-01-05  9543.13  9556.98  9558.40  9527.05\n",
       "2018-01-08  9576.80  9541.73  9584.52  9538.37\n",
       "2018-01-09  9557.37  9611.61  9611.61  9554.48"
      ]
     },
     "execution_count": 36,
     "metadata": {},
     "output_type": "execute_result"
    }
   ],
   "source": [
    "# Achtung: Funktioniert nur bei Index-Spalten mit Datum\n",
    "df['2018'].head()"
   ]
  },
  {
   "cell_type": "code",
   "execution_count": 37,
   "metadata": {},
   "outputs": [
    {
     "data": {
      "text/html": [
       "<div>\n",
       "<style scoped>\n",
       "    .dataframe tbody tr th:only-of-type {\n",
       "        vertical-align: middle;\n",
       "    }\n",
       "\n",
       "    .dataframe tbody tr th {\n",
       "        vertical-align: top;\n",
       "    }\n",
       "\n",
       "    .dataframe thead th {\n",
       "        text-align: right;\n",
       "    }\n",
       "</style>\n",
       "<table border=\"1\" class=\"dataframe\">\n",
       "  <thead>\n",
       "    <tr style=\"text-align: right;\">\n",
       "      <th></th>\n",
       "      <th>Open</th>\n",
       "      <th>Close</th>\n",
       "      <th>High</th>\n",
       "      <th>Low</th>\n",
       "    </tr>\n",
       "  </thead>\n",
       "  <tbody>\n",
       "    <tr>\n",
       "      <th>2018-10-08</th>\n",
       "      <td>9012.67</td>\n",
       "      <td>8964.14</td>\n",
       "      <td>9014.65</td>\n",
       "      <td>8938.48</td>\n",
       "    </tr>\n",
       "    <tr>\n",
       "      <th>2018-10-09</th>\n",
       "      <td>8956.80</td>\n",
       "      <td>8964.11</td>\n",
       "      <td>8970.35</td>\n",
       "      <td>8888.97</td>\n",
       "    </tr>\n",
       "    <tr>\n",
       "      <th>2018-10-10</th>\n",
       "      <td>8956.79</td>\n",
       "      <td>8892.88</td>\n",
       "      <td>8992.07</td>\n",
       "      <td>8888.46</td>\n",
       "    </tr>\n",
       "    <tr>\n",
       "      <th>2018-10-11</th>\n",
       "      <td>8760.52</td>\n",
       "      <td>8639.19</td>\n",
       "      <td>8796.87</td>\n",
       "      <td>8628.65</td>\n",
       "    </tr>\n",
       "    <tr>\n",
       "      <th>2018-10-12</th>\n",
       "      <td>8702.13</td>\n",
       "      <td>8660.38</td>\n",
       "      <td>8738.78</td>\n",
       "      <td>8660.25</td>\n",
       "    </tr>\n",
       "  </tbody>\n",
       "</table>\n",
       "</div>"
      ],
      "text/plain": [
       "               Open    Close     High      Low\n",
       "2018-10-08  9012.67  8964.14  9014.65  8938.48\n",
       "2018-10-09  8956.80  8964.11  8970.35  8888.97\n",
       "2018-10-10  8956.79  8892.88  8992.07  8888.46\n",
       "2018-10-11  8760.52  8639.19  8796.87  8628.65\n",
       "2018-10-12  8702.13  8660.38  8738.78  8660.25"
      ]
     },
     "execution_count": 37,
     "metadata": {},
     "output_type": "execute_result"
    }
   ],
   "source": [
    "df['2018'].tail()"
   ]
  },
  {
   "cell_type": "markdown",
   "metadata": {
    "collapsed": true
   },
   "source": [
    "**Beispiel:** Alle Zeilen von 2010 bis 2011"
   ]
  },
  {
   "cell_type": "code",
   "execution_count": 39,
   "metadata": {},
   "outputs": [
    {
     "data": {
      "text/plain": [
       "Open     508\n",
       "Close    508\n",
       "High     508\n",
       "Low      508\n",
       "dtype: int64"
      ]
     },
     "execution_count": 39,
     "metadata": {},
     "output_type": "execute_result"
    }
   ],
   "source": [
    "df['2010':'2011'].head()\n",
    "df['2010':'2011'].count()"
   ]
  },
  {
   "cell_type": "code",
   "execution_count": null,
   "metadata": {},
   "outputs": [],
   "source": [
    "df['2010':'2011'].tail()"
   ]
  },
  {
   "cell_type": "markdown",
   "metadata": {
    "collapsed": true
   },
   "source": [
    "**Beispiel:** Alle Zeilen von Januar bis März 2018"
   ]
  },
  {
   "cell_type": "code",
   "execution_count": null,
   "metadata": {},
   "outputs": [],
   "source": [
    "df['2018-01':'2018-03'].head()"
   ]
  },
  {
   "cell_type": "code",
   "execution_count": null,
   "metadata": {},
   "outputs": [],
   "source": [
    "df['2018-01':'2018-03'].tail()"
   ]
  },
  {
   "cell_type": "markdown",
   "metadata": {
    "collapsed": true
   },
   "source": [
    "**Beispiel:** Alle Zeilen ab 2017"
   ]
  },
  {
   "cell_type": "code",
   "execution_count": 40,
   "metadata": {},
   "outputs": [
    {
     "data": {
      "text/html": [
       "<div>\n",
       "<style scoped>\n",
       "    .dataframe tbody tr th:only-of-type {\n",
       "        vertical-align: middle;\n",
       "    }\n",
       "\n",
       "    .dataframe tbody tr th {\n",
       "        vertical-align: top;\n",
       "    }\n",
       "\n",
       "    .dataframe thead th {\n",
       "        text-align: right;\n",
       "    }\n",
       "</style>\n",
       "<table border=\"1\" class=\"dataframe\">\n",
       "  <thead>\n",
       "    <tr style=\"text-align: right;\">\n",
       "      <th></th>\n",
       "      <th>Open</th>\n",
       "      <th>Close</th>\n",
       "      <th>High</th>\n",
       "      <th>Low</th>\n",
       "    </tr>\n",
       "  </thead>\n",
       "  <tbody>\n",
       "    <tr>\n",
       "      <th>2017-01-03</th>\n",
       "      <td>8302.86</td>\n",
       "      <td>8316.18</td>\n",
       "      <td>8335.86</td>\n",
       "      <td>8283.60</td>\n",
       "    </tr>\n",
       "    <tr>\n",
       "      <th>2017-01-04</th>\n",
       "      <td>8347.87</td>\n",
       "      <td>8354.81</td>\n",
       "      <td>8358.30</td>\n",
       "      <td>8309.07</td>\n",
       "    </tr>\n",
       "    <tr>\n",
       "      <th>2017-01-05</th>\n",
       "      <td>8330.97</td>\n",
       "      <td>8392.49</td>\n",
       "      <td>8392.49</td>\n",
       "      <td>8328.91</td>\n",
       "    </tr>\n",
       "    <tr>\n",
       "      <th>2017-01-06</th>\n",
       "      <td>8389.07</td>\n",
       "      <td>8417.46</td>\n",
       "      <td>8417.46</td>\n",
       "      <td>8373.00</td>\n",
       "    </tr>\n",
       "    <tr>\n",
       "      <th>2017-01-09</th>\n",
       "      <td>8430.74</td>\n",
       "      <td>8424.86</td>\n",
       "      <td>8434.63</td>\n",
       "      <td>8390.03</td>\n",
       "    </tr>\n",
       "  </tbody>\n",
       "</table>\n",
       "</div>"
      ],
      "text/plain": [
       "               Open    Close     High      Low\n",
       "2017-01-03  8302.86  8316.18  8335.86  8283.60\n",
       "2017-01-04  8347.87  8354.81  8358.30  8309.07\n",
       "2017-01-05  8330.97  8392.49  8392.49  8328.91\n",
       "2017-01-06  8389.07  8417.46  8417.46  8373.00\n",
       "2017-01-09  8430.74  8424.86  8434.63  8390.03"
      ]
     },
     "execution_count": 40,
     "metadata": {},
     "output_type": "execute_result"
    }
   ],
   "source": [
    "df['2017':].head()"
   ]
  },
  {
   "cell_type": "code",
   "execution_count": 41,
   "metadata": {},
   "outputs": [
    {
     "data": {
      "text/html": [
       "<div>\n",
       "<style scoped>\n",
       "    .dataframe tbody tr th:only-of-type {\n",
       "        vertical-align: middle;\n",
       "    }\n",
       "\n",
       "    .dataframe tbody tr th {\n",
       "        vertical-align: top;\n",
       "    }\n",
       "\n",
       "    .dataframe thead th {\n",
       "        text-align: right;\n",
       "    }\n",
       "</style>\n",
       "<table border=\"1\" class=\"dataframe\">\n",
       "  <thead>\n",
       "    <tr style=\"text-align: right;\">\n",
       "      <th></th>\n",
       "      <th>Open</th>\n",
       "      <th>Close</th>\n",
       "      <th>High</th>\n",
       "      <th>Low</th>\n",
       "    </tr>\n",
       "  </thead>\n",
       "  <tbody>\n",
       "    <tr>\n",
       "      <th>2018-10-08</th>\n",
       "      <td>9012.67</td>\n",
       "      <td>8964.14</td>\n",
       "      <td>9014.65</td>\n",
       "      <td>8938.48</td>\n",
       "    </tr>\n",
       "    <tr>\n",
       "      <th>2018-10-09</th>\n",
       "      <td>8956.80</td>\n",
       "      <td>8964.11</td>\n",
       "      <td>8970.35</td>\n",
       "      <td>8888.97</td>\n",
       "    </tr>\n",
       "    <tr>\n",
       "      <th>2018-10-10</th>\n",
       "      <td>8956.79</td>\n",
       "      <td>8892.88</td>\n",
       "      <td>8992.07</td>\n",
       "      <td>8888.46</td>\n",
       "    </tr>\n",
       "    <tr>\n",
       "      <th>2018-10-11</th>\n",
       "      <td>8760.52</td>\n",
       "      <td>8639.19</td>\n",
       "      <td>8796.87</td>\n",
       "      <td>8628.65</td>\n",
       "    </tr>\n",
       "    <tr>\n",
       "      <th>2018-10-12</th>\n",
       "      <td>8702.13</td>\n",
       "      <td>8660.38</td>\n",
       "      <td>8738.78</td>\n",
       "      <td>8660.25</td>\n",
       "    </tr>\n",
       "  </tbody>\n",
       "</table>\n",
       "</div>"
      ],
      "text/plain": [
       "               Open    Close     High      Low\n",
       "2018-10-08  9012.67  8964.14  9014.65  8938.48\n",
       "2018-10-09  8956.80  8964.11  8970.35  8888.97\n",
       "2018-10-10  8956.79  8892.88  8992.07  8888.46\n",
       "2018-10-11  8760.52  8639.19  8796.87  8628.65\n",
       "2018-10-12  8702.13  8660.38  8738.78  8660.25"
      ]
     },
     "execution_count": 41,
     "metadata": {},
     "output_type": "execute_result"
    }
   ],
   "source": [
    "df['2017':].tail()"
   ]
  },
  {
   "cell_type": "markdown",
   "metadata": {
    "collapsed": true
   },
   "source": [
    "Easy!"
   ]
  },
  {
   "cell_type": "markdown",
   "metadata": {},
   "source": [
    "**Mini-Quiz:** Zeigen Sie alle Daten zwischen dem 23. März 2009 und dem 4. April 2009 an."
   ]
  },
  {
   "cell_type": "code",
   "execution_count": 44,
   "metadata": {},
   "outputs": [
    {
     "data": {
      "text/html": [
       "<div>\n",
       "<style scoped>\n",
       "    .dataframe tbody tr th:only-of-type {\n",
       "        vertical-align: middle;\n",
       "    }\n",
       "\n",
       "    .dataframe tbody tr th {\n",
       "        vertical-align: top;\n",
       "    }\n",
       "\n",
       "    .dataframe thead th {\n",
       "        text-align: right;\n",
       "    }\n",
       "</style>\n",
       "<table border=\"1\" class=\"dataframe\">\n",
       "  <thead>\n",
       "    <tr style=\"text-align: right;\">\n",
       "      <th></th>\n",
       "      <th>Open</th>\n",
       "      <th>Close</th>\n",
       "      <th>High</th>\n",
       "      <th>Low</th>\n",
       "    </tr>\n",
       "  </thead>\n",
       "  <tbody>\n",
       "    <tr>\n",
       "      <th>2009-03-23</th>\n",
       "      <td>4863.28</td>\n",
       "      <td>4931.07</td>\n",
       "      <td>4931.07</td>\n",
       "      <td>4829.59</td>\n",
       "    </tr>\n",
       "    <tr>\n",
       "      <th>2009-03-24</th>\n",
       "      <td>4986.43</td>\n",
       "      <td>4923.66</td>\n",
       "      <td>4995.46</td>\n",
       "      <td>4886.74</td>\n",
       "    </tr>\n",
       "    <tr>\n",
       "      <th>2009-03-25</th>\n",
       "      <td>4918.56</td>\n",
       "      <td>4970.38</td>\n",
       "      <td>5006.92</td>\n",
       "      <td>4901.81</td>\n",
       "    </tr>\n",
       "    <tr>\n",
       "      <th>2009-03-26</th>\n",
       "      <td>4977.89</td>\n",
       "      <td>4966.74</td>\n",
       "      <td>5001.83</td>\n",
       "      <td>4897.65</td>\n",
       "    </tr>\n",
       "    <tr>\n",
       "      <th>2009-03-27</th>\n",
       "      <td>4965.47</td>\n",
       "      <td>4872.33</td>\n",
       "      <td>4982.07</td>\n",
       "      <td>4866.66</td>\n",
       "    </tr>\n",
       "    <tr>\n",
       "      <th>2009-03-30</th>\n",
       "      <td>4798.15</td>\n",
       "      <td>4745.76</td>\n",
       "      <td>4838.40</td>\n",
       "      <td>4713.96</td>\n",
       "    </tr>\n",
       "    <tr>\n",
       "      <th>2009-03-31</th>\n",
       "      <td>4811.79</td>\n",
       "      <td>4927.43</td>\n",
       "      <td>4928.75</td>\n",
       "      <td>4810.66</td>\n",
       "    </tr>\n",
       "    <tr>\n",
       "      <th>2009-04-01</th>\n",
       "      <td>4933.75</td>\n",
       "      <td>5014.90</td>\n",
       "      <td>5014.90</td>\n",
       "      <td>4837.02</td>\n",
       "    </tr>\n",
       "    <tr>\n",
       "      <th>2009-04-02</th>\n",
       "      <td>5107.01</td>\n",
       "      <td>5178.53</td>\n",
       "      <td>5180.53</td>\n",
       "      <td>5098.09</td>\n",
       "    </tr>\n",
       "    <tr>\n",
       "      <th>2009-04-03</th>\n",
       "      <td>5147.91</td>\n",
       "      <td>5042.99</td>\n",
       "      <td>5151.26</td>\n",
       "      <td>4996.05</td>\n",
       "    </tr>\n",
       "  </tbody>\n",
       "</table>\n",
       "</div>"
      ],
      "text/plain": [
       "               Open    Close     High      Low\n",
       "2009-03-23  4863.28  4931.07  4931.07  4829.59\n",
       "2009-03-24  4986.43  4923.66  4995.46  4886.74\n",
       "2009-03-25  4918.56  4970.38  5006.92  4901.81\n",
       "2009-03-26  4977.89  4966.74  5001.83  4897.65\n",
       "2009-03-27  4965.47  4872.33  4982.07  4866.66\n",
       "2009-03-30  4798.15  4745.76  4838.40  4713.96\n",
       "2009-03-31  4811.79  4927.43  4928.75  4810.66\n",
       "2009-04-01  4933.75  5014.90  5014.90  4837.02\n",
       "2009-04-02  5107.01  5178.53  5180.53  5098.09\n",
       "2009-04-03  5147.91  5042.99  5151.26  4996.05"
      ]
     },
     "execution_count": 44,
     "metadata": {},
     "output_type": "execute_result"
    }
   ],
   "source": [
    "#Antwort\n",
    "df['2009-03-23':'2009-04-04']\n"
   ]
  },
  {
   "cell_type": "markdown",
   "metadata": {},
   "source": [
    "## 2. Date-Type-Picking"
   ]
  },
  {
   "cell_type": "markdown",
   "metadata": {
    "collapsed": true
   },
   "source": [
    "Die zweite Methode ist: Wir wählen Zeilen nach einem bestimmten Zeit-Kriterium aus - die Zeilen müssen nicht alle am Stück sein, sondern nur eine bestimmte gemeinsame Eigenschaft aufweisen.\n",
    "\n",
    "Die Zeit-Properties, die wir abfragen können, kennen wir bereits: https://pandas.pydata.org/pandas-docs/stable/timeseries.html"
   ]
  },
  {
   "cell_type": "markdown",
   "metadata": {},
   "source": [
    "**Beispiel:** Alle ersten Tage des Monats"
   ]
  },
  {
   "cell_type": "code",
   "execution_count": 52,
   "metadata": {},
   "outputs": [
    {
     "data": {
      "text/plain": [
       "array([False, False, False, ..., False, False, False])"
      ]
     },
     "execution_count": 52,
     "metadata": {},
     "output_type": "execute_result"
    }
   ],
   "source": [
    "df[df.index.day == 1].sort_index()\n",
    "df.index.day == 1"
   ]
  },
  {
   "cell_type": "markdown",
   "metadata": {},
   "source": [
    "Hier nochmals eine Liste einiger Properties, nach denen wir filtern können:"
   ]
  },
  {
   "cell_type": "markdown",
   "metadata": {},
   "source": [
    "| Property | Description |\n",
    "|----------|------------|\n",
    "| **`.year`** | - The year of the datetime |\n",
    "| **`.month`** | - The month of the datetime |\n",
    "| **`.day`** | - The days of the datetime |\n",
    "| **`.dayofyear`** | - The ordinal day of year |\n",
    "| **`.weekofyear`** | - The week ordinal of the year |\n",
    "| **`.week`** | - The week ordinal of the year |\n",
    "| **`.dayofweek`** | - The number of the day of the week with Monday=0, Sunday=6 |\n",
    "| **`.weekday`** | - The number of the day of the week with Monday=0, Sunday=6 |\n",
    "| **`.weekday_name`** | - The name of the day in a week (ex: Friday) |\n",
    "| **`.quarter`** | - Quarter of the date: Jan-Mar = 1, Apr-Jun = 2, etc. |\n",
    "| **`.days_in_month`** | - The number of days in the month of the datetime |\n",
    "| **`.is_month_start`** | - Logical indicating if first day of month (defined by frequency) |\n",
    "| **`.is_month_end`** | - Logical indicating if last day of month (defined by frequency) |\n",
    "| **`.is_quarter_start`** | - Logical indicating if first day of quarter (defined by frequency) |\n",
    "| **`.is_quarter_end`** | - Logical indicating if last day of quarter (defined by frequency) |\n",
    "| **`.is_year_start`** | - Logical indicating if first day of year (defined by frequency) |\n",
    "| **`.is_year_end`** | - Logical indicating if last day of year (defined by frequency) |\n",
    "| **`.is_leap_year`** | - Logical indicating if the date belongs to a leap year |"
   ]
  },
  {
   "cell_type": "markdown",
   "metadata": {
    "collapsed": true
   },
   "source": [
    "**Beispiel:** Alle Tage im April, egal welchen Jahres"
   ]
  },
  {
   "cell_type": "code",
   "execution_count": 54,
   "metadata": {},
   "outputs": [
    {
     "data": {
      "text/plain": [
       "Open     590\n",
       "Close    590\n",
       "High     589\n",
       "Low      590\n",
       "dtype: int64"
      ]
     },
     "execution_count": 54,
     "metadata": {},
     "output_type": "execute_result"
    }
   ],
   "source": [
    "df[df.index.month == 4].head()\n",
    "df[df.index.month == 4].count()"
   ]
  },
  {
   "cell_type": "markdown",
   "metadata": {
    "collapsed": true
   },
   "source": [
    "**Beispiel:** Alle Montage (die Woche startet mit dem Tag 0!)"
   ]
  },
  {
   "cell_type": "code",
   "execution_count": 57,
   "metadata": {},
   "outputs": [
    {
     "data": {
      "text/plain": [
       "1989-01-09    1493.50\n",
       "1989-01-16    1505.30\n",
       "1989-01-23    1482.00\n",
       "1989-01-30    1498.30\n",
       "1989-02-06    1484.90\n",
       "1989-02-13    1481.20\n",
       "1989-02-20    1490.90\n",
       "1989-02-27    1433.60\n",
       "1989-03-06    1514.90\n",
       "1989-03-13    1497.60\n",
       "1989-03-20    1494.90\n",
       "1989-04-03    1545.50\n",
       "1989-04-10    1584.80\n",
       "1989-04-24    1541.80\n",
       "1989-05-08    1548.40\n",
       "1989-05-22    1526.70\n",
       "1989-05-29    1499.20\n",
       "1989-06-05    1580.90\n",
       "1989-06-12    1620.00\n",
       "1989-06-19    1629.10\n",
       "1989-06-26    1687.70\n",
       "1989-07-03    1653.10\n",
       "1989-07-10    1689.50\n",
       "1989-07-17    1718.00\n",
       "1989-07-24    1764.30\n",
       "1989-07-31    1795.40\n",
       "1989-08-07    1829.40\n",
       "1989-08-14    1849.40\n",
       "1989-08-21    1852.50\n",
       "1989-08-28    1910.20\n",
       "               ...   \n",
       "2018-03-05    8808.38\n",
       "2018-03-12    8970.74\n",
       "2018-03-19    8811.33\n",
       "2018-03-26    8509.29\n",
       "2018-04-09    8687.08\n",
       "2018-04-16    8726.54\n",
       "2018-04-23    8806.63\n",
       "2018-04-30    8886.26\n",
       "2018-05-07    8978.65\n",
       "2018-05-14    9000.89\n",
       "2018-05-28    8775.45\n",
       "2018-06-04    8634.42\n",
       "2018-06-11    8623.54\n",
       "2018-06-18    8519.57\n",
       "2018-06-25    8458.75\n",
       "2018-07-02    8529.59\n",
       "2018-07-09    8759.92\n",
       "2018-07-16    8847.96\n",
       "2018-07-23    8959.79\n",
       "2018-07-30    9163.38\n",
       "2018-08-06    9149.36\n",
       "2018-08-13    9005.35\n",
       "2018-08-20    9059.53\n",
       "2018-08-27    9098.70\n",
       "2018-09-03    9003.47\n",
       "2018-09-10    8930.24\n",
       "2018-09-17    8936.71\n",
       "2018-09-24    8946.22\n",
       "2018-10-01    9127.05\n",
       "2018-10-08    8964.14\n",
       "Name: Close, Length: 1451, dtype: float64"
      ]
     },
     "execution_count": 57,
     "metadata": {},
     "output_type": "execute_result"
    }
   ],
   "source": [
    "df[df.index.dayofweek == 0].head()\n",
    "\n",
    "# Alles Schlusskurse des Montags\n",
    "df[df.index.dayofweek == 0][\"Close\"]"
   ]
  },
  {
   "cell_type": "markdown",
   "metadata": {},
   "source": [
    "Wir können das auch ohne weiteres plotten"
   ]
  },
  {
   "cell_type": "code",
   "execution_count": 58,
   "metadata": {},
   "outputs": [
    {
     "data": {
      "text/plain": [
       "<matplotlib.axes._subplots.AxesSubplot at 0x11db4c7b8>"
      ]
     },
     "execution_count": 58,
     "metadata": {},
     "output_type": "execute_result"
    },
    {
     "data": {
      "image/png": "[encoded data removed]",
      "text/plain": [
       "<Figure size 576x288 with 1 Axes>"
      ]
     },
     "metadata": {
      "needs_background": "light"
     },
     "output_type": "display_data"
    }
   ],
   "source": [
    "df[df.index.dayofweek == 0]['Close'].plot(figsize=(8,4))"
   ]
  },
  {
   "cell_type": "markdown",
   "metadata": {},
   "source": [
    "**Quiz:** Ein Plot mit dem Schlusskurs an allen Freitagen"
   ]
  },
  {
   "cell_type": "code",
   "execution_count": 77,
   "metadata": {},
   "outputs": [
    {
     "data": {
      "text/plain": [
       "<matplotlib.axes._subplots.AxesSubplot at 0x120e41e10>"
      ]
     },
     "execution_count": 77,
     "metadata": {},
     "output_type": "execute_result"
    },
    {
     "data": {
      "image/png": "[encoded data removed]",
      "text/plain": [
       "<Figure size 576x288 with 1 Axes>"
      ]
     },
     "metadata": {
      "needs_background": "light"
     },
     "output_type": "display_data"
    }
   ],
   "source": [
    "#Antwort\n",
    "df[df.index.dayofweek == 0]['2017']['Close'].plot(figsize=(8,4))\n",
    "df[df.index.dayofweek == 4]['2017']['Close'].plot(figsize=(8,4))\n"
   ]
  },
  {
   "cell_type": "markdown",
   "metadata": {},
   "source": [
    "**Quiz:** Ein Plot mit dem Schlusskurs an allen Freitagen von 2006 bis 2009"
   ]
  },
  {
   "cell_type": "code",
   "execution_count": 78,
   "metadata": {},
   "outputs": [
    {
     "data": {
      "text/plain": [
       "<matplotlib.axes._subplots.AxesSubplot at 0x120f14ac8>"
      ]
     },
     "execution_count": 78,
     "metadata": {},
     "output_type": "execute_result"
    },
    {
     "data": {
      "image/png": "[encoded data removed]",
      "text/plain": [
       "<Figure size 576x288 with 1 Axes>"
      ]
     },
     "metadata": {
      "needs_background": "light"
     },
     "output_type": "display_data"
    }
   ],
   "source": [
    "#Antwort\n",
    "df[df.index.dayofweek==4]['2006':'2009']['Close'].plot(figsize=(8,4))"
   ]
  },
  {
   "cell_type": "markdown",
   "metadata": {
    "collapsed": true
   },
   "source": [
    "Ein Problem haben wir allerdings: Wie finden wir den letzten Tag eines Monats, bei dem Daten vorhanden sind?"
   ]
  },
  {
   "cell_type": "code",
   "execution_count": 79,
   "metadata": {},
   "outputs": [
    {
     "data": {
      "text/html": [
       "<div>\n",
       "<style scoped>\n",
       "    .dataframe tbody tr th:only-of-type {\n",
       "        vertical-align: middle;\n",
       "    }\n",
       "\n",
       "    .dataframe tbody tr th {\n",
       "        vertical-align: top;\n",
       "    }\n",
       "\n",
       "    .dataframe thead th {\n",
       "        text-align: right;\n",
       "    }\n",
       "</style>\n",
       "<table border=\"1\" class=\"dataframe\">\n",
       "  <thead>\n",
       "    <tr style=\"text-align: right;\">\n",
       "      <th></th>\n",
       "      <th>Open</th>\n",
       "      <th>Close</th>\n",
       "      <th>High</th>\n",
       "      <th>Low</th>\n",
       "    </tr>\n",
       "  </thead>\n",
       "  <tbody>\n",
       "    <tr>\n",
       "      <th>1989-01-31</th>\n",
       "      <td>1498.0</td>\n",
       "      <td>1490.5</td>\n",
       "      <td>1498.6</td>\n",
       "      <td>1484.9</td>\n",
       "    </tr>\n",
       "    <tr>\n",
       "      <th>1989-02-28</th>\n",
       "      <td>1434.0</td>\n",
       "      <td>1450.1</td>\n",
       "      <td>1451.5</td>\n",
       "      <td>1432.9</td>\n",
       "    </tr>\n",
       "    <tr>\n",
       "      <th>1989-03-31</th>\n",
       "      <td>1519.8</td>\n",
       "      <td>1527.7</td>\n",
       "      <td>1527.7</td>\n",
       "      <td>1519.8</td>\n",
       "    </tr>\n",
       "    <tr>\n",
       "      <th>1989-05-31</th>\n",
       "      <td>1517.4</td>\n",
       "      <td>1519.8</td>\n",
       "      <td>1523.5</td>\n",
       "      <td>1516.9</td>\n",
       "    </tr>\n",
       "    <tr>\n",
       "      <th>1989-06-30</th>\n",
       "      <td>1650.1</td>\n",
       "      <td>1638.9</td>\n",
       "      <td>1650.4</td>\n",
       "      <td>1638.5</td>\n",
       "    </tr>\n",
       "  </tbody>\n",
       "</table>\n",
       "</div>"
      ],
      "text/plain": [
       "              Open   Close    High     Low\n",
       "1989-01-31  1498.0  1490.5  1498.6  1484.9\n",
       "1989-02-28  1434.0  1450.1  1451.5  1432.9\n",
       "1989-03-31  1519.8  1527.7  1527.7  1519.8\n",
       "1989-05-31  1517.4  1519.8  1523.5  1516.9\n",
       "1989-06-30  1650.1  1638.9  1650.4  1638.5"
      ]
     },
     "execution_count": 79,
     "metadata": {},
     "output_type": "execute_result"
    }
   ],
   "source": [
    "df[df.index.is_month_end].head()"
   ]
  },
  {
   "cell_type": "code",
   "execution_count": null,
   "metadata": {
    "collapsed": true
   },
   "outputs": [],
   "source": []
  },
  {
   "cell_type": "markdown",
   "metadata": {},
   "source": [
    "## 3. Resampling"
   ]
  },
  {
   "cell_type": "code",
   "execution_count": null,
   "metadata": {},
   "outputs": [],
   "source": []
  },
  {
   "cell_type": "markdown",
   "metadata": {
    "collapsed": true
   },
   "source": [
    "Die dritte Technik, die wir kennenlernen, heisst resampling. Wir fassen dabei bestimmte Zeitperioden zusammen. Was wir uns dabei überlegen müssen, ist:\n",
    "- Welche Zeitperiode uns interessiert\n",
    "- Welche Zusammenfassungs-Metrik wir bilden wollen\n",
    "- (und allenfalls: welche Spalte uns interessiert)"
   ]
  },
  {
   "cell_type": "markdown",
   "metadata": {},
   "source": [
    "**Beispiel:** Der Jahresdurchschnitt der SMI-Kurse. Das heisst also:\n",
    "- Zeitperiode: jährlich\n",
    "- Metrik: Durchschnitt\n",
    "- Spalten: keine spezielle Auswahl"
   ]
  },
  {
   "cell_type": "code",
   "execution_count": 100,
   "metadata": {},
   "outputs": [
    {
     "data": {
      "text/html": [
       "<div>\n",
       "<style scoped>\n",
       "    .dataframe tbody tr th:only-of-type {\n",
       "        vertical-align: middle;\n",
       "    }\n",
       "\n",
       "    .dataframe tbody tr th {\n",
       "        vertical-align: top;\n",
       "    }\n",
       "\n",
       "    .dataframe thead th {\n",
       "        text-align: right;\n",
       "    }\n",
       "</style>\n",
       "<table border=\"1\" class=\"dataframe\">\n",
       "  <thead>\n",
       "    <tr style=\"text-align: right;\">\n",
       "      <th></th>\n",
       "      <th>Open</th>\n",
       "      <th>Close</th>\n",
       "      <th>High</th>\n",
       "      <th>Low</th>\n",
       "    </tr>\n",
       "  </thead>\n",
       "  <tbody>\n",
       "    <tr>\n",
       "      <th>1989-12-31</th>\n",
       "      <td>1653.765587</td>\n",
       "      <td>1654.872874</td>\n",
       "      <td>1670.093004</td>\n",
       "      <td>1643.906639</td>\n",
       "    </tr>\n",
       "    <tr>\n",
       "      <th>1990-12-31</th>\n",
       "      <td>1616.343145</td>\n",
       "      <td>1614.733065</td>\n",
       "      <td>1625.970161</td>\n",
       "      <td>1604.979757</td>\n",
       "    </tr>\n",
       "    <tr>\n",
       "      <th>1991-12-31</th>\n",
       "      <td>1639.309677</td>\n",
       "      <td>1640.383871</td>\n",
       "      <td>1650.802823</td>\n",
       "      <td>1631.158300</td>\n",
       "    </tr>\n",
       "    <tr>\n",
       "      <th>1992-12-31</th>\n",
       "      <td>1853.182937</td>\n",
       "      <td>1854.954365</td>\n",
       "      <td>1876.682400</td>\n",
       "      <td>1844.190079</td>\n",
       "    </tr>\n",
       "    <tr>\n",
       "      <th>1993-12-31</th>\n",
       "      <td>2376.807087</td>\n",
       "      <td>2379.872835</td>\n",
       "      <td>2392.026378</td>\n",
       "      <td>2365.780709</td>\n",
       "    </tr>\n",
       "  </tbody>\n",
       "</table>\n",
       "</div>"
      ],
      "text/plain": [
       "                   Open        Close         High          Low\n",
       "1989-12-31  1653.765587  1654.872874  1670.093004  1643.906639\n",
       "1990-12-31  1616.343145  1614.733065  1625.970161  1604.979757\n",
       "1991-12-31  1639.309677  1640.383871  1650.802823  1631.158300\n",
       "1992-12-31  1853.182937  1854.954365  1876.682400  1844.190079\n",
       "1993-12-31  2376.807087  2379.872835  2392.026378  2365.780709"
      ]
     },
     "execution_count": 100,
     "metadata": {},
     "output_type": "execute_result"
    }
   ],
   "source": [
    "# A = Annual\n",
    "periode = 'A'\n",
    "df.resample(periode).mean().head()\n",
    "#df.resample(periode)['Close'].mean().plot(figsize=(8,4))"
   ]
  },
  {
   "cell_type": "markdown",
   "metadata": {},
   "source": [
    "Für einen Plot können wir zB eine Spalte speziell auswählen:"
   ]
  },
  {
   "cell_type": "code",
   "execution_count": null,
   "metadata": {},
   "outputs": [],
   "source": [
    "df.resample('A').mean()['Close'].plot(figsize=(8,4))"
   ]
  },
  {
   "cell_type": "markdown",
   "metadata": {},
   "source": [
    "Hier eine Liste von manchen Zeitperioden, nach denen wir Resamplen können.\n",
    "(Quelle/volle Liste: http://stackoverflow.com/a/17001474)"
   ]
  },
  {
   "cell_type": "markdown",
   "metadata": {},
   "source": [
    "| Code | Meaning |\n",
    "|---------|-----------|\n",
    "| B       | business day frequency |\n",
    "| D       | calendar day frequency |\n",
    "| W       | weekly frequency |\n",
    "| M       | month end frequency |\n",
    "| BM      | business month end frequency |\n",
    "| MS      | month start frequency |\n",
    "| BMS     | business month start frequency |\n",
    "| Q       | quarter end frequency |\n",
    "| BQ      | business quarter endfrequency |\n",
    "| QS      | quarter start frequency |\n",
    "| BQS     | business quarter start frequency |\n",
    "| A       | year end frequency |\n",
    "| BA      | business year end frequency |\n",
    "| AS      | year start frequency |\n",
    "| BAS     | business year start frequency |"
   ]
  },
  {
   "cell_type": "markdown",
   "metadata": {
    "collapsed": true
   },
   "source": [
    "**Beispiel: ** Monatliche Mittelwerte"
   ]
  },
  {
   "cell_type": "code",
   "execution_count": 98,
   "metadata": {},
   "outputs": [
    {
     "data": {
      "text/html": [
       "<div>\n",
       "<style scoped>\n",
       "    .dataframe tbody tr th:only-of-type {\n",
       "        vertical-align: middle;\n",
       "    }\n",
       "\n",
       "    .dataframe tbody tr th {\n",
       "        vertical-align: top;\n",
       "    }\n",
       "\n",
       "    .dataframe thead th {\n",
       "        text-align: right;\n",
       "    }\n",
       "</style>\n",
       "<table border=\"1\" class=\"dataframe\">\n",
       "  <thead>\n",
       "    <tr style=\"text-align: right;\">\n",
       "      <th></th>\n",
       "      <th>Open</th>\n",
       "      <th>Close</th>\n",
       "      <th>High</th>\n",
       "      <th>Low</th>\n",
       "    </tr>\n",
       "  </thead>\n",
       "  <tbody>\n",
       "    <tr>\n",
       "      <th>1989-01-31</th>\n",
       "      <td>1487.571429</td>\n",
       "      <td>1489.909524</td>\n",
       "      <td>1494.080952</td>\n",
       "      <td>1482.542857</td>\n",
       "    </tr>\n",
       "    <tr>\n",
       "      <th>1989-02-28</th>\n",
       "      <td>1481.065000</td>\n",
       "      <td>1479.310000</td>\n",
       "      <td>1485.300000</td>\n",
       "      <td>1473.055000</td>\n",
       "    </tr>\n",
       "    <tr>\n",
       "      <th>1989-03-31</th>\n",
       "      <td>1500.280952</td>\n",
       "      <td>1503.723810</td>\n",
       "      <td>1508.552381</td>\n",
       "      <td>1498.270000</td>\n",
       "    </tr>\n",
       "    <tr>\n",
       "      <th>1989-04-30</th>\n",
       "      <td>1562.710526</td>\n",
       "      <td>1563.384211</td>\n",
       "      <td>1575.244444</td>\n",
       "      <td>1554.373684</td>\n",
       "    </tr>\n",
       "    <tr>\n",
       "      <th>1989-05-31</th>\n",
       "      <td>1526.463158</td>\n",
       "      <td>1524.157895</td>\n",
       "      <td>1529.977778</td>\n",
       "      <td>1518.105556</td>\n",
       "    </tr>\n",
       "  </tbody>\n",
       "</table>\n",
       "</div>"
      ],
      "text/plain": [
       "                   Open        Close         High          Low\n",
       "1989-01-31  1487.571429  1489.909524  1494.080952  1482.542857\n",
       "1989-02-28  1481.065000  1479.310000  1485.300000  1473.055000\n",
       "1989-03-31  1500.280952  1503.723810  1508.552381  1498.270000\n",
       "1989-04-30  1562.710526  1563.384211  1575.244444  1554.373684\n",
       "1989-05-31  1526.463158  1524.157895  1529.977778  1518.105556"
      ]
     },
     "execution_count": 98,
     "metadata": {},
     "output_type": "execute_result"
    }
   ],
   "source": [
    "df.resample('M').mean().head()"
   ]
  },
  {
   "cell_type": "markdown",
   "metadata": {},
   "source": [
    "**Beispiel: ** Monatliche Mittelwerte, aber mit dem Monats-Startdatum statt mit dem Enddatum"
   ]
  },
  {
   "cell_type": "code",
   "execution_count": 97,
   "metadata": {},
   "outputs": [
    {
     "data": {
      "text/html": [
       "<div>\n",
       "<style scoped>\n",
       "    .dataframe tbody tr th:only-of-type {\n",
       "        vertical-align: middle;\n",
       "    }\n",
       "\n",
       "    .dataframe tbody tr th {\n",
       "        vertical-align: top;\n",
       "    }\n",
       "\n",
       "    .dataframe thead th {\n",
       "        text-align: right;\n",
       "    }\n",
       "</style>\n",
       "<table border=\"1\" class=\"dataframe\">\n",
       "  <thead>\n",
       "    <tr style=\"text-align: right;\">\n",
       "      <th></th>\n",
       "      <th>Open</th>\n",
       "      <th>Close</th>\n",
       "      <th>High</th>\n",
       "      <th>Low</th>\n",
       "    </tr>\n",
       "  </thead>\n",
       "  <tbody>\n",
       "    <tr>\n",
       "      <th>1989-01-01</th>\n",
       "      <td>1487.571429</td>\n",
       "      <td>1489.909524</td>\n",
       "      <td>1494.080952</td>\n",
       "      <td>1482.542857</td>\n",
       "    </tr>\n",
       "    <tr>\n",
       "      <th>1989-02-01</th>\n",
       "      <td>1481.065000</td>\n",
       "      <td>1479.310000</td>\n",
       "      <td>1485.300000</td>\n",
       "      <td>1473.055000</td>\n",
       "    </tr>\n",
       "    <tr>\n",
       "      <th>1989-03-01</th>\n",
       "      <td>1500.280952</td>\n",
       "      <td>1503.723810</td>\n",
       "      <td>1508.552381</td>\n",
       "      <td>1498.270000</td>\n",
       "    </tr>\n",
       "    <tr>\n",
       "      <th>1989-04-01</th>\n",
       "      <td>1562.710526</td>\n",
       "      <td>1563.384211</td>\n",
       "      <td>1575.244444</td>\n",
       "      <td>1554.373684</td>\n",
       "    </tr>\n",
       "    <tr>\n",
       "      <th>1989-05-01</th>\n",
       "      <td>1526.463158</td>\n",
       "      <td>1524.157895</td>\n",
       "      <td>1529.977778</td>\n",
       "      <td>1518.105556</td>\n",
       "    </tr>\n",
       "  </tbody>\n",
       "</table>\n",
       "</div>"
      ],
      "text/plain": [
       "                   Open        Close         High          Low\n",
       "1989-01-01  1487.571429  1489.909524  1494.080952  1482.542857\n",
       "1989-02-01  1481.065000  1479.310000  1485.300000  1473.055000\n",
       "1989-03-01  1500.280952  1503.723810  1508.552381  1498.270000\n",
       "1989-04-01  1562.710526  1563.384211  1575.244444  1554.373684\n",
       "1989-05-01  1526.463158  1524.157895  1529.977778  1518.105556"
      ]
     },
     "execution_count": 97,
     "metadata": {},
     "output_type": "execute_result"
    }
   ],
   "source": [
    "df.resample('MS').mean().head()"
   ]
  },
  {
   "cell_type": "markdown",
   "metadata": {
    "collapsed": true
   },
   "source": [
    "**Beispiel: ** Monatliche Maximalwerte"
   ]
  },
  {
   "cell_type": "code",
   "execution_count": null,
   "metadata": {},
   "outputs": [],
   "source": [
    "df.resample('MS').max().head()"
   ]
  },
  {
   "cell_type": "markdown",
   "metadata": {
    "collapsed": true
   },
   "source": [
    "**Beispiel: ** Monatliche Anzahl"
   ]
  },
  {
   "cell_type": "code",
   "execution_count": null,
   "metadata": {},
   "outputs": [],
   "source": [
    "df.resample('MS').count().head()"
   ]
  },
  {
   "cell_type": "markdown",
   "metadata": {
    "collapsed": true
   },
   "source": [
    "**Beispiel: ** Monatlicher Letztwert (-> das haben wir vorher gesucht!)"
   ]
  },
  {
   "cell_type": "code",
   "execution_count": null,
   "metadata": {},
   "outputs": [],
   "source": [
    "df.resample('MS').last().head()"
   ]
  },
  {
   "cell_type": "markdown",
   "metadata": {
    "collapsed": true
   },
   "source": [
    "**Beispiel:** Wir können das Intervall \"Jahr\" auch nur in Fünferschritten abfragen"
   ]
  },
  {
   "cell_type": "code",
   "execution_count": null,
   "metadata": {},
   "outputs": [],
   "source": [
    "df.resample('5AS').mean()"
   ]
  },
  {
   "cell_type": "markdown",
   "metadata": {
    "collapsed": true
   },
   "source": [
    "**Quiz:** Quartalsweise Minima (mit Startdatum als Index) - Liste"
   ]
  },
  {
   "cell_type": "code",
   "execution_count": 102,
   "metadata": {},
   "outputs": [
    {
     "data": {
      "text/html": [
       "<div>\n",
       "<style scoped>\n",
       "    .dataframe tbody tr th:only-of-type {\n",
       "        vertical-align: middle;\n",
       "    }\n",
       "\n",
       "    .dataframe tbody tr th {\n",
       "        vertical-align: top;\n",
       "    }\n",
       "\n",
       "    .dataframe thead th {\n",
       "        text-align: right;\n",
       "    }\n",
       "</style>\n",
       "<table border=\"1\" class=\"dataframe\">\n",
       "  <thead>\n",
       "    <tr style=\"text-align: right;\">\n",
       "      <th></th>\n",
       "      <th>Open</th>\n",
       "      <th>Close</th>\n",
       "      <th>High</th>\n",
       "      <th>Low</th>\n",
       "    </tr>\n",
       "  </thead>\n",
       "  <tbody>\n",
       "    <tr>\n",
       "      <th>1989-01-01</th>\n",
       "      <td>1434.0</td>\n",
       "      <td>1433.6</td>\n",
       "      <td>1451.5</td>\n",
       "      <td>1427.6</td>\n",
       "    </tr>\n",
       "    <tr>\n",
       "      <th>1989-04-01</th>\n",
       "      <td>1493.5</td>\n",
       "      <td>1494.2</td>\n",
       "      <td>1499.2</td>\n",
       "      <td>1477.9</td>\n",
       "    </tr>\n",
       "    <tr>\n",
       "      <th>1989-07-01</th>\n",
       "      <td>1641.2</td>\n",
       "      <td>1653.1</td>\n",
       "      <td>1653.1</td>\n",
       "      <td>1606.9</td>\n",
       "    </tr>\n",
       "    <tr>\n",
       "      <th>1989-10-01</th>\n",
       "      <td>1626.2</td>\n",
       "      <td>1622.9</td>\n",
       "      <td>1656.3</td>\n",
       "      <td>1614.7</td>\n",
       "    </tr>\n",
       "    <tr>\n",
       "      <th>1990-01-01</th>\n",
       "      <td>1620.8</td>\n",
       "      <td>1620.2</td>\n",
       "      <td>1621.9</td>\n",
       "      <td>1600.3</td>\n",
       "    </tr>\n",
       "  </tbody>\n",
       "</table>\n",
       "</div>"
      ],
      "text/plain": [
       "              Open   Close    High     Low\n",
       "1989-01-01  1434.0  1433.6  1451.5  1427.6\n",
       "1989-04-01  1493.5  1494.2  1499.2  1477.9\n",
       "1989-07-01  1641.2  1653.1  1653.1  1606.9\n",
       "1989-10-01  1626.2  1622.9  1656.3  1614.7\n",
       "1990-01-01  1620.8  1620.2  1621.9  1600.3"
      ]
     },
     "execution_count": 102,
     "metadata": {},
     "output_type": "execute_result"
    }
   ],
   "source": [
    "#Antwort\n",
    "df.resample('QS').min().head()"
   ]
  },
  {
   "cell_type": "markdown",
   "metadata": {},
   "source": [
    "**Quiz:** Wöchentlicher Median aller Schlusskurse im Jahr 2017 - Plot"
   ]
  },
  {
   "cell_type": "code",
   "execution_count": 112,
   "metadata": {},
   "outputs": [
    {
     "data": {
      "text/plain": [
       "<matplotlib.axes._subplots.AxesSubplot at 0x122481278>"
      ]
     },
     "execution_count": 112,
     "metadata": {},
     "output_type": "execute_result"
    },
    {
     "data": {
      "image/png": "[encoded data removed]",
      "text/plain": [
       "<Figure size 432x288 with 1 Axes>"
      ]
     },
     "metadata": {
      "needs_background": "light"
     },
     "output_type": "display_data"
    }
   ],
   "source": [
    "# Antwort\n",
    "df['2017']['Close'].resample('W').median().head()\n",
    "df['2017']['Close'].resample('W').median().plot()"
   ]
  },
  {
   "cell_type": "code",
   "execution_count": null,
   "metadata": {
    "collapsed": true
   },
   "outputs": [],
   "source": []
  },
  {
   "cell_type": "code",
   "execution_count": null,
   "metadata": {
    "collapsed": true
   },
   "outputs": [],
   "source": []
  },
  {
   "cell_type": "markdown",
   "metadata": {},
   "source": [
    "## 4. Grouping"
   ]
  },
  {
   "cell_type": "markdown",
   "metadata": {},
   "source": [
    "Die vierte Technik, die wir kennenlernen, kennen wir eigentlich bereits: Groupby.\n",
    "\n",
    "Hier geht es um zyklische Analysen, also zB Zusammenfassungen davon, was jeweils im Januar (egal welchen Jahres) passiert ist.\n",
    "\n",
    "Was wir uns wiederum überlegen müssen, ist:\n",
    "- Welcher Zeitintervall interessiert uns\n",
    "- Welche Metrik wollen wir anwenden\n",
    "- (und auf welche Spalte wollen wir das einschränken)"
   ]
  },
  {
   "cell_type": "markdown",
   "metadata": {},
   "source": [
    "Technisch gesehen gruppieren wir die Daten eigentlich immer nach bestimmten, repetitiven Werten, die wir dem Index entnehmen:"
   ]
  },
  {
   "cell_type": "code",
   "execution_count": 113,
   "metadata": {},
   "outputs": [
    {
     "data": {
      "text/plain": [
       "Int64Index([ 1,  1,  1,  1,  1,  1,  1,  1,  1,  1,\n",
       "            ...\n",
       "            10, 10, 10, 10, 10, 10, 10, 10, 10, 10],\n",
       "           dtype='int64', length=7480)"
      ]
     },
     "execution_count": 113,
     "metadata": {},
     "output_type": "execute_result"
    }
   ],
   "source": [
    "df.index.month"
   ]
  },
  {
   "cell_type": "markdown",
   "metadata": {},
   "source": [
    "Wir gruppieren die Daten also zB nach den Zahlen 1, 2, 3, .... 12, wenn wir nach Monat gruppieren"
   ]
  },
  {
   "cell_type": "code",
   "execution_count": 120,
   "metadata": {},
   "outputs": [
    {
     "data": {
      "text/plain": [
       "<matplotlib.axes._subplots.AxesSubplot at 0x12276d320>"
      ]
     },
     "execution_count": 120,
     "metadata": {},
     "output_type": "execute_result"
    },
    {
     "data": {
      "image/png": "[encoded data removed]",
      "text/plain": [
       "<Figure size 432x288 with 1 Axes>"
      ]
     },
     "metadata": {
      "needs_background": "light"
     },
     "output_type": "display_data"
    }
   ],
   "source": [
    "df.groupby(df.index.month).mean()\n",
    "df.groupby(df.index.month).mean().plot()\n",
    "#df.groupby(df.index.day).mean()\n",
    "#df.groupby(df.index.day)['Close'].mean().plot()"
   ]
  },
  {
   "cell_type": "markdown",
   "metadata": {},
   "source": [
    "Wir können die gruppierte Auswertung wiederum plotten, wobei wir hier keine Line- sondern Barcharts verwenden sollten!\n",
    "\n",
    "(das Ergebnis sieht jetzt nicht so spektakulär aus, aber das ändern wir später noch!)"
   ]
  },
  {
   "cell_type": "code",
   "execution_count": null,
   "metadata": {},
   "outputs": [],
   "source": [
    "df.groupby(df.index.month)['Close'].mean().plot(figsize=(8,4), kind='bar')"
   ]
  },
  {
   "cell_type": "markdown",
   "metadata": {
    "collapsed": true
   },
   "source": [
    "**Beispiel:** Was war der höchste Börsenkurs, der je an einem Montag, Dienstag, ... Freitag erzielt wurde? Liste"
   ]
  },
  {
   "cell_type": "code",
   "execution_count": 121,
   "metadata": {},
   "outputs": [
    {
     "data": {
      "text/plain": [
       "0    9584.52\n",
       "1    9611.61\n",
       "2    9616.38\n",
       "3    9567.69\n",
       "4    9561.59\n",
       "Name: High, dtype: float64"
      ]
     },
     "execution_count": 121,
     "metadata": {},
     "output_type": "execute_result"
    }
   ],
   "source": [
    "df.groupby(df.index.dayofweek)['High'].max()"
   ]
  },
  {
   "cell_type": "markdown",
   "metadata": {},
   "source": [
    "**Quiz:** Ein Jahr hat 52 Wochen. Gibt es ein typisches Muster, wie sich die mittleren Schlusskurse entwickeln? Plot"
   ]
  },
  {
   "cell_type": "code",
   "execution_count": 124,
   "metadata": {},
   "outputs": [
    {
     "data": {
      "text/plain": [
       "<matplotlib.axes._subplots.AxesSubplot at 0x122bd15f8>"
      ]
     },
     "execution_count": 124,
     "metadata": {},
     "output_type": "execute_result"
    },
    {
     "data": {
      "image/png": "[encoded data removed]",
      "text/plain": [
       "<Figure size 432x288 with 1 Axes>"
      ]
     },
     "metadata": {
      "needs_background": "light"
     },
     "output_type": "display_data"
    }
   ],
   "source": [
    "#Antwort\n",
    "df.groupby(df.index.week).mean()\n",
    "df.groupby(df.index.week)['Close'].mean().plot()"
   ]
  },
  {
   "cell_type": "code",
   "execution_count": null,
   "metadata": {
    "collapsed": true
   },
   "outputs": [],
   "source": []
  },
  {
   "cell_type": "code",
   "execution_count": null,
   "metadata": {
    "collapsed": true
   },
   "outputs": [],
   "source": []
  },
  {
   "cell_type": "markdown",
   "metadata": {},
   "source": [
    "## 5. Percent change"
   ]
  },
  {
   "cell_type": "markdown",
   "metadata": {
    "collapsed": true
   },
   "source": [
    "Die Fragen, die wir soeben gestellt haben, werden einiges lustiger zu beantworten, wenn wir nicht die absoluten Kurse vergleichen (zB je nach Monat), sondern die relativen Veränderungen.\n",
    "\n",
    "Dafür ist `pct_change()` da: Eine Funktion, die man auf das ganze Dataframe anwenden kann, um die täglichen, prozentualen Veränderungen auszurechen.\n",
    "\n",
    "Oder man kann `pct_change()` auch auf Daten anwenden, die man bereits resamplet hat!"
   ]
  },
  {
   "cell_type": "markdown",
   "metadata": {},
   "source": [
    "**Beispiel:** Wie verändert sich die Börse typischerweise über die Jahresmonate hinweg?\n",
    "\n",
    "Wir starten dazu mit den monatlichen Mittelwerten für den ganzen Zeitraum, die wir mittels `resample()` bereits einmal ermittelt haben:"
   ]
  },
  {
   "cell_type": "code",
   "execution_count": 125,
   "metadata": {},
   "outputs": [
    {
     "data": {
      "text/html": [
       "<div>\n",
       "<style scoped>\n",
       "    .dataframe tbody tr th:only-of-type {\n",
       "        vertical-align: middle;\n",
       "    }\n",
       "\n",
       "    .dataframe tbody tr th {\n",
       "        vertical-align: top;\n",
       "    }\n",
       "\n",
       "    .dataframe thead th {\n",
       "        text-align: right;\n",
       "    }\n",
       "</style>\n",
       "<table border=\"1\" class=\"dataframe\">\n",
       "  <thead>\n",
       "    <tr style=\"text-align: right;\">\n",
       "      <th></th>\n",
       "      <th>Open</th>\n",
       "      <th>Close</th>\n",
       "      <th>High</th>\n",
       "      <th>Low</th>\n",
       "    </tr>\n",
       "  </thead>\n",
       "  <tbody>\n",
       "    <tr>\n",
       "      <th>1989-01-01</th>\n",
       "      <td>1487.571429</td>\n",
       "      <td>1489.909524</td>\n",
       "      <td>1494.080952</td>\n",
       "      <td>1482.542857</td>\n",
       "    </tr>\n",
       "    <tr>\n",
       "      <th>1989-02-01</th>\n",
       "      <td>1481.065000</td>\n",
       "      <td>1479.310000</td>\n",
       "      <td>1485.300000</td>\n",
       "      <td>1473.055000</td>\n",
       "    </tr>\n",
       "    <tr>\n",
       "      <th>1989-03-01</th>\n",
       "      <td>1500.280952</td>\n",
       "      <td>1503.723810</td>\n",
       "      <td>1508.552381</td>\n",
       "      <td>1498.270000</td>\n",
       "    </tr>\n",
       "    <tr>\n",
       "      <th>1989-04-01</th>\n",
       "      <td>1562.710526</td>\n",
       "      <td>1563.384211</td>\n",
       "      <td>1575.244444</td>\n",
       "      <td>1554.373684</td>\n",
       "    </tr>\n",
       "    <tr>\n",
       "      <th>1989-05-01</th>\n",
       "      <td>1526.463158</td>\n",
       "      <td>1524.157895</td>\n",
       "      <td>1529.977778</td>\n",
       "      <td>1518.105556</td>\n",
       "    </tr>\n",
       "  </tbody>\n",
       "</table>\n",
       "</div>"
      ],
      "text/plain": [
       "                   Open        Close         High          Low\n",
       "1989-01-01  1487.571429  1489.909524  1494.080952  1482.542857\n",
       "1989-02-01  1481.065000  1479.310000  1485.300000  1473.055000\n",
       "1989-03-01  1500.280952  1503.723810  1508.552381  1498.270000\n",
       "1989-04-01  1562.710526  1563.384211  1575.244444  1554.373684\n",
       "1989-05-01  1526.463158  1524.157895  1529.977778  1518.105556"
      ]
     },
     "execution_count": 125,
     "metadata": {},
     "output_type": "execute_result"
    }
   ],
   "source": [
    "df.resample('MS').mean().head()"
   ]
  },
  {
   "cell_type": "markdown",
   "metadata": {},
   "source": [
    "Nun berechnen wir die monatlichen Veränderungsraten (warum ist die erste Spalte = NaN?)"
   ]
  },
  {
   "cell_type": "code",
   "execution_count": 126,
   "metadata": {},
   "outputs": [],
   "source": [
    "df_mth_chg = df.resample('MS').mean().pct_change()"
   ]
  },
  {
   "cell_type": "code",
   "execution_count": 127,
   "metadata": {},
   "outputs": [
    {
     "data": {
      "text/html": [
       "<div>\n",
       "<style scoped>\n",
       "    .dataframe tbody tr th:only-of-type {\n",
       "        vertical-align: middle;\n",
       "    }\n",
       "\n",
       "    .dataframe tbody tr th {\n",
       "        vertical-align: top;\n",
       "    }\n",
       "\n",
       "    .dataframe thead th {\n",
       "        text-align: right;\n",
       "    }\n",
       "</style>\n",
       "<table border=\"1\" class=\"dataframe\">\n",
       "  <thead>\n",
       "    <tr style=\"text-align: right;\">\n",
       "      <th></th>\n",
       "      <th>Open</th>\n",
       "      <th>Close</th>\n",
       "      <th>High</th>\n",
       "      <th>Low</th>\n",
       "    </tr>\n",
       "  </thead>\n",
       "  <tbody>\n",
       "    <tr>\n",
       "      <th>1989-01-01</th>\n",
       "      <td>NaN</td>\n",
       "      <td>NaN</td>\n",
       "      <td>NaN</td>\n",
       "      <td>NaN</td>\n",
       "    </tr>\n",
       "    <tr>\n",
       "      <th>1989-02-01</th>\n",
       "      <td>-0.004374</td>\n",
       "      <td>-0.007114</td>\n",
       "      <td>-0.005877</td>\n",
       "      <td>-0.006400</td>\n",
       "    </tr>\n",
       "    <tr>\n",
       "      <th>1989-03-01</th>\n",
       "      <td>0.012974</td>\n",
       "      <td>0.016504</td>\n",
       "      <td>0.015655</td>\n",
       "      <td>0.017117</td>\n",
       "    </tr>\n",
       "    <tr>\n",
       "      <th>1989-04-01</th>\n",
       "      <td>0.041612</td>\n",
       "      <td>0.039675</td>\n",
       "      <td>0.044209</td>\n",
       "      <td>0.037446</td>\n",
       "    </tr>\n",
       "    <tr>\n",
       "      <th>1989-05-01</th>\n",
       "      <td>-0.023195</td>\n",
       "      <td>-0.025091</td>\n",
       "      <td>-0.028736</td>\n",
       "      <td>-0.023333</td>\n",
       "    </tr>\n",
       "  </tbody>\n",
       "</table>\n",
       "</div>"
      ],
      "text/plain": [
       "                Open     Close      High       Low\n",
       "1989-01-01       NaN       NaN       NaN       NaN\n",
       "1989-02-01 -0.004374 -0.007114 -0.005877 -0.006400\n",
       "1989-03-01  0.012974  0.016504  0.015655  0.017117\n",
       "1989-04-01  0.041612  0.039675  0.044209  0.037446\n",
       "1989-05-01 -0.023195 -0.025091 -0.028736 -0.023333"
      ]
     },
     "execution_count": 127,
     "metadata": {},
     "output_type": "execute_result"
    }
   ],
   "source": [
    "df_mth_chg.head()"
   ]
  },
  {
   "cell_type": "markdown",
   "metadata": {},
   "source": [
    "Letzter Schritt: Wir gruppieren die monatlichen Veränderungsraten - nach Monaten. Und mitteln."
   ]
  },
  {
   "cell_type": "code",
   "execution_count": 128,
   "metadata": {},
   "outputs": [
    {
     "data": {
      "text/html": [
       "<div>\n",
       "<style scoped>\n",
       "    .dataframe tbody tr th:only-of-type {\n",
       "        vertical-align: middle;\n",
       "    }\n",
       "\n",
       "    .dataframe tbody tr th {\n",
       "        vertical-align: top;\n",
       "    }\n",
       "\n",
       "    .dataframe thead th {\n",
       "        text-align: right;\n",
       "    }\n",
       "</style>\n",
       "<table border=\"1\" class=\"dataframe\">\n",
       "  <thead>\n",
       "    <tr style=\"text-align: right;\">\n",
       "      <th></th>\n",
       "      <th>Open</th>\n",
       "      <th>Close</th>\n",
       "      <th>High</th>\n",
       "      <th>Low</th>\n",
       "    </tr>\n",
       "  </thead>\n",
       "  <tbody>\n",
       "    <tr>\n",
       "      <th>1</th>\n",
       "      <td>0.012596</td>\n",
       "      <td>0.011623</td>\n",
       "      <td>0.012796</td>\n",
       "      <td>0.010786</td>\n",
       "    </tr>\n",
       "    <tr>\n",
       "      <th>2</th>\n",
       "      <td>0.003211</td>\n",
       "      <td>0.003611</td>\n",
       "      <td>0.002748</td>\n",
       "      <td>0.004337</td>\n",
       "    </tr>\n",
       "    <tr>\n",
       "      <th>3</th>\n",
       "      <td>0.001571</td>\n",
       "      <td>0.001985</td>\n",
       "      <td>0.004785</td>\n",
       "      <td>0.001323</td>\n",
       "    </tr>\n",
       "    <tr>\n",
       "      <th>4</th>\n",
       "      <td>0.017050</td>\n",
       "      <td>0.017055</td>\n",
       "      <td>0.013981</td>\n",
       "      <td>0.017527</td>\n",
       "    </tr>\n",
       "    <tr>\n",
       "      <th>5</th>\n",
       "      <td>0.012087</td>\n",
       "      <td>0.011932</td>\n",
       "      <td>0.012015</td>\n",
       "      <td>0.012233</td>\n",
       "    </tr>\n",
       "    <tr>\n",
       "      <th>6</th>\n",
       "      <td>0.000040</td>\n",
       "      <td>-0.000256</td>\n",
       "      <td>0.000124</td>\n",
       "      <td>-0.000121</td>\n",
       "    </tr>\n",
       "    <tr>\n",
       "      <th>7</th>\n",
       "      <td>0.005317</td>\n",
       "      <td>0.005551</td>\n",
       "      <td>0.005459</td>\n",
       "      <td>0.005249</td>\n",
       "    </tr>\n",
       "    <tr>\n",
       "      <th>8</th>\n",
       "      <td>-0.001212</td>\n",
       "      <td>-0.001702</td>\n",
       "      <td>0.000703</td>\n",
       "      <td>-0.002689</td>\n",
       "    </tr>\n",
       "    <tr>\n",
       "      <th>9</th>\n",
       "      <td>-0.006066</td>\n",
       "      <td>-0.006234</td>\n",
       "      <td>-0.007658</td>\n",
       "      <td>-0.005757</td>\n",
       "    </tr>\n",
       "    <tr>\n",
       "      <th>10</th>\n",
       "      <td>-0.001697</td>\n",
       "      <td>-0.000793</td>\n",
       "      <td>-0.000977</td>\n",
       "      <td>-0.001474</td>\n",
       "    </tr>\n",
       "    <tr>\n",
       "      <th>11</th>\n",
       "      <td>0.015904</td>\n",
       "      <td>0.015780</td>\n",
       "      <td>0.014787</td>\n",
       "      <td>0.017348</td>\n",
       "    </tr>\n",
       "    <tr>\n",
       "      <th>12</th>\n",
       "      <td>0.012397</td>\n",
       "      <td>0.012495</td>\n",
       "      <td>0.012239</td>\n",
       "      <td>0.012967</td>\n",
       "    </tr>\n",
       "  </tbody>\n",
       "</table>\n",
       "</div>"
      ],
      "text/plain": [
       "        Open     Close      High       Low\n",
       "1   0.012596  0.011623  0.012796  0.010786\n",
       "2   0.003211  0.003611  0.002748  0.004337\n",
       "3   0.001571  0.001985  0.004785  0.001323\n",
       "4   0.017050  0.017055  0.013981  0.017527\n",
       "5   0.012087  0.011932  0.012015  0.012233\n",
       "6   0.000040 -0.000256  0.000124 -0.000121\n",
       "7   0.005317  0.005551  0.005459  0.005249\n",
       "8  -0.001212 -0.001702  0.000703 -0.002689\n",
       "9  -0.006066 -0.006234 -0.007658 -0.005757\n",
       "10 -0.001697 -0.000793 -0.000977 -0.001474\n",
       "11  0.015904  0.015780  0.014787  0.017348\n",
       "12  0.012397  0.012495  0.012239  0.012967"
      ]
     },
     "execution_count": 128,
     "metadata": {},
     "output_type": "execute_result"
    }
   ],
   "source": [
    "df_mth_chg.groupby(df_mth_chg.index.month).mean()"
   ]
  },
  {
   "cell_type": "markdown",
   "metadata": {},
   "source": [
    "Im Plot der Schlusskurse sieht das dann so aus:"
   ]
  },
  {
   "cell_type": "code",
   "execution_count": 129,
   "metadata": {},
   "outputs": [
    {
     "data": {
      "text/plain": [
       "<matplotlib.axes._subplots.AxesSubplot at 0x122ca3a58>"
      ]
     },
     "execution_count": 129,
     "metadata": {},
     "output_type": "execute_result"
    },
    {
     "data": {
      "image/png": "[encoded data removed]",
      "text/plain": [
       "<Figure size 576x288 with 1 Axes>"
      ]
     },
     "metadata": {
      "needs_background": "light"
     },
     "output_type": "display_data"
    }
   ],
   "source": [
    "df_mth_chg.groupby(df_mth_chg.index.month)['Close'].mean().plot(figsize=(8,4), kind='bar')"
   ]
  },
  {
   "cell_type": "markdown",
   "metadata": {},
   "source": [
    "\"Sell in May and go away\", lautet eine Börsenweisheit. Stimmt sie?"
   ]
  },
  {
   "cell_type": "code",
   "execution_count": null,
   "metadata": {
    "collapsed": true
   },
   "outputs": [],
   "source": []
  },
  {
   "cell_type": "code",
   "execution_count": null,
   "metadata": {
    "collapsed": true
   },
   "outputs": [],
   "source": []
  },
  {
   "cell_type": "markdown",
   "metadata": {},
   "source": [
    "## 6. Rolling"
   ]
  },
  {
   "cell_type": "markdown",
   "metadata": {},
   "source": [
    "Die sechste Technik, wie wir die Daten modifizieren können, ist: Rollen.\n",
    "\n",
    "Wir schauen diese Technik nicht genauer an. Es geht darum:\n",
    "- über ein bestimmtes Zeitfenster (zB 10 Tage)\n",
    "- eine bestimmte Metrik anzuwenden\n",
    "- (auf eine Spalte, falls wir wollen)\n",
    "\n",
    "Hier wäre ein Anwendungsbeispiel: der gleitende (\"rollende\") Zehn-Tages-Durchschnitt der Börsenkurse. Wir müssen jeweils angeben, wie das Zeitfenster positioniert werden soll (zentriert oder nicht).\n",
    "\n",
    "Mehr Infos: https://pandas.pydata.org/pandas-docs/stable/generated/pandas.DataFrame.rolling.html"
   ]
  },
  {
   "cell_type": "code",
   "execution_count": 130,
   "metadata": {},
   "outputs": [
    {
     "data": {
      "text/html": [
       "<div>\n",
       "<style scoped>\n",
       "    .dataframe tbody tr th:only-of-type {\n",
       "        vertical-align: middle;\n",
       "    }\n",
       "\n",
       "    .dataframe tbody tr th {\n",
       "        vertical-align: top;\n",
       "    }\n",
       "\n",
       "    .dataframe thead th {\n",
       "        text-align: right;\n",
       "    }\n",
       "</style>\n",
       "<table border=\"1\" class=\"dataframe\">\n",
       "  <thead>\n",
       "    <tr style=\"text-align: right;\">\n",
       "      <th></th>\n",
       "      <th>Open</th>\n",
       "      <th>Close</th>\n",
       "      <th>High</th>\n",
       "      <th>Low</th>\n",
       "    </tr>\n",
       "  </thead>\n",
       "  <tbody>\n",
       "    <tr>\n",
       "      <th>1989-01-03</th>\n",
       "      <td>NaN</td>\n",
       "      <td>NaN</td>\n",
       "      <td>NaN</td>\n",
       "      <td>NaN</td>\n",
       "    </tr>\n",
       "    <tr>\n",
       "      <th>1989-01-04</th>\n",
       "      <td>NaN</td>\n",
       "      <td>NaN</td>\n",
       "      <td>NaN</td>\n",
       "      <td>NaN</td>\n",
       "    </tr>\n",
       "    <tr>\n",
       "      <th>1989-01-05</th>\n",
       "      <td>NaN</td>\n",
       "      <td>NaN</td>\n",
       "      <td>NaN</td>\n",
       "      <td>NaN</td>\n",
       "    </tr>\n",
       "    <tr>\n",
       "      <th>1989-01-06</th>\n",
       "      <td>NaN</td>\n",
       "      <td>NaN</td>\n",
       "      <td>NaN</td>\n",
       "      <td>NaN</td>\n",
       "    </tr>\n",
       "    <tr>\n",
       "      <th>1989-01-09</th>\n",
       "      <td>NaN</td>\n",
       "      <td>NaN</td>\n",
       "      <td>NaN</td>\n",
       "      <td>NaN</td>\n",
       "    </tr>\n",
       "    <tr>\n",
       "      <th>1989-01-10</th>\n",
       "      <td>1482.96</td>\n",
       "      <td>1489.60</td>\n",
       "      <td>1492.46</td>\n",
       "      <td>1480.44</td>\n",
       "    </tr>\n",
       "    <tr>\n",
       "      <th>1989-01-11</th>\n",
       "      <td>1489.88</td>\n",
       "      <td>1491.63</td>\n",
       "      <td>1496.37</td>\n",
       "      <td>1485.08</td>\n",
       "    </tr>\n",
       "    <tr>\n",
       "      <th>1989-01-12</th>\n",
       "      <td>1491.98</td>\n",
       "      <td>1493.08</td>\n",
       "      <td>1497.91</td>\n",
       "      <td>1486.29</td>\n",
       "    </tr>\n",
       "    <tr>\n",
       "      <th>1989-01-13</th>\n",
       "      <td>1493.14</td>\n",
       "      <td>1492.38</td>\n",
       "      <td>1498.07</td>\n",
       "      <td>1486.83</td>\n",
       "    </tr>\n",
       "    <tr>\n",
       "      <th>1989-01-16</th>\n",
       "      <td>1492.47</td>\n",
       "      <td>1491.30</td>\n",
       "      <td>1497.03</td>\n",
       "      <td>1485.69</td>\n",
       "    </tr>\n",
       "    <tr>\n",
       "      <th>1989-01-17</th>\n",
       "      <td>1491.36</td>\n",
       "      <td>1490.15</td>\n",
       "      <td>1495.08</td>\n",
       "      <td>1484.30</td>\n",
       "    </tr>\n",
       "    <tr>\n",
       "      <th>1989-01-18</th>\n",
       "      <td>1490.27</td>\n",
       "      <td>1489.94</td>\n",
       "      <td>1494.73</td>\n",
       "      <td>1483.95</td>\n",
       "    </tr>\n",
       "    <tr>\n",
       "      <th>1989-01-19</th>\n",
       "      <td>1490.16</td>\n",
       "      <td>1491.31</td>\n",
       "      <td>1496.31</td>\n",
       "      <td>1484.49</td>\n",
       "    </tr>\n",
       "    <tr>\n",
       "      <th>1989-01-20</th>\n",
       "      <td>1491.50</td>\n",
       "      <td>1491.39</td>\n",
       "      <td>1496.57</td>\n",
       "      <td>1485.36</td>\n",
       "    </tr>\n",
       "    <tr>\n",
       "      <th>1989-01-23</th>\n",
       "      <td>1491.49</td>\n",
       "      <td>1490.86</td>\n",
       "      <td>1495.69</td>\n",
       "      <td>1485.12</td>\n",
       "    </tr>\n",
       "    <tr>\n",
       "      <th>1989-01-24</th>\n",
       "      <td>1491.14</td>\n",
       "      <td>1490.16</td>\n",
       "      <td>1495.25</td>\n",
       "      <td>1484.41</td>\n",
       "    </tr>\n",
       "    <tr>\n",
       "      <th>1989-01-25</th>\n",
       "      <td>1490.44</td>\n",
       "      <td>1490.56</td>\n",
       "      <td>1494.58</td>\n",
       "      <td>1484.68</td>\n",
       "    </tr>\n",
       "    <tr>\n",
       "      <th>1989-01-26</th>\n",
       "      <td>1490.77</td>\n",
       "      <td>1490.22</td>\n",
       "      <td>1495.06</td>\n",
       "      <td>1484.82</td>\n",
       "    </tr>\n",
       "    <tr>\n",
       "      <th>1989-01-27</th>\n",
       "      <td>1490.40</td>\n",
       "      <td>1489.52</td>\n",
       "      <td>1494.25</td>\n",
       "      <td>1483.55</td>\n",
       "    </tr>\n",
       "    <tr>\n",
       "      <th>1989-01-30</th>\n",
       "      <td>1489.71</td>\n",
       "      <td>1489.83</td>\n",
       "      <td>1494.08</td>\n",
       "      <td>1483.37</td>\n",
       "    </tr>\n",
       "  </tbody>\n",
       "</table>\n",
       "</div>"
      ],
      "text/plain": [
       "               Open    Close     High      Low\n",
       "1989-01-03      NaN      NaN      NaN      NaN\n",
       "1989-01-04      NaN      NaN      NaN      NaN\n",
       "1989-01-05      NaN      NaN      NaN      NaN\n",
       "1989-01-06      NaN      NaN      NaN      NaN\n",
       "1989-01-09      NaN      NaN      NaN      NaN\n",
       "1989-01-10  1482.96  1489.60  1492.46  1480.44\n",
       "1989-01-11  1489.88  1491.63  1496.37  1485.08\n",
       "1989-01-12  1491.98  1493.08  1497.91  1486.29\n",
       "1989-01-13  1493.14  1492.38  1498.07  1486.83\n",
       "1989-01-16  1492.47  1491.30  1497.03  1485.69\n",
       "1989-01-17  1491.36  1490.15  1495.08  1484.30\n",
       "1989-01-18  1490.27  1489.94  1494.73  1483.95\n",
       "1989-01-19  1490.16  1491.31  1496.31  1484.49\n",
       "1989-01-20  1491.50  1491.39  1496.57  1485.36\n",
       "1989-01-23  1491.49  1490.86  1495.69  1485.12\n",
       "1989-01-24  1491.14  1490.16  1495.25  1484.41\n",
       "1989-01-25  1490.44  1490.56  1494.58  1484.68\n",
       "1989-01-26  1490.77  1490.22  1495.06  1484.82\n",
       "1989-01-27  1490.40  1489.52  1494.25  1483.55\n",
       "1989-01-30  1489.71  1489.83  1494.08  1483.37"
      ]
     },
     "execution_count": 130,
     "metadata": {},
     "output_type": "execute_result"
    }
   ],
   "source": [
    "df.rolling(10, center=True).mean().head(20)"
   ]
  },
  {
   "cell_type": "code",
   "execution_count": null,
   "metadata": {
    "collapsed": true
   },
   "outputs": [],
   "source": []
  },
  {
   "cell_type": "code",
   "execution_count": null,
   "metadata": {
    "collapsed": true
   },
   "outputs": [],
   "source": []
  },
  {
   "cell_type": "markdown",
   "metadata": {},
   "source": [
    "# Plotting Level 3"
   ]
  },
  {
   "cell_type": "markdown",
   "metadata": {
    "collapsed": true
   },
   "source": [
    "Hier lernen wir:\n",
    "- Einen Befehl, der ein paar Codezeilen spart: `agg()`\n",
    "- Erstmals eine Funktion aus Matplotlib direkt anzusteuern: `fill_between()`"
   ]
  },
  {
   "cell_type": "markdown",
   "metadata": {},
   "source": [
    "**Aggregate**"
   ]
  },
  {
   "cell_type": "markdown",
   "metadata": {
    "collapsed": true
   },
   "source": [
    "Wir haben bereits kennengelernt, wie wir mehrere Linien auf einen Plot zeichnen können.\n",
    "\n",
    "In diesem Fall geht das eigentlich ganz einfach: Wir schreiben einfach alle `plot()`-Befehle in die Zelle.\n",
    "\n",
    "Zum Beispiel: Die monatlichen Maximal-, Minimal- und Durchschnittskurse (seit 2014)."
   ]
  },
  {
   "cell_type": "code",
   "execution_count": 131,
   "metadata": {},
   "outputs": [
    {
     "data": {
      "text/plain": [
       "<matplotlib.axes._subplots.AxesSubplot at 0x122d792e8>"
      ]
     },
     "execution_count": 131,
     "metadata": {},
     "output_type": "execute_result"
    },
    {
     "data": {
      "image/png": "[encoded data removed]",
      "text/plain": [
       "<Figure size 576x288 with 1 Axes>"
      ]
     },
     "metadata": {
      "needs_background": "light"
     },
     "output_type": "display_data"
    }
   ],
   "source": [
    "df['2014':].resample('MS').min()['Close'].plot(figsize=(8,4))\n",
    "df['2014':].resample('MS').max()['Close'].plot()\n",
    "df['2014':].resample('MS').mean()['Close'].plot()"
   ]
  },
  {
   "cell_type": "markdown",
   "metadata": {},
   "source": [
    "Wir können die drei Metriken `min()`, `max()` und `mean()` aber auch in einen Befehl packen:"
   ]
  },
  {
   "cell_type": "code",
   "execution_count": 132,
   "metadata": {},
   "outputs": [
    {
     "data": {
      "text/plain": [
       "<matplotlib.axes._subplots.AxesSubplot at 0x122ebcda0>"
      ]
     },
     "execution_count": 132,
     "metadata": {},
     "output_type": "execute_result"
    },
    {
     "data": {
      "image/png": "[encoded data removed]",
      "text/plain": [
       "<Figure size 576x288 with 1 Axes>"
      ]
     },
     "metadata": {
      "needs_background": "light"
     },
     "output_type": "display_data"
    }
   ],
   "source": [
    "df['2014':].resample('MS').agg(['min', 'max', 'mean'])['Close'].plot(figsize=(8,4))"
   ]
  },
  {
   "cell_type": "markdown",
   "metadata": {},
   "source": [
    "Ohne Plot sehen wir, was dahinter steht:"
   ]
  },
  {
   "cell_type": "code",
   "execution_count": 133,
   "metadata": {},
   "outputs": [
    {
     "data": {
      "text/html": [
       "<div>\n",
       "<style scoped>\n",
       "    .dataframe tbody tr th:only-of-type {\n",
       "        vertical-align: middle;\n",
       "    }\n",
       "\n",
       "    .dataframe tbody tr th {\n",
       "        vertical-align: top;\n",
       "    }\n",
       "\n",
       "    .dataframe thead th {\n",
       "        text-align: right;\n",
       "    }\n",
       "</style>\n",
       "<table border=\"1\" class=\"dataframe\">\n",
       "  <thead>\n",
       "    <tr style=\"text-align: right;\">\n",
       "      <th></th>\n",
       "      <th>min</th>\n",
       "      <th>max</th>\n",
       "      <th>mean</th>\n",
       "    </tr>\n",
       "  </thead>\n",
       "  <tbody>\n",
       "    <tr>\n",
       "      <th>2014-01-01</th>\n",
       "      <td>8132.16</td>\n",
       "      <td>8486.37</td>\n",
       "      <td>8329.420476</td>\n",
       "    </tr>\n",
       "    <tr>\n",
       "      <th>2014-02-01</th>\n",
       "      <td>8092.53</td>\n",
       "      <td>8532.99</td>\n",
       "      <td>8363.602500</td>\n",
       "    </tr>\n",
       "    <tr>\n",
       "      <th>2014-03-01</th>\n",
       "      <td>8114.02</td>\n",
       "      <td>8484.21</td>\n",
       "      <td>8312.969048</td>\n",
       "    </tr>\n",
       "    <tr>\n",
       "      <th>2014-04-01</th>\n",
       "      <td>8280.53</td>\n",
       "      <td>8521.63</td>\n",
       "      <td>8411.250000</td>\n",
       "    </tr>\n",
       "    <tr>\n",
       "      <th>2014-05-01</th>\n",
       "      <td>8395.77</td>\n",
       "      <td>8712.35</td>\n",
       "      <td>8590.655500</td>\n",
       "    </tr>\n",
       "  </tbody>\n",
       "</table>\n",
       "</div>"
      ],
      "text/plain": [
       "                min      max         mean\n",
       "2014-01-01  8132.16  8486.37  8329.420476\n",
       "2014-02-01  8092.53  8532.99  8363.602500\n",
       "2014-03-01  8114.02  8484.21  8312.969048\n",
       "2014-04-01  8280.53  8521.63  8411.250000\n",
       "2014-05-01  8395.77  8712.35  8590.655500"
      ]
     },
     "execution_count": 133,
     "metadata": {},
     "output_type": "execute_result"
    }
   ],
   "source": [
    "df['2014':].resample('MS').agg(['min', 'max', 'mean'])['Close'].head()"
   ]
  },
  {
   "cell_type": "markdown",
   "metadata": {},
   "source": [
    "**Fill Between**"
   ]
  },
  {
   "cell_type": "markdown",
   "metadata": {},
   "source": [
    "Bislang haben wir Plots stets mit der `plot()`-Funktion erstellt. Diese Funktion ist von verschiedenen Pandas-Objekttypen wie Series oder Dataframes her aufrufbar.\n",
    "\n",
    "Die Matplotlib-Bibliothek bietet aber auch von sich aus Plotting-Funktionen an. Sie gehen zT weiter und erlauben uns mehr Möglichkeiten, Plots zu gestalten.\n",
    "\n",
    "Um sie zu benutzen, müssen wir sie aber importieren. Konvention: als `plt`"
   ]
  },
  {
   "cell_type": "code",
   "execution_count": 134,
   "metadata": {},
   "outputs": [],
   "source": [
    "#Brauchen wir zum plotten\n",
    "import matplotlib.pyplot as plt"
   ]
  },
  {
   "cell_type": "markdown",
   "metadata": {},
   "source": [
    "Eine Funktion, die wir aufrufen können, heisst: `fill_between()`. Sie benötigt drei Inputs:\n",
    "- Eine Liste von x-Werten\n",
    "- Eine Liste von y-Maximalwerten\n",
    "- Eine Liste von y-Minimalwerten"
   ]
  },
  {
   "cell_type": "markdown",
   "metadata": {},
   "source": [
    "Wir stellen diese Werte mal zusammen: Es sind dieselben wie bereits in der vorherigen Grafik."
   ]
  },
  {
   "cell_type": "code",
   "execution_count": 135,
   "metadata": {},
   "outputs": [],
   "source": [
    "x_values = df['2014':].resample('MS')['Close'].mean().index\n",
    "y_mins = df['2014':].resample('MS')['Close'].min()\n",
    "y_maxes = df['2014':].resample('MS')['Close'].max()"
   ]
  },
  {
   "cell_type": "markdown",
   "metadata": {},
   "source": [
    "Dann füllen wir die Werte in die Funktion ein:"
   ]
  },
  {
   "cell_type": "code",
   "execution_count": 136,
   "metadata": {},
   "outputs": [
    {
     "data": {
      "text/plain": [
       "<matplotlib.collections.PolyCollection at 0x1230045f8>"
      ]
     },
     "execution_count": 136,
     "metadata": {},
     "output_type": "execute_result"
    },
    {
     "data": {
      "image/png": "[encoded data removed]",
      "text/plain": [
       "<Figure size 432x288 with 1 Axes>"
      ]
     },
     "metadata": {
      "needs_background": "light"
     },
     "output_type": "display_data"
    }
   ],
   "source": [
    "plt.fill_between(x_values, y_mins, y_maxes, alpha=0.5)"
   ]
  },
  {
   "cell_type": "markdown",
   "metadata": {},
   "source": [
    "Wenn wir möchten, können wir zusätzlich noch die mittleren Werte dazuzeichnen:"
   ]
  },
  {
   "cell_type": "code",
   "execution_count": 137,
   "metadata": {},
   "outputs": [
    {
     "data": {
      "text/plain": [
       "<matplotlib.collections.PolyCollection at 0x1230c76d8>"
      ]
     },
     "execution_count": 137,
     "metadata": {},
     "output_type": "execute_result"
    },
    {
     "data": {
      "image/png": "[encoded data removed]",
      "text/plain": [
       "<Figure size 576x288 with 1 Axes>"
      ]
     },
     "metadata": {
      "needs_background": "light"
     },
     "output_type": "display_data"
    }
   ],
   "source": [
    "df['2014':].resample('MS').mean()['Close'].plot(figsize=(8,4))\n",
    "plt.fill_between(x_values, y_mins, y_maxes, alpha=0.5)"
   ]
  },
  {
   "cell_type": "code",
   "execution_count": null,
   "metadata": {
    "collapsed": true
   },
   "outputs": [],
   "source": []
  },
  {
   "cell_type": "markdown",
   "metadata": {},
   "source": [
    "# Übung"
   ]
  },
  {
   "cell_type": "markdown",
   "metadata": {},
   "source": [
    "Wir waren bisher fast immer an den täglichen Schlusskursen interessiert. Nun schauen wir uns mal die täglichen Schwankungen an.\n",
    "\n",
    "Wir bilden eine neue Spalte: Range = Differenz zwischen Tageshoch und -tief, in Prozent, gemessen am Schlusskurs."
   ]
  },
  {
   "cell_type": "code",
   "execution_count": 138,
   "metadata": {},
   "outputs": [],
   "source": [
    "df['Range'] = (df['High'] - df['Low']) / df['Close'] * 100"
   ]
  },
  {
   "cell_type": "code",
   "execution_count": 139,
   "metadata": {},
   "outputs": [
    {
     "data": {
      "text/html": [
       "<div>\n",
       "<style scoped>\n",
       "    .dataframe tbody tr th:only-of-type {\n",
       "        vertical-align: middle;\n",
       "    }\n",
       "\n",
       "    .dataframe tbody tr th {\n",
       "        vertical-align: top;\n",
       "    }\n",
       "\n",
       "    .dataframe thead th {\n",
       "        text-align: right;\n",
       "    }\n",
       "</style>\n",
       "<table border=\"1\" class=\"dataframe\">\n",
       "  <thead>\n",
       "    <tr style=\"text-align: right;\">\n",
       "      <th></th>\n",
       "      <th>Open</th>\n",
       "      <th>Close</th>\n",
       "      <th>High</th>\n",
       "      <th>Low</th>\n",
       "      <th>Range</th>\n",
       "    </tr>\n",
       "  </thead>\n",
       "  <tbody>\n",
       "    <tr>\n",
       "      <th>1989-01-03</th>\n",
       "      <td>1435.8</td>\n",
       "      <td>1466.2</td>\n",
       "      <td>1466.2</td>\n",
       "      <td>1435.8</td>\n",
       "      <td>2.073387</td>\n",
       "    </tr>\n",
       "    <tr>\n",
       "      <th>1989-01-04</th>\n",
       "      <td>1465.9</td>\n",
       "      <td>1471.2</td>\n",
       "      <td>1471.5</td>\n",
       "      <td>1465.7</td>\n",
       "      <td>0.394236</td>\n",
       "    </tr>\n",
       "    <tr>\n",
       "      <th>1989-01-05</th>\n",
       "      <td>1474.4</td>\n",
       "      <td>1488.1</td>\n",
       "      <td>1488.8</td>\n",
       "      <td>1473.7</td>\n",
       "      <td>1.014717</td>\n",
       "    </tr>\n",
       "    <tr>\n",
       "      <th>1989-01-06</th>\n",
       "      <td>1487.4</td>\n",
       "      <td>1487.3</td>\n",
       "      <td>1491.7</td>\n",
       "      <td>1483.4</td>\n",
       "      <td>0.558058</td>\n",
       "    </tr>\n",
       "    <tr>\n",
       "      <th>1989-01-09</th>\n",
       "      <td>1487.6</td>\n",
       "      <td>1493.5</td>\n",
       "      <td>1501.8</td>\n",
       "      <td>1487.3</td>\n",
       "      <td>0.970874</td>\n",
       "    </tr>\n",
       "  </tbody>\n",
       "</table>\n",
       "</div>"
      ],
      "text/plain": [
       "              Open   Close    High     Low     Range\n",
       "1989-01-03  1435.8  1466.2  1466.2  1435.8  2.073387\n",
       "1989-01-04  1465.9  1471.2  1471.5  1465.7  0.394236\n",
       "1989-01-05  1474.4  1488.1  1488.8  1473.7  1.014717\n",
       "1989-01-06  1487.4  1487.3  1491.7  1483.4  0.558058\n",
       "1989-01-09  1487.6  1493.5  1501.8  1487.3  0.970874"
      ]
     },
     "execution_count": 139,
     "metadata": {},
     "output_type": "execute_result"
    }
   ],
   "source": [
    "df.head(5)"
   ]
  },
  {
   "cell_type": "code",
   "execution_count": null,
   "metadata": {
    "collapsed": true
   },
   "outputs": [],
   "source": []
  },
  {
   "cell_type": "markdown",
   "metadata": {},
   "source": [
    "### Beginner"
   ]
  },
  {
   "cell_type": "markdown",
   "metadata": {},
   "source": [
    "Ein paar Fragen zum Aufwärmen.\n",
    "\n",
    "Erstellen Sie einen einfachen Plot mit den täglichen Schwankungswerten, für den gesamten Zeitraum."
   ]
  },
  {
   "cell_type": "code",
   "execution_count": null,
   "metadata": {},
   "outputs": [],
   "source": []
  },
  {
   "cell_type": "markdown",
   "metadata": {},
   "source": [
    "Sieht das in Ordnung aus? Wählen Sie einen besseren Zeitraum, zB ab 1994:"
   ]
  },
  {
   "cell_type": "code",
   "execution_count": null,
   "metadata": {},
   "outputs": [],
   "source": []
  },
  {
   "cell_type": "markdown",
   "metadata": {},
   "source": [
    "Was sehen Sie auf dem Bild? Gab es Phasen, in denen die Schwankungen grösser waren?"
   ]
  },
  {
   "cell_type": "code",
   "execution_count": null,
   "metadata": {
    "collapsed": true
   },
   "outputs": [],
   "source": [
    "# Antwort als Text\n",
    "# "
   ]
  },
  {
   "cell_type": "markdown",
   "metadata": {},
   "source": [
    "Stellen Sie denselben Chart dar, aber mit Schwankungen im Wochenmittel."
   ]
  },
  {
   "cell_type": "code",
   "execution_count": null,
   "metadata": {},
   "outputs": [],
   "source": []
  },
  {
   "cell_type": "markdown",
   "metadata": {},
   "source": [
    "... und im Monatsmittel ..."
   ]
  },
  {
   "cell_type": "code",
   "execution_count": null,
   "metadata": {},
   "outputs": [],
   "source": []
  },
  {
   "cell_type": "markdown",
   "metadata": {},
   "source": [
    "... und im Quartalssmittel."
   ]
  },
  {
   "cell_type": "code",
   "execution_count": null,
   "metadata": {},
   "outputs": [],
   "source": []
  },
  {
   "cell_type": "markdown",
   "metadata": {},
   "source": [
    "Welcher der vorherigen Charts sagt am meisten aus? Warum?"
   ]
  },
  {
   "cell_type": "code",
   "execution_count": null,
   "metadata": {
    "collapsed": true
   },
   "outputs": [],
   "source": [
    "# Antwort in Worten\n",
    "# "
   ]
  },
  {
   "cell_type": "markdown",
   "metadata": {},
   "source": [
    "Plotten Sie die Tagesschwankung an allen Freitagen (immer noch ab 1994)."
   ]
  },
  {
   "cell_type": "code",
   "execution_count": null,
   "metadata": {},
   "outputs": [],
   "source": [
    "df['1994':][df['1994':].index.weekday == 4]['Range'].plot(figsize=(8,4))"
   ]
  },
  {
   "cell_type": "markdown",
   "metadata": {},
   "source": [
    "Vergleichen Sie diesen Chart mit dem Chart der Wochen-Durchschnittswerte. Welchen würden Sie verwenden? Warum?"
   ]
  },
  {
   "cell_type": "code",
   "execution_count": null,
   "metadata": {
    "collapsed": true
   },
   "outputs": [],
   "source": [
    "# Antwort in Worten\n",
    "# "
   ]
  },
  {
   "cell_type": "markdown",
   "metadata": {},
   "source": [
    "### Advanced"
   ]
  },
  {
   "cell_type": "markdown",
   "metadata": {},
   "source": [
    "Unterscheiden sich die Schwankungen je nach Monat? Plot, Daten ab 1994."
   ]
  },
  {
   "cell_type": "code",
   "execution_count": null,
   "metadata": {},
   "outputs": [],
   "source": []
  },
  {
   "cell_type": "code",
   "execution_count": null,
   "metadata": {
    "collapsed": true
   },
   "outputs": [],
   "source": [
    "# Antwort in Worten\n",
    "# "
   ]
  },
  {
   "cell_type": "markdown",
   "metadata": {},
   "source": [
    "Steht die Höhe der Schwankungen in Zusammenhang mit dem Kursstand? Scatterplot, mit sehr kleinen Punkten."
   ]
  },
  {
   "cell_type": "code",
   "execution_count": null,
   "metadata": {},
   "outputs": [],
   "source": []
  },
  {
   "cell_type": "code",
   "execution_count": null,
   "metadata": {
    "collapsed": true
   },
   "outputs": [],
   "source": [
    "# Antwort in Worten\n",
    "# \n",
    "# "
   ]
  },
  {
   "cell_type": "markdown",
   "metadata": {},
   "source": [
    "Erstellen Sie eine Rangliste der zehn Tage, an denen es die grössten Schwankungen gab. (ab 1994)"
   ]
  },
  {
   "cell_type": "code",
   "execution_count": null,
   "metadata": {},
   "outputs": [],
   "source": []
  },
  {
   "cell_type": "markdown",
   "metadata": {},
   "source": [
    "Dieselbe Rangliste, aber mit den Top 100. Plotten Sie diese auf einem Punkte-Diagramm:\n",
    "- x: Zeitachse\n",
    "- y: Höhe des Kurses.\n",
    "\n",
    "Tipp: Attribute `linestyle=`, `marker=`, `markersize=` verwenden.\n",
    "- Siehe https://stackoverflow.com/questions/8409095/matplotlib-set-markers-for-individual-points-on-a-line"
   ]
  },
  {
   "cell_type": "code",
   "execution_count": null,
   "metadata": {},
   "outputs": [],
   "source": []
  },
  {
   "cell_type": "markdown",
   "metadata": {},
   "source": [
    "Ihr Eindruck dieses Charts?"
   ]
  },
  {
   "cell_type": "code",
   "execution_count": null,
   "metadata": {
    "collapsed": true
   },
   "outputs": [],
   "source": [
    "# Antwort in Worten\n",
    "# "
   ]
  },
  {
   "cell_type": "code",
   "execution_count": null,
   "metadata": {
    "collapsed": true
   },
   "outputs": [],
   "source": []
  },
  {
   "cell_type": "markdown",
   "metadata": {},
   "source": [
    "### Pro"
   ]
  },
  {
   "cell_type": "markdown",
   "metadata": {},
   "source": [
    "Kreieren Sie drei Zeitreihen:\n",
    "- Monatliche Serie von Datumsangaben: 1994-01-01, 1994-02-01, etc.\n",
    "- Monatliches Schwankungsmaximum seit 1994\n",
    "- Monatliches Schwankungsminimum seit 1994"
   ]
  },
  {
   "cell_type": "code",
   "execution_count": null,
   "metadata": {
    "collapsed": true
   },
   "outputs": [],
   "source": []
  },
  {
   "cell_type": "markdown",
   "metadata": {},
   "source": [
    "Zeichnen Sie einen Fill-Between-Chart mit den drei Zeitreihen"
   ]
  },
  {
   "cell_type": "code",
   "execution_count": null,
   "metadata": {},
   "outputs": [],
   "source": []
  },
  {
   "cell_type": "markdown",
   "metadata": {},
   "source": [
    "Zeichnen Sie zusätzlich auf dem Chart eine Linie mit den monatlichen Schwankungs-Mittelwerten ein."
   ]
  },
  {
   "cell_type": "code",
   "execution_count": null,
   "metadata": {},
   "outputs": [],
   "source": []
  },
  {
   "cell_type": "code",
   "execution_count": null,
   "metadata": {
    "collapsed": true
   },
   "outputs": [],
   "source": []
  },
  {
   "cell_type": "code",
   "execution_count": null,
   "metadata": {
    "collapsed": true
   },
   "outputs": [],
   "source": []
  }
 ],
 "metadata": {
  "kernelspec": {
   "display_name": "Python 3",
   "language": "python",
   "name": "python3"
  },
  "language_info": {
   "codemirror_mode": {
    "name": "ipython",
    "version": 3
   },
   "file_extension": ".py",
   "mimetype": "text/x-python",
   "name": "python",
   "nbconvert_exporter": "python",
   "pygments_lexer": "ipython3",
   "version": "3.7.0"
  }
 },
 "nbformat": 4,
 "nbformat_minor": 2
}
