{
 "cells": [
  {
   "cell_type": "code",
   "execution_count": 8,
   "metadata": {},
   "outputs": [],
   "source": [
    "import requests\n",
    "from bs4 import BeautifulSoup\n",
    "import pandas as pd"
   ]
  },
  {
   "cell_type": "code",
   "execution_count": 52,
   "metadata": {},
   "outputs": [],
   "source": [
    "r = requests.get('https://www.ecb.europa.eu/home/html/index.en.html')\n",
    "soup = BeautifulSoup(r.text, 'html.parser')\n",
    "alist = []\n",
    "blist = []\n",
    "text = soup.find_all('td', {'class':'stats-table-figure'})\n",
    "percentage = soup.find_all('td', {'class':'stats-table-percentage'})\n",
    "\n",
    "for element1, element2 in zip (text, percentage):\n",
    "    # list in list (replace unwanted characters)\n",
    "    alist.append([element1.text,element2.text.replace(\"\\xa0%\",\"\")])\n",
    "    # dictionary in list (and replace unwanted characters)\n",
    "    minidict = {'Title':element1.text,'Percentage':element2.text.replace('\\xa0','')}\n",
    "    minidict2 = {element1.text, element2.text.replace('\\xa0','')}\n",
    "    blist.append(minidict2)\n",
    "    "
   ]
  },
  {
   "cell_type": "code",
   "execution_count": null,
   "metadata": {},
   "outputs": [],
   "source": []
  },
  {
   "cell_type": "code",
   "execution_count": 53,
   "metadata": {},
   "outputs": [
    {
     "name": "stdout",
     "output_type": "stream",
     "text": [
      "                                          0       1\n",
      "0                 Marginal lending facility    0.25\n",
      "1  Main refinancing operations (fixed rate)    0.00\n",
      "2                          Deposit facility  − 0.40\n",
      "                                          0                          1\n",
      "0                                     0.25%  Marginal lending facility\n",
      "1  Main refinancing operations (fixed rate)                      0.00%\n",
      "2                          Deposit facility                    − 0.40%\n"
     ]
    }
   ],
   "source": [
    "# write to file\n",
    "data = pd.DataFrame(alist)\n",
    "print(data)\n",
    "data.to_csv(\"ezb_list_list.csv\")\n",
    "data2 = pd.DataFrame(blist)\n",
    "print(data2)\n",
    "data2.to_csv(\"ezb_list_dict.csv\")"
   ]
  },
  {
   "cell_type": "code",
   "execution_count": null,
   "metadata": {},
   "outputs": [],
   "source": []
  }
 ],
 "metadata": {
  "kernelspec": {
   "display_name": "Python 3",
   "language": "python",
   "name": "python3"
  },
  "language_info": {
   "codemirror_mode": {
    "name": "ipython",
    "version": 3
   },
   "file_extension": ".py",
   "mimetype": "text/x-python",
   "name": "python",
   "nbconvert_exporter": "python",
   "pygments_lexer": "ipython3",
   "version": "3.7.0"
  }
 },
 "nbformat": 4,
 "nbformat_minor": 2
}
