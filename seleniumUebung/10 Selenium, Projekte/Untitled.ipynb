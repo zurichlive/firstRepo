{
 "cells": [
  {
   "cell_type": "code",
   "execution_count": 47,
   "metadata": {},
   "outputs": [],
   "source": [
    "from selenium import webdriver\n",
    "from selenium.webdriver.common.keys import Keys\n",
    "import requests\n",
    "from bs4 import BeautifulSoup\n",
    "#import requests\n",
    "#import time\n",
    "#import datetime\n",
    "#import pandas as pd\n",
    "#from selenium import webdriver\n",
    "#from selenium.webdriver.common.keys import Keys"
   ]
  },
  {
   "cell_type": "code",
   "execution_count": 5,
   "metadata": {},
   "outputs": [],
   "source": [
    "driver = webdriver.Chrome('/usr/local/bin/chromedriver')"
   ]
  },
  {
   "cell_type": "code",
   "execution_count": 33,
   "metadata": {},
   "outputs": [],
   "source": [
    "driver.get('https://www.vtg.admin.ch/de/die-schweizer-armee/hoehere-stabsoffiziere/hso.html')"
   ]
  },
  {
   "cell_type": "code",
   "execution_count": 40,
   "metadata": {},
   "outputs": [],
   "source": [
    "#driver.find_element_by_class_name('link-list-go js-link-list-go btn')\n",
    "selectors = driver.find_elements_by_id('country_chosen')"
   ]
  },
  {
   "cell_type": "code",
   "execution_count": 41,
   "metadata": {},
   "outputs": [],
   "source": [
    "korpskdt = []\n",
    "divisionaers =[]\n",
    "brigadiers =[]"
   ]
  },
  {
   "cell_type": "code",
   "execution_count": 43,
   "metadata": {},
   "outputs": [
    {
     "name": "stdout",
     "output_type": "stream",
     "text": [
      "Korpskommandant\n",
      "Divisionär\n",
      "Brigadier\n",
      "\n"
     ]
    }
   ],
   "source": [
    "for elem in selectors:\n",
    "    print(elem.text)\n",
    "    #elem.click()\n",
    "    #result_selector = driver.find_element_by_class_name('chosen-results')\n",
    "    #print(result_selector.text)\n",
    "    #elem.click()\n",
    "#selectors[0]\n",
    "print()"
   ]
  },
  {
   "cell_type": "code",
   "execution_count": 48,
   "metadata": {},
   "outputs": [],
   "source": [
    "r = requests.get('https://www.vtg.admin.ch/de/die-schweizer-armee/hoehere-stabsoffiziere/hso.html')\n",
    "soup = BeautifulSoup(r.text, 'html.parser')"
   ]
  },
  {
   "cell_type": "code",
   "execution_count": 60,
   "metadata": {},
   "outputs": [],
   "source": [
    "hso_list = soup.findAll('li',{'class':'active-result'})"
   ]
  },
  {
   "cell_type": "code",
   "execution_count": 63,
   "metadata": {},
   "outputs": [
    {
     "data": {
      "text/plain": [
       "[<li class=\"active-result\" data-option-array-index=\"0\"><a href=\"/de/die-schweizer-armee/hoehere-stabsoffiziere/hso/baumgartner-daniel.html\">Daniel Baumgartner </a></li>,\n",
       " <li class=\"active-result\" data-option-array-index=\"1\"><a href=\"/de/die-schweizer-armee/hoehere-stabsoffiziere/hso/rebord-philippe.html\">Philippe Rebord</a></li>,\n",
       " <li class=\"active-result\" data-option-array-index=\"2\"><a href=\"/de/die-schweizer-armee/hoehere-stabsoffiziere/hso/schellenberg-aldo.html\">Aldo C. Schellenberg </a></li>,\n",
       " <li class=\"active-result\" data-option-array-index=\"0\"><a href=\"/de/die-schweizer-armee/hoehere-stabsoffiziere/hso/bruelisauer-willy.html\">Willy Brülisauer</a></li>,\n",
       " <li class=\"active-result\" data-option-array-index=\"1\"><a href=\"/de/die-schweizer-armee/hoehere-stabsoffiziere/hso/caduff-lucas.html\">Lucas Caduff</a></li>,\n",
       " <li class=\"active-result\" data-option-array-index=\"2\"><a href=\"/de/die-schweizer-armee/hoehere-stabsoffiziere/hso/favre-roland.html\">Roland Favre </a></li>,\n",
       " <li class=\"active-result\" data-option-array-index=\"3\"><a href=\"/de/die-schweizer-armee/hoehere-stabsoffiziere/hso/gauchat-patrick.html\">Patrick Gauchat </a></li>,\n",
       " <li class=\"active-result\" data-option-array-index=\"4\"><a href=\"/de/die-schweizer-armee/hoehere-stabsoffiziere/hso/halter-jean-marc.html\">Jean-Marc Halter </a></li>,\n",
       " <li class=\"active-result\" data-option-array-index=\"5\"><a href=\"/de/die-schweizer-armee/hoehere-stabsoffiziere/hso/kaiser-thomas.html\">Thomas Kaiser</a></li>,\n",
       " <li class=\"active-result\" data-option-array-index=\"6\"><a href=\"/de/die-schweizer-armee/hoehere-stabsoffiziere/hso/keller-daniel.html\">Daniel Keller</a></li>,\n",
       " <li class=\"active-result\" data-option-array-index=\"7\"><a href=\"/de/die-schweizer-armee/hoehere-stabsoffiziere/hso/langel-yvon.html\">Yvon Langel </a></li>,\n",
       " <li class=\"active-result\" data-option-array-index=\"8\"><a href=\"/de/die-schweizer-armee/hoehere-stabsoffiziere/hso/meier-claude.html\">Claude Meier </a></li>,\n",
       " <li class=\"active-result\" data-option-array-index=\"9\"><a href=\"/de/die-schweizer-armee/hoehere-stabsoffiziere/hso/mueller-bernhard.html\">Bernhard Müller </a></li>,\n",
       " <li class=\"active-result\" data-option-array-index=\"10\"><a href=\"/de/die-schweizer-armee/hoehere-stabsoffiziere/hso/siegenthaler-rolf-andre.html\">Rolf André Siegenthaler</a></li>,\n",
       " <li class=\"active-result\" data-option-array-index=\"11\"><a href=\"/de/die-schweizer-armee/hoehere-stabsoffiziere/hso/stettbacher-andreas.html\">Andreas Stettbacher </a></li>,\n",
       " <li class=\"active-result\" data-option-array-index=\"12\"><a href=\"/de/die-schweizer-armee/hoehere-stabsoffiziere/hso/stoller-melchior-albrecht.html\">Melchior Albrecht Stoller </a></li>,\n",
       " <li class=\"active-result\" data-option-array-index=\"13\"><a href=\"/de/die-schweizer-armee/hoehere-stabsoffiziere/hso/suessli-thomas.html\"> Thomas Süssli</a></li>,\n",
       " <li class=\"active-result\" data-option-array-index=\"14\"><a href=\"/de/die-schweizer-armee/hoehere-stabsoffiziere/hso/theler-jean-paul.html\">Jean-Paul Theler </a></li>,\n",
       " <li class=\"active-result\" data-option-array-index=\"15\"><a href=\"/de/die-schweizer-armee/hoehere-stabsoffiziere/hso/walser-hans-peter.html\">Hans-Peter Walser </a></li>,\n",
       " <li class=\"active-result\" data-option-array-index=\"16\"><a href=\"/de/die-schweizer-armee/hoehere-stabsoffiziere/hso/wanner-peter.html\">Peter Wanner </a></li>,\n",
       " <li class=\"active-result\" data-option-array-index=\"17\"><a href=\"/de/die-schweizer-armee/hoehere-stabsoffiziere/hso/wellinger-rene.html\">René Wellinger</a></li>,\n",
       " <li class=\"active-result\" data-option-array-index=\"0\"><a href=\"/de/die-schweizer-armee/hoehere-stabsoffiziere/hso/amstutz-marcel.html\"> Marcel  Amstutz</a></li>,\n",
       " <li class=\"active-result\" data-option-array-index=\"1\"><a href=\"/de/die-schweizer-armee/hoehere-stabsoffiziere/hso/barilli-silvano.html\">Silvano Barilli</a></li>,\n",
       " <li class=\"active-result\" data-option-array-index=\"2\"><a href=\"/de/die-schweizer-armee/hoehere-stabsoffiziere/hso/baumann-rene.html\">René Baumann</a></li>,\n",
       " <li class=\"active-result\" data-option-array-index=\"3\"><a href=\"/de/die-schweizer-armee/hoehere-stabsoffiziere/hso/baumgartner-peter.html\">Peter Baumgartner </a></li>,\n",
       " <li class=\"active-result\" data-option-array-index=\"4\"><a href=\"/de/die-schweizer-armee/hoehere-stabsoffiziere/hso.html\">Yves Charrière (Seite im Aufbau)</a></li>,\n",
       " <li class=\"active-result\" data-option-array-index=\"5\"><a href=\"/de/die-schweizer-armee/hoehere-stabsoffiziere/hso/christen-stefan.html\">Stefan Christen</a></li>,\n",
       " <li class=\"active-result\" data-option-array-index=\"6\"><a href=\"/de/die-schweizer-armee/hoehere-stabsoffiziere/hso/dattrino-maurizio.html\">Maurizio Dattrino </a></li>,\n",
       " <li class=\"active-result\" data-option-array-index=\"7\"><a href=\"/de/die-schweizer-armee/hoehere-stabsoffiziere/hso/droz-raynald.html\">Raynald Droz</a></li>,\n",
       " <li class=\"active-result\" data-option-array-index=\"8\"><a href=\"/de/die-schweizer-armee/hoehere-stabsoffiziere/hso/epper-werner.html\">Werner Epper</a></li>,\n",
       " <li class=\"active-result\" data-option-array-index=\"9\"><a href=\"/de/die-schweizer-armee/hoehere-stabsoffiziere/hso.html\">Markus Ernst (Seite im Aufbau)</a></li>,\n",
       " <li class=\"active-result\" data-option-array-index=\"10\"><a href=\"/de/die-schweizer-armee/hoehere-stabsoffiziere/hso/flachsmann-stefan.html\">Stefan Flachsmann</a></li>,\n",
       " <li class=\"active-result\" data-option-array-index=\"11\"><a href=\"/de/die-schweizer-armee/hoehere-stabsoffiziere/hso/kohli-alexander.html\">Alexander Kohli</a></li>,\n",
       " <li class=\"active-result\" data-option-array-index=\"12\"><a href=\"/de/die-schweizer-armee/hoehere-stabsoffiziere/hso.html\">Stefano Laffranchini (Seite im Aufbau)</a></li>,\n",
       " <li class=\"active-result\" data-option-array-index=\"13\"><a href=\"/de/die-schweizer-armee/hoehere-stabsoffiziere/hso/maeder-markus.html\">Markus A. Mäder </a></li>,\n",
       " <li class=\"active-result\" data-option-array-index=\"14\"><a href=\"/de/die-schweizer-armee/hoehere-stabsoffiziere/hso/metzler-gregor.html\">Gregor Metzler</a></li>,\n",
       " <li class=\"active-result\" data-option-array-index=\"15\"><a href=\"/de/die-schweizer-armee/hoehere-stabsoffiziere/hso/michaud-laurent.html\">Laurent Michaud</a></li>,\n",
       " <li class=\"active-result\" data-option-array-index=\"16\"><a href=\"/de/die-schweizer-armee/hoehere-stabsoffiziere/hso.html\">Markus Näf (Seite im Aufbau)</a></li>,\n",
       " <li class=\"active-result\" data-option-array-index=\"17\"><a href=\"/de/die-schweizer-armee/hoehere-stabsoffiziere/hso/nager-franz.html\">Franz Nager</a></li>,\n",
       " <li class=\"active-result\" data-option-array-index=\"18\"><a href=\"/de/die-schweizer-armee/hoehere-stabsoffiziere/hso/niederberger-heinz.html\">Heinz Niederberger</a></li>,\n",
       " <li class=\"active-result\" data-option-array-index=\"19\"><a href=\"/de/die-schweizer-armee/hoehere-stabsoffiziere/hso/rihs-markus.html\">Markus Rihs</a></li>,\n",
       " <li class=\"active-result\" data-option-array-index=\"20\"><a href=\"/de/die-schweizer-armee/hoehere-stabsoffiziere/hso/roos-benedikt.html\">Benedikt Roos</a></li>,\n",
       " <li class=\"active-result\" data-option-array-index=\"21\"><a href=\"/de/die-schweizer-armee/hoehere-stabsoffiziere/hso/roux-hugo.html\">Hugo Roux</a></li>,\n",
       " <li class=\"active-result\" data-option-array-index=\"22\"><a href=\"/de/die-schweizer-armee/hoehere-stabsoffiziere/hso/ruedin-jacues-frederic.html\">Jacques Frédéric Rüdin</a></li>,\n",
       " <li class=\"active-result\" data-option-array-index=\"23\"><a href=\"/de/die-schweizer-armee/hoehere-stabsoffiziere/hso/schatzmann-hans.html\">Hans Schatzmann</a></li>,\n",
       " <li class=\"active-result\" data-option-array-index=\"24\"><a href=\"/de/die-schweizer-armee/hoehere-stabsoffiziere/hso/schmidlin-marco.html\">Marco Schmidlin</a></li>,\n",
       " <li class=\"active-result\" data-option-array-index=\"25\"><a href=\"/de/die-schweizer-armee/hoehere-stabsoffiziere/hso/seewer-germaine.html\">Germaine J.F. Seewer</a></li>,\n",
       " <li class=\"active-result\" data-option-array-index=\"26\"><a href=\"/de/die-schweizer-armee/hoehere-stabsoffiziere/hso/soller-peter.html\">Peter Soller</a></li>,\n",
       " <li class=\"active-result\" data-option-array-index=\"27\"><a href=\"/de/die-schweizer-armee/hoehere-stabsoffiziere/hso/stocker-peter-candidus.html\">Peter Candidus Stocker </a></li>,\n",
       " <li class=\"active-result\" data-option-array-index=\"28\"><a href=\"/de/die-schweizer-armee/hoehere-stabsoffiziere/hso/tuescher-mathias.html\">Mathias Tüscher</a></li>,\n",
       " <li class=\"active-result\" data-option-array-index=\"29\"><a href=\"/de/die-schweizer-armee/hoehere-stabsoffiziere/hso/vallat-guy.html\">Guy Vallat</a></li>,\n",
       " <li class=\"active-result\" data-option-array-index=\"30\"><a href=\"/de/die-schweizer-armee/hoehere-stabsoffiziere/hso/vuitel-alain.html\">Alain Vuitel</a></li>]"
      ]
     },
     "execution_count": 63,
     "metadata": {},
     "output_type": "execute_result"
    }
   ],
   "source": [
    "hso_list"
   ]
  },
  {
   "cell_type": "code",
   "execution_count": 59,
   "metadata": {},
   "outputs": [
    {
     "data": {
      "text/plain": [
       "[<a class=\"chosen-single\" tabindex=\"-1\"><span>Korpskommandant</span><div><b></b></div></a>,\n",
       " <a class=\"chosen-single\" tabindex=\"-1\"><span>Divisionär</span><div><b></b></div></a>,\n",
       " <a class=\"chosen-single\" tabindex=\"-1\"><span>Brigadier</span><div><b></b></div></a>]"
      ]
     },
     "execution_count": 59,
     "metadata": {},
     "output_type": "execute_result"
    }
   ],
   "source": [
    "hso_list"
   ]
  },
  {
   "cell_type": "code",
   "execution_count": 21,
   "metadata": {},
   "outputs": [
    {
     "data": {
      "text/plain": [
       "'Korpskommandant'"
      ]
     },
     "execution_count": 21,
     "metadata": {},
     "output_type": "execute_result"
    }
   ],
   "source": [
    "selectors[0].text"
   ]
  },
  {
   "cell_type": "code",
   "execution_count": 22,
   "metadata": {},
   "outputs": [],
   "source": [
    "selectors[0].click()"
   ]
  },
  {
   "cell_type": "code",
   "execution_count": 26,
   "metadata": {},
   "outputs": [],
   "source": [
    "result_selector = driver.find_element_by_class_name('chosen-results')"
   ]
  },
  {
   "cell_type": "code",
   "execution_count": 27,
   "metadata": {},
   "outputs": [
    {
     "data": {
      "text/plain": [
       "'Daniel Baumgartner\\nPhilippe Rebord\\nAldo C. Schellenberg'"
      ]
     },
     "execution_count": 27,
     "metadata": {},
     "output_type": "execute_result"
    }
   ],
   "source": [
    "result_selector.text"
   ]
  },
  {
   "cell_type": "code",
   "execution_count": null,
   "metadata": {},
   "outputs": [],
   "source": []
  }
 ],
 "metadata": {
  "kernelspec": {
   "display_name": "Python 3",
   "language": "python",
   "name": "python3"
  },
  "language_info": {
   "codemirror_mode": {
    "name": "ipython",
    "version": 3
   },
   "file_extension": ".py",
   "mimetype": "text/x-python",
   "name": "python",
   "nbconvert_exporter": "python",
   "pygments_lexer": "ipython3",
   "version": "3.7.0"
  }
 },
 "nbformat": 4,
 "nbformat_minor": 2
}
